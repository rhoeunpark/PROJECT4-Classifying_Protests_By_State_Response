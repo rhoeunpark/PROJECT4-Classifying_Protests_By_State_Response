{
 "cells": [
  {
   "cell_type": "markdown",
   "id": "25661914-3358-4796-b7aa-4e5cacf97a2c",
   "metadata": {},
   "source": [
    "# 03_Model Tuning with Categorical Features (2 & 3 Classes)"
   ]
  },
  {
   "cell_type": "markdown",
   "id": "bcdbad86-915b-492b-a23f-7e8211eeeeaa",
   "metadata": {},
   "source": [
    "## Imports"
   ]
  },
  {
   "cell_type": "code",
   "execution_count": 1,
   "id": "7f3f9a18-9cca-4b4a-8808-49321abc4457",
   "metadata": {},
   "outputs": [],
   "source": [
    "import pandas as pd\n",
    "import numpy as np\n",
    "import matplotlib.pyplot as plt\n",
    "import seaborn as sns\n",
    "\n",
    "from sklearn.model_selection import train_test_split\n",
    "from sklearn.linear_model import LogisticRegression\n",
    "from xgboost import XGBClassifier\n",
    "from sklearn.svm import SVC\n",
    "\n",
    "from sklearn.model_selection import GridSearchCV, RandomizedSearchCV\n",
    "\n",
    "from sklearn.utils.class_weight import compute_sample_weight\n",
    "\n",
    "from sklearn.metrics import plot_confusion_matrix, accuracy_score, precision_score, f1_score\n",
    "\n",
    "pd.set_option('display.max_columns', None)\n",
    "\n",
    "import warnings\n",
    "warnings.filterwarnings(\"ignore\")"
   ]
  },
  {
   "cell_type": "markdown",
   "id": "85a0a5f4-304a-44d4-97d4-7a450719a415",
   "metadata": {},
   "source": [
    "## Data"
   ]
  },
  {
   "cell_type": "code",
   "execution_count": 2,
   "id": "665e8117-b9bb-48a7-a4ba-47f99659895c",
   "metadata": {},
   "outputs": [],
   "source": [
    "# OHE dataframe with the year features\n",
    "\n",
    "protests_ohe_w_year = pd.read_csv('../data/protests_ohe_w_year.csv')"
   ]
  },
  {
   "cell_type": "code",
   "execution_count": 3,
   "id": "72d4cbb0-e961-4117-aeff-8834b4dc90b2",
   "metadata": {},
   "outputs": [
    {
     "name": "stdout",
     "output_type": "stream",
     "text": [
      "(15198, 55)\n"
     ]
    },
    {
     "data": {
      "text/html": [
       "<div>\n",
       "<style scoped>\n",
       "    .dataframe tbody tr th:only-of-type {\n",
       "        vertical-align: middle;\n",
       "    }\n",
       "\n",
       "    .dataframe tbody tr th {\n",
       "        vertical-align: top;\n",
       "    }\n",
       "\n",
       "    .dataframe thead th {\n",
       "        text-align: right;\n",
       "    }\n",
       "</style>\n",
       "<table border=\"1\" class=\"dataframe\">\n",
       "  <thead>\n",
       "    <tr style=\"text-align: right;\">\n",
       "      <th></th>\n",
       "      <th>region_Africa</th>\n",
       "      <th>region_Asia</th>\n",
       "      <th>region_Central America</th>\n",
       "      <th>region_Europe</th>\n",
       "      <th>region_MENA</th>\n",
       "      <th>region_North America</th>\n",
       "      <th>region_Oceania</th>\n",
       "      <th>region_South America</th>\n",
       "      <th>year_1990</th>\n",
       "      <th>year_1991</th>\n",
       "      <th>year_1992</th>\n",
       "      <th>year_1993</th>\n",
       "      <th>year_1994</th>\n",
       "      <th>year_1995</th>\n",
       "      <th>year_1996</th>\n",
       "      <th>year_1997</th>\n",
       "      <th>year_1998</th>\n",
       "      <th>year_1999</th>\n",
       "      <th>year_2000</th>\n",
       "      <th>year_2001</th>\n",
       "      <th>year_2002</th>\n",
       "      <th>year_2003</th>\n",
       "      <th>year_2004</th>\n",
       "      <th>year_2005</th>\n",
       "      <th>year_2006</th>\n",
       "      <th>year_2007</th>\n",
       "      <th>year_2008</th>\n",
       "      <th>year_2009</th>\n",
       "      <th>year_2010</th>\n",
       "      <th>year_2011</th>\n",
       "      <th>year_2012</th>\n",
       "      <th>year_2013</th>\n",
       "      <th>year_2014</th>\n",
       "      <th>year_2015</th>\n",
       "      <th>year_2016</th>\n",
       "      <th>year_2017</th>\n",
       "      <th>year_2018</th>\n",
       "      <th>year_2019</th>\n",
       "      <th>year_2020</th>\n",
       "      <th>participants_category_100-999</th>\n",
       "      <th>participants_category_1000-1999</th>\n",
       "      <th>participants_category_2000-4999</th>\n",
       "      <th>participants_category_50-99</th>\n",
       "      <th>participants_category_5000-10000</th>\n",
       "      <th>participants_category_&gt;10000</th>\n",
       "      <th>protesterviolence</th>\n",
       "      <th>demand_political_behavior_process</th>\n",
       "      <th>demand_labor_wage_dispute</th>\n",
       "      <th>demand_police_brutality</th>\n",
       "      <th>demand_social_restrictions</th>\n",
       "      <th>demand_land_farm_issue</th>\n",
       "      <th>demand_politician_removal</th>\n",
       "      <th>demand_price_inc_tax_policy</th>\n",
       "      <th>response_category_2</th>\n",
       "      <th>response_category_3</th>\n",
       "    </tr>\n",
       "  </thead>\n",
       "  <tbody>\n",
       "    <tr>\n",
       "      <th>0</th>\n",
       "      <td>0</td>\n",
       "      <td>0</td>\n",
       "      <td>0</td>\n",
       "      <td>0</td>\n",
       "      <td>0</td>\n",
       "      <td>1</td>\n",
       "      <td>0</td>\n",
       "      <td>0</td>\n",
       "      <td>0</td>\n",
       "      <td>0</td>\n",
       "      <td>0</td>\n",
       "      <td>0</td>\n",
       "      <td>0</td>\n",
       "      <td>0</td>\n",
       "      <td>0</td>\n",
       "      <td>0</td>\n",
       "      <td>0</td>\n",
       "      <td>0</td>\n",
       "      <td>0</td>\n",
       "      <td>0</td>\n",
       "      <td>0</td>\n",
       "      <td>0</td>\n",
       "      <td>0</td>\n",
       "      <td>0</td>\n",
       "      <td>0</td>\n",
       "      <td>0</td>\n",
       "      <td>0</td>\n",
       "      <td>0</td>\n",
       "      <td>0</td>\n",
       "      <td>0</td>\n",
       "      <td>0</td>\n",
       "      <td>0</td>\n",
       "      <td>0</td>\n",
       "      <td>1</td>\n",
       "      <td>0</td>\n",
       "      <td>0</td>\n",
       "      <td>0</td>\n",
       "      <td>0</td>\n",
       "      <td>0</td>\n",
       "      <td>0</td>\n",
       "      <td>0</td>\n",
       "      <td>0</td>\n",
       "      <td>1</td>\n",
       "      <td>0</td>\n",
       "      <td>0</td>\n",
       "      <td>0</td>\n",
       "      <td>1</td>\n",
       "      <td>0</td>\n",
       "      <td>0</td>\n",
       "      <td>0</td>\n",
       "      <td>0</td>\n",
       "      <td>0</td>\n",
       "      <td>0</td>\n",
       "      <td>0</td>\n",
       "      <td>0</td>\n",
       "    </tr>\n",
       "    <tr>\n",
       "      <th>1</th>\n",
       "      <td>0</td>\n",
       "      <td>0</td>\n",
       "      <td>0</td>\n",
       "      <td>0</td>\n",
       "      <td>0</td>\n",
       "      <td>1</td>\n",
       "      <td>0</td>\n",
       "      <td>0</td>\n",
       "      <td>0</td>\n",
       "      <td>0</td>\n",
       "      <td>0</td>\n",
       "      <td>0</td>\n",
       "      <td>0</td>\n",
       "      <td>0</td>\n",
       "      <td>0</td>\n",
       "      <td>0</td>\n",
       "      <td>0</td>\n",
       "      <td>0</td>\n",
       "      <td>0</td>\n",
       "      <td>0</td>\n",
       "      <td>0</td>\n",
       "      <td>0</td>\n",
       "      <td>0</td>\n",
       "      <td>0</td>\n",
       "      <td>0</td>\n",
       "      <td>0</td>\n",
       "      <td>0</td>\n",
       "      <td>0</td>\n",
       "      <td>0</td>\n",
       "      <td>0</td>\n",
       "      <td>0</td>\n",
       "      <td>0</td>\n",
       "      <td>0</td>\n",
       "      <td>0</td>\n",
       "      <td>1</td>\n",
       "      <td>0</td>\n",
       "      <td>0</td>\n",
       "      <td>0</td>\n",
       "      <td>0</td>\n",
       "      <td>1</td>\n",
       "      <td>0</td>\n",
       "      <td>0</td>\n",
       "      <td>0</td>\n",
       "      <td>0</td>\n",
       "      <td>0</td>\n",
       "      <td>0</td>\n",
       "      <td>0</td>\n",
       "      <td>1</td>\n",
       "      <td>0</td>\n",
       "      <td>0</td>\n",
       "      <td>0</td>\n",
       "      <td>0</td>\n",
       "      <td>0</td>\n",
       "      <td>0</td>\n",
       "      <td>0</td>\n",
       "    </tr>\n",
       "    <tr>\n",
       "      <th>2</th>\n",
       "      <td>0</td>\n",
       "      <td>0</td>\n",
       "      <td>0</td>\n",
       "      <td>0</td>\n",
       "      <td>0</td>\n",
       "      <td>1</td>\n",
       "      <td>0</td>\n",
       "      <td>0</td>\n",
       "      <td>0</td>\n",
       "      <td>0</td>\n",
       "      <td>0</td>\n",
       "      <td>0</td>\n",
       "      <td>0</td>\n",
       "      <td>0</td>\n",
       "      <td>0</td>\n",
       "      <td>0</td>\n",
       "      <td>0</td>\n",
       "      <td>0</td>\n",
       "      <td>0</td>\n",
       "      <td>0</td>\n",
       "      <td>0</td>\n",
       "      <td>0</td>\n",
       "      <td>0</td>\n",
       "      <td>0</td>\n",
       "      <td>0</td>\n",
       "      <td>0</td>\n",
       "      <td>0</td>\n",
       "      <td>0</td>\n",
       "      <td>0</td>\n",
       "      <td>0</td>\n",
       "      <td>0</td>\n",
       "      <td>0</td>\n",
       "      <td>0</td>\n",
       "      <td>0</td>\n",
       "      <td>1</td>\n",
       "      <td>0</td>\n",
       "      <td>0</td>\n",
       "      <td>0</td>\n",
       "      <td>0</td>\n",
       "      <td>1</td>\n",
       "      <td>0</td>\n",
       "      <td>0</td>\n",
       "      <td>0</td>\n",
       "      <td>0</td>\n",
       "      <td>0</td>\n",
       "      <td>0</td>\n",
       "      <td>0</td>\n",
       "      <td>1</td>\n",
       "      <td>0</td>\n",
       "      <td>0</td>\n",
       "      <td>0</td>\n",
       "      <td>0</td>\n",
       "      <td>0</td>\n",
       "      <td>0</td>\n",
       "      <td>0</td>\n",
       "    </tr>\n",
       "  </tbody>\n",
       "</table>\n",
       "</div>"
      ],
      "text/plain": [
       "   region_Africa  region_Asia  region_Central America  region_Europe  \\\n",
       "0              0            0                       0              0   \n",
       "1              0            0                       0              0   \n",
       "2              0            0                       0              0   \n",
       "\n",
       "   region_MENA  region_North America  region_Oceania  region_South America  \\\n",
       "0            0                     1               0                     0   \n",
       "1            0                     1               0                     0   \n",
       "2            0                     1               0                     0   \n",
       "\n",
       "   year_1990  year_1991  year_1992  year_1993  year_1994  year_1995  \\\n",
       "0          0          0          0          0          0          0   \n",
       "1          0          0          0          0          0          0   \n",
       "2          0          0          0          0          0          0   \n",
       "\n",
       "   year_1996  year_1997  year_1998  year_1999  year_2000  year_2001  \\\n",
       "0          0          0          0          0          0          0   \n",
       "1          0          0          0          0          0          0   \n",
       "2          0          0          0          0          0          0   \n",
       "\n",
       "   year_2002  year_2003  year_2004  year_2005  year_2006  year_2007  \\\n",
       "0          0          0          0          0          0          0   \n",
       "1          0          0          0          0          0          0   \n",
       "2          0          0          0          0          0          0   \n",
       "\n",
       "   year_2008  year_2009  year_2010  year_2011  year_2012  year_2013  \\\n",
       "0          0          0          0          0          0          0   \n",
       "1          0          0          0          0          0          0   \n",
       "2          0          0          0          0          0          0   \n",
       "\n",
       "   year_2014  year_2015  year_2016  year_2017  year_2018  year_2019  \\\n",
       "0          0          1          0          0          0          0   \n",
       "1          0          0          1          0          0          0   \n",
       "2          0          0          1          0          0          0   \n",
       "\n",
       "   year_2020  participants_category_100-999  participants_category_1000-1999  \\\n",
       "0          0                              0                                0   \n",
       "1          0                              1                                0   \n",
       "2          0                              1                                0   \n",
       "\n",
       "   participants_category_2000-4999  participants_category_50-99  \\\n",
       "0                                0                            1   \n",
       "1                                0                            0   \n",
       "2                                0                            0   \n",
       "\n",
       "   participants_category_5000-10000  participants_category_>10000  \\\n",
       "0                                 0                             0   \n",
       "1                                 0                             0   \n",
       "2                                 0                             0   \n",
       "\n",
       "   protesterviolence  demand_political_behavior_process  \\\n",
       "0                  0                                  1   \n",
       "1                  0                                  0   \n",
       "2                  0                                  0   \n",
       "\n",
       "   demand_labor_wage_dispute  demand_police_brutality  \\\n",
       "0                          0                        0   \n",
       "1                          1                        0   \n",
       "2                          1                        0   \n",
       "\n",
       "   demand_social_restrictions  demand_land_farm_issue  \\\n",
       "0                           0                       0   \n",
       "1                           0                       0   \n",
       "2                           0                       0   \n",
       "\n",
       "   demand_politician_removal  demand_price_inc_tax_policy  \\\n",
       "0                          0                            0   \n",
       "1                          0                            0   \n",
       "2                          0                            0   \n",
       "\n",
       "   response_category_2  response_category_3  \n",
       "0                    0                    0  \n",
       "1                    0                    0  \n",
       "2                    0                    0  "
      ]
     },
     "execution_count": 3,
     "metadata": {},
     "output_type": "execute_result"
    }
   ],
   "source": [
    "print(protests_ohe_w_year.shape)\n",
    "protests_ohe_w_year.head(3)"
   ]
  },
  {
   "cell_type": "code",
   "execution_count": 4,
   "id": "f326acb4-6fd3-4625-b82c-734eb7dfd1b8",
   "metadata": {},
   "outputs": [],
   "source": [
    "# OHE dataframe without the year features\n",
    "\n",
    "protests_ohe_wo_year = pd.read_csv('../data/protests_ohe_wo_year.csv')"
   ]
  },
  {
   "cell_type": "code",
   "execution_count": 5,
   "id": "78f3f38e-96c8-47c2-9d0d-16268bba6907",
   "metadata": {},
   "outputs": [
    {
     "name": "stdout",
     "output_type": "stream",
     "text": [
      "(15198, 24)\n"
     ]
    },
    {
     "data": {
      "text/html": [
       "<div>\n",
       "<style scoped>\n",
       "    .dataframe tbody tr th:only-of-type {\n",
       "        vertical-align: middle;\n",
       "    }\n",
       "\n",
       "    .dataframe tbody tr th {\n",
       "        vertical-align: top;\n",
       "    }\n",
       "\n",
       "    .dataframe thead th {\n",
       "        text-align: right;\n",
       "    }\n",
       "</style>\n",
       "<table border=\"1\" class=\"dataframe\">\n",
       "  <thead>\n",
       "    <tr style=\"text-align: right;\">\n",
       "      <th></th>\n",
       "      <th>region_Africa</th>\n",
       "      <th>region_Asia</th>\n",
       "      <th>region_Central America</th>\n",
       "      <th>region_Europe</th>\n",
       "      <th>region_MENA</th>\n",
       "      <th>region_North America</th>\n",
       "      <th>region_Oceania</th>\n",
       "      <th>region_South America</th>\n",
       "      <th>participants_category_100-999</th>\n",
       "      <th>participants_category_1000-1999</th>\n",
       "      <th>participants_category_2000-4999</th>\n",
       "      <th>participants_category_50-99</th>\n",
       "      <th>participants_category_5000-10000</th>\n",
       "      <th>participants_category_&gt;10000</th>\n",
       "      <th>protesterviolence</th>\n",
       "      <th>demand_political_behavior_process</th>\n",
       "      <th>demand_labor_wage_dispute</th>\n",
       "      <th>demand_police_brutality</th>\n",
       "      <th>demand_social_restrictions</th>\n",
       "      <th>demand_land_farm_issue</th>\n",
       "      <th>demand_politician_removal</th>\n",
       "      <th>demand_price_inc_tax_policy</th>\n",
       "      <th>response_category_2</th>\n",
       "      <th>response_category_3</th>\n",
       "    </tr>\n",
       "  </thead>\n",
       "  <tbody>\n",
       "    <tr>\n",
       "      <th>0</th>\n",
       "      <td>0</td>\n",
       "      <td>0</td>\n",
       "      <td>0</td>\n",
       "      <td>0</td>\n",
       "      <td>0</td>\n",
       "      <td>1</td>\n",
       "      <td>0</td>\n",
       "      <td>0</td>\n",
       "      <td>0</td>\n",
       "      <td>0</td>\n",
       "      <td>0</td>\n",
       "      <td>1</td>\n",
       "      <td>0</td>\n",
       "      <td>0</td>\n",
       "      <td>0</td>\n",
       "      <td>1</td>\n",
       "      <td>0</td>\n",
       "      <td>0</td>\n",
       "      <td>0</td>\n",
       "      <td>0</td>\n",
       "      <td>0</td>\n",
       "      <td>0</td>\n",
       "      <td>0</td>\n",
       "      <td>0</td>\n",
       "    </tr>\n",
       "    <tr>\n",
       "      <th>1</th>\n",
       "      <td>0</td>\n",
       "      <td>0</td>\n",
       "      <td>0</td>\n",
       "      <td>0</td>\n",
       "      <td>0</td>\n",
       "      <td>1</td>\n",
       "      <td>0</td>\n",
       "      <td>0</td>\n",
       "      <td>1</td>\n",
       "      <td>0</td>\n",
       "      <td>0</td>\n",
       "      <td>0</td>\n",
       "      <td>0</td>\n",
       "      <td>0</td>\n",
       "      <td>0</td>\n",
       "      <td>0</td>\n",
       "      <td>1</td>\n",
       "      <td>0</td>\n",
       "      <td>0</td>\n",
       "      <td>0</td>\n",
       "      <td>0</td>\n",
       "      <td>0</td>\n",
       "      <td>0</td>\n",
       "      <td>0</td>\n",
       "    </tr>\n",
       "    <tr>\n",
       "      <th>2</th>\n",
       "      <td>0</td>\n",
       "      <td>0</td>\n",
       "      <td>0</td>\n",
       "      <td>0</td>\n",
       "      <td>0</td>\n",
       "      <td>1</td>\n",
       "      <td>0</td>\n",
       "      <td>0</td>\n",
       "      <td>1</td>\n",
       "      <td>0</td>\n",
       "      <td>0</td>\n",
       "      <td>0</td>\n",
       "      <td>0</td>\n",
       "      <td>0</td>\n",
       "      <td>0</td>\n",
       "      <td>0</td>\n",
       "      <td>1</td>\n",
       "      <td>0</td>\n",
       "      <td>0</td>\n",
       "      <td>0</td>\n",
       "      <td>0</td>\n",
       "      <td>0</td>\n",
       "      <td>0</td>\n",
       "      <td>0</td>\n",
       "    </tr>\n",
       "  </tbody>\n",
       "</table>\n",
       "</div>"
      ],
      "text/plain": [
       "   region_Africa  region_Asia  region_Central America  region_Europe  \\\n",
       "0              0            0                       0              0   \n",
       "1              0            0                       0              0   \n",
       "2              0            0                       0              0   \n",
       "\n",
       "   region_MENA  region_North America  region_Oceania  region_South America  \\\n",
       "0            0                     1               0                     0   \n",
       "1            0                     1               0                     0   \n",
       "2            0                     1               0                     0   \n",
       "\n",
       "   participants_category_100-999  participants_category_1000-1999  \\\n",
       "0                              0                                0   \n",
       "1                              1                                0   \n",
       "2                              1                                0   \n",
       "\n",
       "   participants_category_2000-4999  participants_category_50-99  \\\n",
       "0                                0                            1   \n",
       "1                                0                            0   \n",
       "2                                0                            0   \n",
       "\n",
       "   participants_category_5000-10000  participants_category_>10000  \\\n",
       "0                                 0                             0   \n",
       "1                                 0                             0   \n",
       "2                                 0                             0   \n",
       "\n",
       "   protesterviolence  demand_political_behavior_process  \\\n",
       "0                  0                                  1   \n",
       "1                  0                                  0   \n",
       "2                  0                                  0   \n",
       "\n",
       "   demand_labor_wage_dispute  demand_police_brutality  \\\n",
       "0                          0                        0   \n",
       "1                          1                        0   \n",
       "2                          1                        0   \n",
       "\n",
       "   demand_social_restrictions  demand_land_farm_issue  \\\n",
       "0                           0                       0   \n",
       "1                           0                       0   \n",
       "2                           0                       0   \n",
       "\n",
       "   demand_politician_removal  demand_price_inc_tax_policy  \\\n",
       "0                          0                            0   \n",
       "1                          0                            0   \n",
       "2                          0                            0   \n",
       "\n",
       "   response_category_2  response_category_3  \n",
       "0                    0                    0  \n",
       "1                    0                    0  \n",
       "2                    0                    0  "
      ]
     },
     "execution_count": 5,
     "metadata": {},
     "output_type": "execute_result"
    }
   ],
   "source": [
    "print(protests_ohe_wo_year.shape)\n",
    "protests_ohe_wo_year.head(3)"
   ]
  },
  {
   "cell_type": "markdown",
   "id": "bc49bd67-70c7-4f6f-a119-90149c6054d7",
   "metadata": {},
   "source": [
    "_______\n",
    "## **#1. Modeling 2 Classes (with YEAR data)**"
   ]
  },
  {
   "cell_type": "code",
   "execution_count": 6,
   "id": "a3062c6a-af4e-4bdf-a6fb-f4817d5a4159",
   "metadata": {},
   "outputs": [],
   "source": [
    "X2_year = protests_ohe_w_year.drop(columns=['response_category_2','response_category_3'])\n",
    "y2_year = protests_ohe_w_year['response_category_2']"
   ]
  },
  {
   "cell_type": "code",
   "execution_count": 7,
   "id": "22a164e7-c30a-432c-a8b4-572b195aa33f",
   "metadata": {},
   "outputs": [],
   "source": [
    "# Train/test split\n",
    "\n",
    "X2_year_train, X2_year_test, y2_year_train, y2_year_test = train_test_split(X2_year, y2_year, test_size=0.2, random_state=42, stratify=y2_year)"
   ]
  },
  {
   "cell_type": "code",
   "execution_count": 8,
   "id": "a568f817-6cfe-4bb0-8098-4c3cf4bd148b",
   "metadata": {},
   "outputs": [
    {
     "name": "stdout",
     "output_type": "stream",
     "text": [
      "0    0.772166\n",
      "1    0.227834\n",
      "Name: response_category_2, dtype: float64\n",
      "0    0.772368\n",
      "1    0.227632\n",
      "Name: response_category_2, dtype: float64\n"
     ]
    }
   ],
   "source": [
    "print(y2_year_train.value_counts(normalize=True))\n",
    "print(y2_year_test.value_counts(normalize=True))"
   ]
  },
  {
   "cell_type": "markdown",
   "id": "55c4500e-28de-4179-930b-e85606636a8f",
   "metadata": {},
   "source": [
    "### Logisitic Regression"
   ]
  },
  {
   "cell_type": "code",
   "execution_count": 10,
   "id": "eca9b6bf-810a-4763-bf6d-76cbe7f13225",
   "metadata": {},
   "outputs": [],
   "source": [
    "logr2_year_params = {\n",
    "    'penalty': ['none','l1','l2','elasticnet'], \n",
    "    'C': [1, 5, 10], \n",
    "    'solver': ['liblinear','lbfgs','newton-cg','sag','saga']\n",
    "}"
   ]
  },
  {
   "cell_type": "code",
   "execution_count": 11,
   "id": "e1cf5eca-0c71-4ca0-8878-4131de529f26",
   "metadata": {},
   "outputs": [],
   "source": [
    "logr2_year_gs = GridSearchCV(\n",
    "    estimator = LogisticRegression(class_weight = 'balanced',random_state = 42), \n",
    "    param_grid = logr2_year_params,\n",
    "    cv = 3\n",
    ")"
   ]
  },
  {
   "cell_type": "code",
   "execution_count": 12,
   "id": "236486d4-3671-437a-82bb-20950505d1b8",
   "metadata": {},
   "outputs": [
    {
     "name": "stdout",
     "output_type": "stream",
     "text": [
      "\n",
      "Best Params: {'C': 1, 'penalty': 'l1', 'solver': 'liblinear'}\n",
      "Train Accuracy: 0.7587596644184899\n",
      "Test Accuracy: 0.749671052631579\n"
     ]
    }
   ],
   "source": [
    "logr2_year_gs.fit(X2_year_train, y2_year_train)\n",
    "\n",
    "print('')\n",
    "print('Best Params: ' + str(logr2_year_gs.best_params_))\n",
    "print('Train Accuracy: ' + str(logr2_year_gs.score(X2_year_train, y2_year_train)))\n",
    "print('Test Accuracy: ' + str(logr2_year_gs.score(X2_year_test, y2_year_test)))"
   ]
  },
  {
   "cell_type": "code",
   "execution_count": 13,
   "id": "a96c9d4d-ff92-4211-a79e-87577506d00c",
   "metadata": {},
   "outputs": [],
   "source": [
    "logr2_year_gs_pred = logr2_year_gs.predict(X2_year_test)"
   ]
  },
  {
   "cell_type": "code",
   "execution_count": 14,
   "id": "1a44a830-9b1e-4118-96e8-96bd7df8a8aa",
   "metadata": {},
   "outputs": [
    {
     "data": {
      "image/png": "[encoded data removed]",
      "text/plain": [
       "<Figure size 432x288 with 2 Axes>"
      ]
     },
     "metadata": {
      "needs_background": "light"
     },
     "output_type": "display_data"
    }
   ],
   "source": [
    "plot_confusion_matrix(logr2_year_gs, X2_year_test, y2_year_test, cmap='Blues', values_format='d', display_labels=['0',  '1']);"
   ]
  },
  {
   "cell_type": "code",
   "execution_count": 15,
   "id": "83b54e2b-9f78-43a3-8430-717c4d379bef",
   "metadata": {},
   "outputs": [
    {
     "name": "stdout",
     "output_type": "stream",
     "text": [
      "Test Precision: 0.4631803628601921\n"
     ]
    }
   ],
   "source": [
    "print('Test Precision: ' + str(precision_score(y2_year_test, logr2_year_gs_pred)))"
   ]
  },
  {
   "cell_type": "markdown",
   "id": "1f76955e-8a49-4dd9-93b8-93c8b7554391",
   "metadata": {},
   "source": [
    "For 2 classes and with year data, Logisitic Regression hardly did better than the baseline model. The baseline model achieved a 0.749342 test accuracy and a 0.462687 precision score. This tuned model achieved 0.74967 test accuracy and 0.46318 precision score."
   ]
  },
  {
   "cell_type": "markdown",
   "id": "6d635ecd-f02d-45ca-bf7d-a8c92f561a84",
   "metadata": {},
   "source": [
    "### XGBoost"
   ]
  },
  {
   "cell_type": "code",
   "execution_count": 16,
   "id": "8599911f-df5d-4d29-8204-0dd491bc5b63",
   "metadata": {},
   "outputs": [],
   "source": [
    "xgb2_year_params = {\n",
    "    'booster': ['gbtree','dart'],\n",
    "    'learning_rate': [0.3, 0.7],\n",
    "    'max_depth': [4, 6],\n",
    "    'lambda': [0, 1],\n",
    "    'alpha': [0, 1],\n",
    "    'n_estimators': [10, 50]\n",
    "}"
   ]
  },
  {
   "cell_type": "code",
   "execution_count": 17,
   "id": "7447bee6-28f4-4291-a082-498181e4d4c5",
   "metadata": {},
   "outputs": [],
   "source": [
    "xgb2_year_rs = RandomizedSearchCV(\n",
    "    estimator = XGBClassifier(scale_pos_weight = 3.38, random_state = 42),\n",
    "    param_distributions = xgb2_year_params,\n",
    "    cv = 3,\n",
    "    random_state = 42\n",
    ")"
   ]
  },
  {
   "cell_type": "code",
   "execution_count": 18,
   "id": "d8732aa5-820c-4ee3-ab50-e3721d7adfd6",
   "metadata": {},
   "outputs": [
    {
     "name": "stdout",
     "output_type": "stream",
     "text": [
      "\n",
      "Best Params: {'n_estimators': 10, 'max_depth': 6, 'learning_rate': 0.3, 'lambda': 1, 'booster': 'dart', 'alpha': 1}\n",
      "Train Accuracy: 0.7759499917749629\n",
      "Test Accuracy: 0.7605263157894737\n"
     ]
    }
   ],
   "source": [
    "xgb2_year_rs.fit(X2_year_train, y2_year_train)\n",
    "\n",
    "print('')\n",
    "print('Best Params: ' + str(xgb2_year_rs.best_params_))\n",
    "print('Train Accuracy: ' + str(xgb2_year_rs.score(X2_year_train, y2_year_train)))\n",
    "print('Test Accuracy: ' + str(xgb2_year_rs.score(X2_year_test, y2_year_test)))"
   ]
  },
  {
   "cell_type": "code",
   "execution_count": 19,
   "id": "9b96461d-b607-4f93-8492-d8ac98c956be",
   "metadata": {},
   "outputs": [],
   "source": [
    "xgb2_year_rs_pred = xgb2_year_rs.predict(X2_year_test)"
   ]
  },
  {
   "cell_type": "code",
   "execution_count": 20,
   "id": "7d57e445-d507-46c0-96c9-54f76f9c5672",
   "metadata": {},
   "outputs": [
    {
     "data": {
      "image/png": "[encoded data removed]",
      "text/plain": [
       "<Figure size 432x288 with 2 Axes>"
      ]
     },
     "metadata": {
      "needs_background": "light"
     },
     "output_type": "display_data"
    }
   ],
   "source": [
    "plot_confusion_matrix(xgb2_year_rs, X2_year_test, y2_year_test, cmap='Blues', values_format='d', display_labels=['0', '1']);"
   ]
  },
  {
   "cell_type": "code",
   "execution_count": 21,
   "id": "64e93ca8-3941-423e-95f0-d9978b026fde",
   "metadata": {},
   "outputs": [
    {
     "name": "stdout",
     "output_type": "stream",
     "text": [
      "Test Precision: 0.48060344827586204\n"
     ]
    }
   ],
   "source": [
    "print('Test Precision: ' + str(precision_score(y2_year_test, xgb2_year_rs_pred)))"
   ]
  },
  {
   "cell_type": "markdown",
   "id": "ff95c871-1a6b-4a58-851d-73db014ef545",
   "metadata": {},
   "source": [
    "For 2 classes and with year data, XGBoost hardly did a little better than the baseline model. The baseline model achieved a 0.754934 test accuracy and a 0.472987 precision score. This tuned model achieved 0.76052 test accuracy and 0.48060 precision score."
   ]
  },
  {
   "cell_type": "markdown",
   "id": "6949e3d0-19e7-45b6-a0d7-22f079defe76",
   "metadata": {},
   "source": [
    "### Support Vector Classifier"
   ]
  },
  {
   "cell_type": "code",
   "execution_count": 22,
   "id": "3cb2d245-0751-4307-a96d-884b206978b2",
   "metadata": {},
   "outputs": [],
   "source": [
    "svc2_year_params = {\n",
    "    'C': [1.0, 2.0],\n",
    "    'kernel': ['poly','rbf','sigmoid'],\n",
    "    'degree': [2, 3],\n",
    "    'gamma': ['scale','auto'],\n",
    "    'coef0': [0.0, 1.0]\n",
    "}"
   ]
  },
  {
   "cell_type": "code",
   "execution_count": 23,
   "id": "97dade87-31df-46e4-9b97-78e94dca0f25",
   "metadata": {},
   "outputs": [],
   "source": [
    "svc2_year_rs = RandomizedSearchCV(\n",
    "    estimator = SVC(class_weight = 'balanced', random_state = 42),\n",
    "    param_distributions = svc2_year_params,\n",
    "    cv = 3,\n",
    "    random_state = 42\n",
    ")"
   ]
  },
  {
   "cell_type": "code",
   "execution_count": 25,
   "id": "8a3de05e-198f-474e-9ebe-6294f9e684e1",
   "metadata": {},
   "outputs": [
    {
     "name": "stdout",
     "output_type": "stream",
     "text": [
      "\n",
      "Best Params: {'kernel': 'poly', 'gamma': 'auto', 'degree': 2, 'coef0': 0.0, 'C': 2.0}\n",
      "Train Accuracy: 0.7768547458463563\n",
      "Test Accuracy: 0.7713815789473685\n"
     ]
    }
   ],
   "source": [
    "svc2_year_rs.fit(X2_year_train, y2_year_train)\n",
    "\n",
    "print('')\n",
    "print('Best Params: ' + str(svc2_year_rs.best_params_))\n",
    "print('Train Accuracy: ' + str(svc2_year_rs.score(X2_year_train, y2_year_train)))\n",
    "print('Test Accuracy: ' + str(svc2_year_rs.score(X2_year_test, y2_year_test)))"
   ]
  },
  {
   "cell_type": "code",
   "execution_count": 26,
   "id": "6964a0b4-9f5e-4010-a970-216970193fef",
   "metadata": {},
   "outputs": [],
   "source": [
    "svc2_year_rs_pred = svc2_year_rs.predict(X2_year_test)"
   ]
  },
  {
   "cell_type": "code",
   "execution_count": 27,
   "id": "92ba3d79-4571-42bc-8391-b1952106fde3",
   "metadata": {},
   "outputs": [
    {
     "data": {
      "image/png": "[encoded data removed]",
      "text/plain": [
       "<Figure size 432x288 with 2 Axes>"
      ]
     },
     "metadata": {
      "needs_background": "light"
     },
     "output_type": "display_data"
    }
   ],
   "source": [
    "plot_confusion_matrix(svc2_year_rs, X2_year_test, y2_year_test, cmap='Blues', values_format='d', display_labels=['0', '1']);"
   ]
  },
  {
   "cell_type": "code",
   "execution_count": 28,
   "id": "7552330f-fe09-4fcc-8690-f7af17aae65b",
   "metadata": {},
   "outputs": [
    {
     "name": "stdout",
     "output_type": "stream",
     "text": [
      "Test Precision: 0.49817739975698666\n"
     ]
    }
   ],
   "source": [
    "print('Test Precision: ' + str(precision_score(y2_year_test, svc2_year_rs_pred)))"
   ]
  },
  {
   "cell_type": "markdown",
   "id": "1216d94d-0e7b-43cd-af66-bf70faf5b996",
   "metadata": {},
   "source": [
    "For 2 classes and with year data, Support Vector Classifier had more noticable improvement in comparison to the baseline model. The baseline model achieved a 0.751974 test accuracy and a 0.468876 precision score. This tuned model achieved 0.77138 test accuracy and 0.49817 precision score."
   ]
  },
  {
   "cell_type": "markdown",
   "id": "56f94d95-21ad-4452-84ca-2c04cc9e22c1",
   "metadata": {},
   "source": [
    "**The best performer for modeling 2 classes with year data: Support Vector Classifier - Test Accuracy: .771 / Precision: .498**"
   ]
  },
  {
   "cell_type": "markdown",
   "id": "e2f9b7f6-db9d-4e78-85c9-01d88c6a7b90",
   "metadata": {},
   "source": [
    "_______\n",
    "## **#2. Modeling 3 Classes (with YEAR data)**"
   ]
  },
  {
   "cell_type": "code",
   "execution_count": 30,
   "id": "4465882c-338b-408b-a800-89ebc6db8f87",
   "metadata": {},
   "outputs": [],
   "source": [
    "X3_year = protests_ohe_w_year.drop(columns=['response_category_2','response_category_3'])\n",
    "y3_year = protests_ohe_w_year['response_category_3']"
   ]
  },
  {
   "cell_type": "code",
   "execution_count": 31,
   "id": "282e6e25-9dec-42d2-b6b8-dd9336bfd5eb",
   "metadata": {},
   "outputs": [],
   "source": [
    "# Train/test split\n",
    "\n",
    "X3_year_train, X3_year_test, y3_year_train, y3_year_test = train_test_split(X3_year, y3_year, test_size=0.2, random_state=42, stratify=y3_year)"
   ]
  },
  {
   "cell_type": "code",
   "execution_count": 32,
   "id": "1ae0f493-e60b-4647-b704-1d70d4e5e3f3",
   "metadata": {},
   "outputs": [
    {
     "name": "stdout",
     "output_type": "stream",
     "text": [
      "0    0.525333\n",
      "1    0.246833\n",
      "2    0.227834\n",
      "Name: response_category_3, dtype: float64\n",
      "0    0.525329\n",
      "1    0.247039\n",
      "2    0.227632\n",
      "Name: response_category_3, dtype: float64\n"
     ]
    }
   ],
   "source": [
    "print(y3_year_train.value_counts(normalize=True))\n",
    "print(y3_year_test.value_counts(normalize=True))"
   ]
  },
  {
   "cell_type": "markdown",
   "id": "70c16400-e107-4730-91e1-02ad616ff9c3",
   "metadata": {},
   "source": [
    "### XGBoost"
   ]
  },
  {
   "cell_type": "code",
   "execution_count": 33,
   "id": "1c7b3e0a-c13c-4b0c-8467-8183aa637bc7",
   "metadata": {},
   "outputs": [],
   "source": [
    "xgb3_year_params = {\n",
    "    'booster': ['gbtree','dart'],\n",
    "    'learning_rate': [0.1, 0.3, 0.5],\n",
    "    'max_depth': [4, 6, 10],\n",
    "    'lambda': [0, 1],\n",
    "    'alpha': [0, 1],\n",
    "    'n_estimators': [10, 50, 100]\n",
    "}"
   ]
  },
  {
   "cell_type": "code",
   "execution_count": 34,
   "id": "325a3f4a-3eb9-469e-b706-69f7edf84006",
   "metadata": {},
   "outputs": [],
   "source": [
    "xgb3_year_rs = RandomizedSearchCV(\n",
    "    estimator = XGBClassifier(random_state = 42),\n",
    "    param_distributions = xgb3_year_params,\n",
    "    cv = 3,\n",
    "    random_state = 42\n",
    ")"
   ]
  },
  {
   "cell_type": "code",
   "execution_count": 35,
   "id": "c25d4d66-dd39-4a58-a661-fb504849a04c",
   "metadata": {},
   "outputs": [
    {
     "name": "stdout",
     "output_type": "stream",
     "text": [
      "\n",
      "Best Params: {'n_estimators': 10, 'max_depth': 6, 'learning_rate': 0.3, 'lambda': 1, 'booster': 'dart', 'alpha': 1}\n",
      "Train Accuracy: 0.6461589077150847\n",
      "Test Accuracy: 0.6302631578947369\n"
     ]
    }
   ],
   "source": [
    "xgb3_year_rs.fit(X3_year_train, y3_year_train, sample_weight = compute_sample_weight('balanced', y3_year_train))\n",
    "\n",
    "print('')\n",
    "print('Best Params: ' + str(xgb3_year_rs.best_params_))\n",
    "print('Train Accuracy: ' + str(xgb3_year_rs.score(X3_year_train, y3_year_train)))\n",
    "print('Test Accuracy: ' + str(xgb3_year_rs.score(X3_year_test, y3_year_test)))"
   ]
  },
  {
   "cell_type": "code",
   "execution_count": 36,
   "id": "48c318a1-a24e-49b9-b253-93776698376a",
   "metadata": {},
   "outputs": [],
   "source": [
    "xgb3_year_rs_pred = xgb3_year_rs.predict(X3_year_test)"
   ]
  },
  {
   "cell_type": "code",
   "execution_count": 37,
   "id": "bf4e96fe-43a5-400d-8a32-ba0d1320f0d9",
   "metadata": {},
   "outputs": [
    {
     "data": {
      "image/png": "[encoded data removed]",
      "text/plain": [
       "<Figure size 432x288 with 2 Axes>"
      ]
     },
     "metadata": {
      "needs_background": "light"
     },
     "output_type": "display_data"
    }
   ],
   "source": [
    "plot_confusion_matrix(xgb3_year_rs, X3_year_test, y3_year_test, cmap='Blues', values_format='d', display_labels=['0', '1', '2']);"
   ]
  },
  {
   "cell_type": "code",
   "execution_count": 38,
   "id": "cbb2e58c-c152-40d8-a01d-0efe06d9674f",
   "metadata": {},
   "outputs": [
    {
     "name": "stdout",
     "output_type": "stream",
     "text": [
      "Test Precision: 0.5392022008253095\n"
     ]
    }
   ],
   "source": [
    "print('Test Precision: ' + str(precision_score(y3_year_test, xgb3_year_rs_pred, average = 'weighted', labels = [2])))"
   ]
  },
  {
   "cell_type": "markdown",
   "id": "7dcc6ad9-2233-4844-a90c-36028c30d5c5",
   "metadata": {},
   "source": [
    "For 3 classes and with year data, XGBoost performed worse than the baseline model. The baseline model achieved a 0.640132 test accuracy and a 0.611746 precision score. This tuned model achieved 0.63026 test accuracy and 0.53920 precision score."
   ]
  },
  {
   "cell_type": "markdown",
   "id": "bd839420-c554-405f-b301-eaf734a14cc1",
   "metadata": {},
   "source": [
    "### Support Vector Classifier"
   ]
  },
  {
   "cell_type": "code",
   "execution_count": 39,
   "id": "d5db4576-a0c0-40d1-9e56-614774bbf537",
   "metadata": {},
   "outputs": [],
   "source": [
    "svc3_year_params = {\n",
    "    'C': [1.0, 2.0],\n",
    "    'kernel': ['poly','rbf','sigmoid'],\n",
    "    'degree': [2,3],\n",
    "    'gamma': ['scale','auto'],\n",
    "    'coef0': [0.0, 1.0]\n",
    "}"
   ]
  },
  {
   "cell_type": "code",
   "execution_count": 40,
   "id": "63b5dae4-bbdd-4d92-b88e-69437a17d5ad",
   "metadata": {},
   "outputs": [],
   "source": [
    "svc3_year_rs = RandomizedSearchCV(\n",
    "    estimator = SVC(class_weight = 'balanced', random_state = 42),\n",
    "    param_distributions = svc2_year_params,\n",
    "    cv = 3,\n",
    "    random_state = 42\n",
    ")"
   ]
  },
  {
   "cell_type": "code",
   "execution_count": 41,
   "id": "d091a536-2ca5-45d5-abd1-413dcfa867a5",
   "metadata": {},
   "outputs": [
    {
     "name": "stdout",
     "output_type": "stream",
     "text": [
      "\n",
      "Best Params: {'kernel': 'poly', 'gamma': 'auto', 'degree': 2, 'coef0': 0.0, 'C': 2.0}\n",
      "Train Accuracy: 0.6329988484948182\n",
      "Test Accuracy: 0.6332236842105263\n"
     ]
    }
   ],
   "source": [
    "svc3_year_rs.fit(X3_year_train, y3_year_train)\n",
    "\n",
    "print('')\n",
    "print('Best Params: ' + str(svc3_year_rs.best_params_))\n",
    "print('Train Accuracy: ' + str(svc3_year_rs.score(X3_year_train, y3_year_train)))\n",
    "print('Test Accuracy: ' + str(svc3_year_rs.score(X3_year_test, y3_year_test)))"
   ]
  },
  {
   "cell_type": "code",
   "execution_count": 42,
   "id": "27e32b49-4699-43bd-b5cf-9a79204aeb56",
   "metadata": {},
   "outputs": [],
   "source": [
    "svc3_year_rs_pred = svc3_year_rs.predict(X3_year_test)"
   ]
  },
  {
   "cell_type": "code",
   "execution_count": 43,
   "id": "bd08df28-6737-44cd-adee-be31ecc6a0c6",
   "metadata": {},
   "outputs": [
    {
     "data": {
      "image/png": "[encoded data removed]",
      "text/plain": [
       "<Figure size 432x288 with 2 Axes>"
      ]
     },
     "metadata": {
      "needs_background": "light"
     },
     "output_type": "display_data"
    }
   ],
   "source": [
    "plot_confusion_matrix(svc3_year_rs, X3_year_test, y3_year_test, cmap='Blues', values_format='d', display_labels=['0', '1', '2']);"
   ]
  },
  {
   "cell_type": "code",
   "execution_count": 44,
   "id": "e503736e-370f-4009-b0ec-b39da5e96992",
   "metadata": {},
   "outputs": [
    {
     "name": "stdout",
     "output_type": "stream",
     "text": [
      "Test Precision: 0.5079787234042553\n"
     ]
    }
   ],
   "source": [
    "print('Test Precision: ' + str(precision_score(y3_year_test, svc3_year_rs_pred, average = 'weighted', labels = [2])))"
   ]
  },
  {
   "cell_type": "markdown",
   "id": "2439f860-dece-44e3-b73f-48a7a5f7986b",
   "metadata": {},
   "source": [
    "For 3 classes and with year data, Support Vector Classifier herdly performed a little better than the baseline model in terms of accuracy, but performed much worse in terms of precision. The baseline model achieved a 0.623026 test accuracy and a 0.604485 precision score. This tuned model achieved 0.63322 test accuracy and 0.50797 precision score."
   ]
  },
  {
   "cell_type": "markdown",
   "id": "ef6db96b-2aad-44fc-99f7-b4108f2c0a53",
   "metadata": {},
   "source": [
    "**The best performer for modeling 3 classes with year data: XGBoost - Test Accuracy: .630 / Precision: .539**"
   ]
  },
  {
   "cell_type": "markdown",
   "id": "e6e1f5c4-8bdc-4be0-8434-63fef99c6856",
   "metadata": {},
   "source": [
    "_______\n",
    "## **#3. Modeling 2 Classes (NO YEAR data)**"
   ]
  },
  {
   "cell_type": "code",
   "execution_count": 46,
   "id": "06d0d443-c801-46d1-bc18-628ba57478a0",
   "metadata": {},
   "outputs": [],
   "source": [
    "X2 = protests_ohe_wo_year.drop(columns=['response_category_2','response_category_3'])\n",
    "y2 = protests_ohe_wo_year['response_category_2']"
   ]
  },
  {
   "cell_type": "code",
   "execution_count": 47,
   "id": "9fa20fb7-a6c2-42b2-8d68-af4081e4c4fb",
   "metadata": {},
   "outputs": [],
   "source": [
    "# Train/test split\n",
    "\n",
    "X2_train, X2_test, y2_train, y2_test = train_test_split(X2, y2, test_size=0.2, random_state=42, stratify=y2)"
   ]
  },
  {
   "cell_type": "code",
   "execution_count": 48,
   "id": "b9fc0e4b-623a-4eb5-9fb3-4dc0af95498a",
   "metadata": {},
   "outputs": [
    {
     "name": "stdout",
     "output_type": "stream",
     "text": [
      "0    0.772166\n",
      "1    0.227834\n",
      "Name: response_category_2, dtype: float64\n",
      "0    0.772368\n",
      "1    0.227632\n",
      "Name: response_category_2, dtype: float64\n"
     ]
    }
   ],
   "source": [
    "print(y2_train.value_counts(normalize=True))\n",
    "print(y2_test.value_counts(normalize=True))"
   ]
  },
  {
   "cell_type": "markdown",
   "id": "13c36307-114b-4f0e-95f2-a6c7b6b3a8bf",
   "metadata": {},
   "source": [
    "### Logistic Regression"
   ]
  },
  {
   "cell_type": "code",
   "execution_count": 49,
   "id": "ee938fd8-308f-4ed4-9514-fd91e7cf8cef",
   "metadata": {},
   "outputs": [],
   "source": [
    "logr2_params = {\n",
    "    'penalty': ['none','l1','l2','elasticnet'], \n",
    "    'C': [1, 5, 10], \n",
    "    'solver': ['liblinear','lbfgs','newton-cg','sag','saga']\n",
    "}"
   ]
  },
  {
   "cell_type": "code",
   "execution_count": 50,
   "id": "100123de-c7c9-4ce0-aa74-b5df9baeef4b",
   "metadata": {},
   "outputs": [],
   "source": [
    "logr2_gs = GridSearchCV(\n",
    "    estimator = LogisticRegression(class_weight = 'balanced',random_state = 42), \n",
    "    param_grid = logr2_params,\n",
    "    cv = 3\n",
    ")"
   ]
  },
  {
   "cell_type": "code",
   "execution_count": 51,
   "id": "adcd7ff1-6744-4888-a9c1-f123514fcd16",
   "metadata": {},
   "outputs": [
    {
     "name": "stdout",
     "output_type": "stream",
     "text": [
      "\n",
      "Best Params: {'C': 1, 'penalty': 'l1', 'solver': 'liblinear'}\n",
      "Train Accuracy: 0.7571146570159566\n",
      "Test Accuracy: 0.75\n"
     ]
    }
   ],
   "source": [
    "logr2_gs.fit(X2_train, y2_train)\n",
    "\n",
    "print('')\n",
    "print('Best Params: ' + str(logr2_gs.best_params_))\n",
    "print('Train Accuracy: ' + str(logr2_gs.score(X2_train, y2_train)))\n",
    "print('Test Accuracy: ' + str(logr2_gs.score(X2_test, y2_test)))"
   ]
  },
  {
   "cell_type": "code",
   "execution_count": 52,
   "id": "2cca9e19-43a6-4018-a43b-e74edc0e61a8",
   "metadata": {},
   "outputs": [],
   "source": [
    "logr2_gs_pred = logr2_gs.predict(X2_test)"
   ]
  },
  {
   "cell_type": "code",
   "execution_count": 53,
   "id": "8a834606-2d40-4996-82b0-9422a0155f95",
   "metadata": {},
   "outputs": [
    {
     "data": {
      "image/png": "[encoded data removed]",
      "text/plain": [
       "<Figure size 432x288 with 2 Axes>"
      ]
     },
     "metadata": {
      "needs_background": "light"
     },
     "output_type": "display_data"
    }
   ],
   "source": [
    "plot_confusion_matrix(logr2_gs, X2_test, y2_test, cmap='Blues', values_format='d', display_labels=['0',  '1']);"
   ]
  },
  {
   "cell_type": "code",
   "execution_count": 54,
   "id": "237c72f4-43c6-4582-aedd-d2265bf00b7a",
   "metadata": {},
   "outputs": [
    {
     "name": "stdout",
     "output_type": "stream",
     "text": [
      "Test Precision: 0.4639830508474576\n"
     ]
    }
   ],
   "source": [
    "print('Test Precision: ' + str(precision_score(y2_test, logr2_gs_pred)))"
   ]
  },
  {
   "cell_type": "markdown",
   "id": "6e5514ca-cae3-4c75-ab4d-6d335b9ff72a",
   "metadata": {},
   "source": [
    "For 2 classes and no year data, Logisitic Regression did worse than the baseline model. The baseline model achieved a 0.765132 test accuracy and a 0.487059 precision score. This tuned model achieved 0.75 test accuracy and 0.46398 precision score."
   ]
  },
  {
   "cell_type": "markdown",
   "id": "e25f91b2-17e1-4e26-ba13-a2a25074828a",
   "metadata": {},
   "source": [
    "### XGBoost"
   ]
  },
  {
   "cell_type": "code",
   "execution_count": 55,
   "id": "812c0269-d20f-42b3-98c7-8a0c372e1232",
   "metadata": {},
   "outputs": [],
   "source": [
    "xgb2_params = {\n",
    "    'booster': ['gbtree','dart'],\n",
    "    'learning_rate': [0.3, 0.7],\n",
    "    'max_depth': [4, 6],\n",
    "    'lambda': [0, 1],\n",
    "    'alpha': [0, 1],\n",
    "    'n_estimators': [10, 50]\n",
    "}"
   ]
  },
  {
   "cell_type": "code",
   "execution_count": 56,
   "id": "04cafe80-d789-47ec-99dc-ebad7d5eef0d",
   "metadata": {},
   "outputs": [],
   "source": [
    "xgb2_rs = RandomizedSearchCV(\n",
    "    estimator = XGBClassifier(scale_pos_weight = 3.38, random_state = 42),\n",
    "    param_distributions = xgb2_params,\n",
    "    cv = 3,\n",
    "    random_state = 42\n",
    ")"
   ]
  },
  {
   "cell_type": "code",
   "execution_count": 57,
   "id": "18305d0d-a7a4-40d8-982f-07a572555dd5",
   "metadata": {},
   "outputs": [
    {
     "name": "stdout",
     "output_type": "stream",
     "text": [
      "\n",
      "Best Params: {'n_estimators': 10, 'max_depth': 6, 'learning_rate': 0.3, 'lambda': 1, 'booster': 'dart', 'alpha': 1}\n",
      "Train Accuracy: 0.7646816910676099\n",
      "Test Accuracy: 0.7513157894736842\n"
     ]
    }
   ],
   "source": [
    "xgb2_rs.fit(X2_train, y2_train)\n",
    "\n",
    "print('')\n",
    "print('Best Params: ' + str(xgb2_rs.best_params_))\n",
    "print('Train Accuracy: ' + str(xgb2_rs.score(X2_train, y2_train)))\n",
    "print('Test Accuracy: ' + str(xgb2_rs.score(X2_test, y2_test)))"
   ]
  },
  {
   "cell_type": "code",
   "execution_count": 58,
   "id": "dc21c028-3719-44b6-ba7b-792671e28e09",
   "metadata": {},
   "outputs": [],
   "source": [
    "xgb2_rs_pred = xgb2_rs.predict(X2_test)"
   ]
  },
  {
   "cell_type": "code",
   "execution_count": 59,
   "id": "779c414f-356b-4711-b48e-17b15318e915",
   "metadata": {},
   "outputs": [
    {
     "data": {
      "image/png": "[encoded data removed]",
      "text/plain": [
       "<Figure size 432x288 with 2 Axes>"
      ]
     },
     "metadata": {
      "needs_background": "light"
     },
     "output_type": "display_data"
    }
   ],
   "source": [
    "plot_confusion_matrix(xgb2_rs, X2_test, y2_test, cmap='Blues', values_format='d', display_labels=['0', '1']);"
   ]
  },
  {
   "cell_type": "code",
   "execution_count": 60,
   "id": "5fa78c89-8f01-47bf-b0c8-bf0dd3fc0c22",
   "metadata": {},
   "outputs": [
    {
     "name": "stdout",
     "output_type": "stream",
     "text": [
      "Test Precision: 0.46617336152219874\n"
     ]
    }
   ],
   "source": [
    "print('Test Precision: ' + str(precision_score(y2_test, xgb2_rs_pred)))"
   ]
  },
  {
   "cell_type": "markdown",
   "id": "b94f5e42-4752-41d4-a02d-9b125e10c1e1",
   "metadata": {},
   "source": [
    "For 2 classes and no year data, XGBoost did worse than the baseline model. The baseline model achieved a 0.753947 test accuracy and a 0.470149 precision score. This tuned model achieved 0.75131 test accuracy and 0.46617 precision score."
   ]
  },
  {
   "cell_type": "markdown",
   "id": "5ad2d5a7-1745-4cbc-a217-5edaab2d692d",
   "metadata": {},
   "source": [
    "### Support Vector Classifier"
   ]
  },
  {
   "cell_type": "code",
   "execution_count": 61,
   "id": "c797655f-b3cb-4d94-ade2-b9b02bb135d1",
   "metadata": {},
   "outputs": [],
   "source": [
    "svc2_params = {\n",
    "    'C': [1.0, 2.0],\n",
    "    'kernel': ['poly','rbf','sigmoid'],\n",
    "    'degree': [2, 3],\n",
    "    'gamma': ['scale','auto'],\n",
    "    'coef0': [0.0, 1.0]\n",
    "}"
   ]
  },
  {
   "cell_type": "code",
   "execution_count": 62,
   "id": "caa4240a-2388-4afd-b049-9db52b562ff3",
   "metadata": {},
   "outputs": [],
   "source": [
    "svc2_rs = RandomizedSearchCV(\n",
    "    estimator = SVC(class_weight = 'balanced', random_state = 42),\n",
    "    param_distributions = svc2_params,\n",
    "    cv = 3,\n",
    "    random_state = 42\n",
    ")"
   ]
  },
  {
   "cell_type": "code",
   "execution_count": 63,
   "id": "4aaec0fb-5f46-44ec-a05e-1f6456056e81",
   "metadata": {},
   "outputs": [
    {
     "name": "stdout",
     "output_type": "stream",
     "text": [
      "\n",
      "Best Params: {'kernel': 'poly', 'gamma': 'auto', 'degree': 2, 'coef0': 0.0, 'C': 2.0}\n",
      "Train Accuracy: 0.7768547458463563\n",
      "Test Accuracy: 0.7713815789473685\n"
     ]
    }
   ],
   "source": [
    "svc2_rs.fit(X2_train, y2_train)\n",
    "\n",
    "print('')\n",
    "print('Best Params: ' + str(svc2_rs.best_params_))\n",
    "print('Train Accuracy: ' + str(svc2_rs.score(X2_train, y2_train)))\n",
    "print('Test Accuracy: ' + str(svc2_rs.score(X2_test, y2_test)))"
   ]
  },
  {
   "cell_type": "code",
   "execution_count": 64,
   "id": "af516bb2-9c58-48fc-b49c-8421260edcfb",
   "metadata": {},
   "outputs": [],
   "source": [
    "svc2_rs_pred = svc2_rs.predict(X2_test)"
   ]
  },
  {
   "cell_type": "code",
   "execution_count": 65,
   "id": "f90dcfed-01d1-4088-a874-c5ef8823ea66",
   "metadata": {},
   "outputs": [
    {
     "data": {
      "image/png": "[encoded data removed]",
      "text/plain": [
       "<Figure size 432x288 with 2 Axes>"
      ]
     },
     "metadata": {
      "needs_background": "light"
     },
     "output_type": "display_data"
    }
   ],
   "source": [
    "plot_confusion_matrix(svc2_rs, X2_test, y2_test, cmap='Blues', values_format='d', display_labels=['0', '1']);"
   ]
  },
  {
   "cell_type": "code",
   "execution_count": 66,
   "id": "3797abdf-4ce9-47c5-9924-9d69a7cf3307",
   "metadata": {},
   "outputs": [
    {
     "name": "stdout",
     "output_type": "stream",
     "text": [
      "Test Precision: 0.49817739975698666\n"
     ]
    }
   ],
   "source": [
    "print('Test Precision: ' + str(precision_score(y2_test, svc2_rs_pred)))"
   ]
  },
  {
   "cell_type": "markdown",
   "id": "b2180692-8484-43d5-8160-b1d8beee268c",
   "metadata": {},
   "source": [
    "For 2 classes and no year data, Support Vector Classifier just about the same as the baseline model in terms of accuracy, but did better with precision. The baseline model achieved a 0.772368 test accuracy and a 0.000000 precision score. This tuned model achieved 0.77138 test accuracy and 0.49817 precision score."
   ]
  },
  {
   "cell_type": "markdown",
   "id": "196c3d21-624b-476d-8b91-d2a8cd6cb0ee",
   "metadata": {},
   "source": [
    "**The best performer for modeling 2 classes with no year data: Support Vector Classifier - Test Accuracy: .771 / Precision: .498**"
   ]
  },
  {
   "cell_type": "markdown",
   "id": "e0898463-1a7f-45f7-aa53-7b403c6eb556",
   "metadata": {},
   "source": [
    "_______\n",
    "## **#4. Modeling 3 Classes (NO YEAR data)**"
   ]
  },
  {
   "cell_type": "code",
   "execution_count": 67,
   "id": "775897cc-1fe0-48b9-b96b-47609605688b",
   "metadata": {},
   "outputs": [],
   "source": [
    "X3 = protests_ohe_wo_year.drop(columns=['response_category_2','response_category_3'])\n",
    "y3 = protests_ohe_wo_year['response_category_3']"
   ]
  },
  {
   "cell_type": "code",
   "execution_count": 68,
   "id": "6cc4b79c-fd8b-43ad-af90-409b5f54503c",
   "metadata": {},
   "outputs": [],
   "source": [
    "# Train/test split\n",
    "\n",
    "X3_train, X3_test, y3_train, y3_test = train_test_split(X3, y3, test_size=0.2, random_state=42, stratify=y3)"
   ]
  },
  {
   "cell_type": "code",
   "execution_count": 69,
   "id": "8affec01-e28b-4e62-9faa-7dd33646be16",
   "metadata": {},
   "outputs": [
    {
     "name": "stdout",
     "output_type": "stream",
     "text": [
      "0    0.525333\n",
      "1    0.246833\n",
      "2    0.227834\n",
      "Name: response_category_3, dtype: float64\n",
      "0    0.525329\n",
      "1    0.247039\n",
      "2    0.227632\n",
      "Name: response_category_3, dtype: float64\n"
     ]
    }
   ],
   "source": [
    "print(y3_train.value_counts(normalize=True))\n",
    "print(y3_test.value_counts(normalize=True))"
   ]
  },
  {
   "cell_type": "markdown",
   "id": "66e83b5b-d822-4c55-8909-7318fc494360",
   "metadata": {},
   "source": [
    "### XGBoost"
   ]
  },
  {
   "cell_type": "code",
   "execution_count": 71,
   "id": "e534be47-ad70-40ec-998f-b55cdac15492",
   "metadata": {},
   "outputs": [],
   "source": [
    "xgb3_params = {\n",
    "    'booster': ['gbtree','dart'],\n",
    "    'learning_rate': [0.1, 0.3, 0.5],\n",
    "    'max_depth': [4, 6, 10],\n",
    "    'lambda': [0, 1],\n",
    "    'alpha': [0, 1],\n",
    "    'n_estimators': [10, 50, 100]\n",
    "}"
   ]
  },
  {
   "cell_type": "code",
   "execution_count": 72,
   "id": "9477408a-9a0d-4575-83fd-49fb186c09f7",
   "metadata": {},
   "outputs": [],
   "source": [
    "xgb3_rs = RandomizedSearchCV(\n",
    "    estimator = XGBClassifier(random_state = 42),\n",
    "    param_distributions = xgb3_params,\n",
    "    cv = 3,\n",
    "    random_state = 42\n",
    ")"
   ]
  },
  {
   "cell_type": "code",
   "execution_count": 73,
   "id": "b5ab3147-96b7-43ba-ac95-dfcf5e67ae46",
   "metadata": {},
   "outputs": [
    {
     "name": "stdout",
     "output_type": "stream",
     "text": [
      "\n",
      "Best Params: {'n_estimators': 10, 'max_depth': 6, 'learning_rate': 0.1, 'lambda': 1, 'booster': 'gbtree', 'alpha': 1}\n",
      "Train Accuracy: 0.6156440203980917\n",
      "Test Accuracy: 0.6098684210526316\n"
     ]
    }
   ],
   "source": [
    "xgb3_rs.fit(X3_train, y3_train, sample_weight = compute_sample_weight('balanced', y3_train))\n",
    "\n",
    "print('')\n",
    "print('Best Params: ' + str(xgb3_rs.best_params_))\n",
    "print('Train Accuracy: ' + str(xgb3_rs.score(X3_train, y3_train)))\n",
    "print('Test Accuracy: ' + str(xgb3_rs.score(X3_test, y3_test)))"
   ]
  },
  {
   "cell_type": "code",
   "execution_count": 74,
   "id": "1a43f435-d7df-4e00-be3c-5a6425156033",
   "metadata": {},
   "outputs": [],
   "source": [
    "xgb3_rs_pred = xgb3_rs.predict(X3_test)"
   ]
  },
  {
   "cell_type": "code",
   "execution_count": 75,
   "id": "5efbf3ab-c612-49bb-959a-c1967c371930",
   "metadata": {},
   "outputs": [
    {
     "data": {
      "image/png": "[encoded data removed]",
      "text/plain": [
       "<Figure size 432x288 with 2 Axes>"
      ]
     },
     "metadata": {
      "needs_background": "light"
     },
     "output_type": "display_data"
    }
   ],
   "source": [
    "plot_confusion_matrix(xgb3_rs, X3_test, y3_test, cmap='Blues', values_format='d', display_labels=['0', '1', '2']);"
   ]
  },
  {
   "cell_type": "code",
   "execution_count": 76,
   "id": "c1d75882-e205-432d-8e17-c023b09b7c53",
   "metadata": {},
   "outputs": [
    {
     "name": "stdout",
     "output_type": "stream",
     "text": [
      "Test Precision: 0.5095541401273885\n"
     ]
    }
   ],
   "source": [
    "print('Test Precision: ' + str(precision_score(y3_test, xgb3_rs_pred, average = 'weighted', labels = [2])))"
   ]
  },
  {
   "cell_type": "markdown",
   "id": "dd56a3e9-65f0-4612-9a27-33a5e862f2a3",
   "metadata": {},
   "source": [
    "For 3 classes and no year data, XGBoost did worse than the baseline model. The baseline model achieved a 0.634211 test accuracy and a 0.603785 precision score. This tuned model achieved 0.60986 test accuracy and 0.50955 precision score."
   ]
  },
  {
   "cell_type": "markdown",
   "id": "b1da3e5e-f8ab-41ed-a578-b7cdb7881844",
   "metadata": {},
   "source": [
    "### Support Vector Classifier"
   ]
  },
  {
   "cell_type": "code",
   "execution_count": 77,
   "id": "26b56a95-9a2b-4361-86ed-da2e93deda05",
   "metadata": {},
   "outputs": [],
   "source": [
    "svc3_params = {\n",
    "    'C': [1.0, 2.0],\n",
    "    'kernel': ['poly','rbf','sigmoid'],\n",
    "    'degree': [2,3],\n",
    "    'gamma': ['scale','auto'],\n",
    "    'coef0': [0.0, 1.0]\n",
    "}"
   ]
  },
  {
   "cell_type": "code",
   "execution_count": 78,
   "id": "677157c4-f0b8-4b1f-aa82-4cddd6479ba0",
   "metadata": {},
   "outputs": [],
   "source": [
    "svc3_rs = RandomizedSearchCV(\n",
    "    estimator = SVC(class_weight = 'balanced', random_state = 42),\n",
    "    param_distributions = svc2_params,\n",
    "    cv = 3,\n",
    "    random_state = 42\n",
    ")"
   ]
  },
  {
   "cell_type": "code",
   "execution_count": 79,
   "id": "6bc2d780-9858-488a-aa15-51c315d3844d",
   "metadata": {},
   "outputs": [
    {
     "name": "stdout",
     "output_type": "stream",
     "text": [
      "\n",
      "Best Params: {'kernel': 'poly', 'gamma': 'auto', 'degree': 2, 'coef0': 0.0, 'C': 2.0}\n",
      "Train Accuracy: 0.6255963151834183\n",
      "Test Accuracy: 0.6273026315789474\n"
     ]
    }
   ],
   "source": [
    "svc3_rs.fit(X3_train, y3_train)\n",
    "\n",
    "print('')\n",
    "print('Best Params: ' + str(svc3_rs.best_params_))\n",
    "print('Train Accuracy: ' + str(svc3_rs.score(X3_train, y3_train)))\n",
    "print('Test Accuracy: ' + str(svc3_rs.score(X3_test, y3_test)))"
   ]
  },
  {
   "cell_type": "code",
   "execution_count": 80,
   "id": "6c62140a-a8f5-4ec7-bb25-4b6ac6eef9f6",
   "metadata": {},
   "outputs": [],
   "source": [
    "svc3_rs_pred = svc3_rs.predict(X3_test)"
   ]
  },
  {
   "cell_type": "code",
   "execution_count": 81,
   "id": "68211977-75c7-40b7-a221-f1b5fce32d93",
   "metadata": {},
   "outputs": [
    {
     "data": {
      "image/png": "[encoded data removed]",
      "text/plain": [
       "<Figure size 432x288 with 2 Axes>"
      ]
     },
     "metadata": {
      "needs_background": "light"
     },
     "output_type": "display_data"
    }
   ],
   "source": [
    "plot_confusion_matrix(svc3_rs, X3_test, y3_test, cmap='Blues', values_format='d', display_labels=['0', '1', '2']);"
   ]
  },
  {
   "cell_type": "code",
   "execution_count": 82,
   "id": "f452d15e-f3a6-48d1-a236-640865dd130c",
   "metadata": {},
   "outputs": [
    {
     "name": "stdout",
     "output_type": "stream",
     "text": [
      "Test Precision: 0.5024875621890548\n"
     ]
    }
   ],
   "source": [
    "print('Test Precision: ' + str(precision_score(y3_test, svc3_rs_pred, average = 'weighted', labels = [2])))"
   ]
  },
  {
   "cell_type": "markdown",
   "id": "9cd06882-ff74-49e9-bfab-7f58261ca903",
   "metadata": {},
   "source": [
    "For 3 classes and no year data, Support Vector Classifier did much better than the baseline model. The baseline model achieved a 0.227632 test accuracy and a 0.051816 precision score. This tuned model achieved 0.62730 test accuracy and  0.50248 precision score."
   ]
  },
  {
   "cell_type": "markdown",
   "id": "6e87ff3d-d769-4a67-839c-2412aa09950f",
   "metadata": {},
   "source": [
    "**The best performer for modeling 3 classes with no year data: Support Vector Classifier - Test Accuracy: .627 / Precision: .502**"
   ]
  },
  {
   "cell_type": "markdown",
   "id": "88add976-0d4a-4362-941e-d9ec520f5769",
   "metadata": {},
   "source": [
    "____\n",
    "## Model Tuning Comparison & Evaluation"
   ]
  },
  {
   "cell_type": "markdown",
   "id": "41b5de0b-c631-4069-812e-d07d7f0e63b4",
   "metadata": {},
   "source": [
    "Even after some considerable tuning, none of the models did much better than the baseline models, and some actually performed worse. Of the models, however, the best-performing was the Support Vector Classifier when using 2 classes. It achieved the highest test accuracy score, which was the primary goal. The use of year data did not make a difference."
   ]
  },
  {
   "cell_type": "markdown",
   "id": "4eede4cc-9499-498b-957d-a4734d6e1a0a",
   "metadata": {},
   "source": [
    "____\n",
    "## Model Tuning Final Thoughts"
   ]
  },
  {
   "cell_type": "markdown",
   "id": "88a77707-fa8f-4730-a1c5-9341b4de43c6",
   "metadata": {},
   "source": [
    "As suspected in the EDA process, this dataset containing all categorical features was not ideal for modeling and there was not a model identified that could be pushed to production."
   ]
  }
 ],
 "metadata": {
  "kernelspec": {
   "display_name": "Python 3 (ipykernel)",
   "language": "python",
   "name": "python3"
  },
  "language_info": {
   "codemirror_mode": {
    "name": "ipython",
    "version": 3
   },
   "file_extension": ".py",
   "mimetype": "text/x-python",
   "name": "python",
   "nbconvert_exporter": "python",
   "pygments_lexer": "ipython3",
   "version": "3.9.7"
  }
 },
 "nbformat": 4,
 "nbformat_minor": 5
}
