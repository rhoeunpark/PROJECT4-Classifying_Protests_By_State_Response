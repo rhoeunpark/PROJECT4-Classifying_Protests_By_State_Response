{
 "cells": [
  {
   "cell_type": "markdown",
   "id": "NQ4iPSxhTDbV",
   "metadata": {
    "id": "NQ4iPSxhTDbV"
   },
   "source": [
    "# 05_Neural Network Modeling with Categorical Features (2 & 3 Classes, Omitting Ignore)"
   ]
  },
  {
   "cell_type": "code",
   "execution_count": 110,
   "id": "3g-DqWxuwwI9",
   "metadata": {
    "id": "3g-DqWxuwwI9"
   },
   "outputs": [],
   "source": [
    "import pandas as pd\n",
    "import numpy as np\n",
    "from sklearn.datasets import make_classification\n",
    "from sklearn.preprocessing import StandardScaler\n",
    "from sklearn.model_selection import train_test_split\n",
    "from sklearn.metrics import confusion_matrix, plot_confusion_matrix, accuracy_score, recall_score, precision_score\n",
    "\n",
    "\n",
    "import matplotlib.pyplot as plt\n",
    "\n",
    "from tensorflow.keras.models import Sequential\n",
    "from tensorflow.keras.layers import Dense\n",
    "from tensorflow.keras.utils import to_categorical\n",
    "from tensorflow.keras.layers import Dropout\n",
    "from tensorflow.keras.callbacks import EarlyStopping\n",
    "from tensorflow.keras.wrappers.scikit_learn import KerasClassifier"
   ]
  },
  {
   "cell_type": "code",
   "execution_count": 4,
   "id": "7VybxFOFww_L",
   "metadata": {
    "id": "7VybxFOFww_L"
   },
   "outputs": [],
   "source": [
    "df1 = pd.read_csv('../data/protests_clean3.csv')"
   ]
  },
  {
   "cell_type": "code",
   "execution_count": 5,
   "id": "VXf44meVxWOk",
   "metadata": {
    "colab": {
     "base_uri": "https://localhost:8080/",
     "height": 634
    },
    "id": "VXf44meVxWOk",
    "outputId": "f42bfe85-0f00-41ef-c404-11d664c7cc54"
   },
   "outputs": [
    {
     "data": {
      "text/html": [
       "\n",
       "  <div id=\"df-e9f40155-94e0-416e-9009-576257e9f071\">\n",
       "    <div class=\"colab-df-container\">\n",
       "      <div>\n",
       "<style scoped>\n",
       "    .dataframe tbody tr th:only-of-type {\n",
       "        vertical-align: middle;\n",
       "    }\n",
       "\n",
       "    .dataframe tbody tr th {\n",
       "        vertical-align: top;\n",
       "    }\n",
       "\n",
       "    .dataframe thead th {\n",
       "        text-align: right;\n",
       "    }\n",
       "</style>\n",
       "<table border=\"1\" class=\"dataframe\">\n",
       "  <thead>\n",
       "    <tr style=\"text-align: right;\">\n",
       "      <th></th>\n",
       "      <th>year</th>\n",
       "      <th>region</th>\n",
       "      <th>protesterviolence</th>\n",
       "      <th>participants_category</th>\n",
       "      <th>notes</th>\n",
       "      <th>nationwide</th>\n",
       "      <th>startdate</th>\n",
       "      <th>enddate</th>\n",
       "      <th>length</th>\n",
       "      <th>participants_size</th>\n",
       "      <th>demand_political_behavior_process</th>\n",
       "      <th>demand_labor_wage_dispute</th>\n",
       "      <th>demand_police_brutality</th>\n",
       "      <th>demand_social_restrictions</th>\n",
       "      <th>demand_land_farm_issue</th>\n",
       "      <th>demand_politician_removal</th>\n",
       "      <th>demand_price_inc_tax_policy</th>\n",
       "      <th>stateresponse</th>\n",
       "      <th>neg_response</th>\n",
       "    </tr>\n",
       "  </thead>\n",
       "  <tbody>\n",
       "    <tr>\n",
       "      <th>0</th>\n",
       "      <td>1990</td>\n",
       "      <td>North America</td>\n",
       "      <td>0</td>\n",
       "      <td>1000-1999</td>\n",
       "      <td>canada s railway passenger system was finally ...</td>\n",
       "      <td>1</td>\n",
       "      <td>1990-01-15</td>\n",
       "      <td>1990-01-15</td>\n",
       "      <td>0 days</td>\n",
       "      <td>1500</td>\n",
       "      <td>1</td>\n",
       "      <td>1</td>\n",
       "      <td>0</td>\n",
       "      <td>0</td>\n",
       "      <td>0</td>\n",
       "      <td>0</td>\n",
       "      <td>0</td>\n",
       "      <td>ignore</td>\n",
       "      <td>0</td>\n",
       "    </tr>\n",
       "    <tr>\n",
       "      <th>1</th>\n",
       "      <td>1990</td>\n",
       "      <td>North America</td>\n",
       "      <td>0</td>\n",
       "      <td>1000-1999</td>\n",
       "      <td>protestors were only identified as young peopl...</td>\n",
       "      <td>0</td>\n",
       "      <td>1990-06-25</td>\n",
       "      <td>1990-06-25</td>\n",
       "      <td>0 days</td>\n",
       "      <td>1500</td>\n",
       "      <td>1</td>\n",
       "      <td>0</td>\n",
       "      <td>0</td>\n",
       "      <td>0</td>\n",
       "      <td>0</td>\n",
       "      <td>0</td>\n",
       "      <td>0</td>\n",
       "      <td>ignore</td>\n",
       "      <td>0</td>\n",
       "    </tr>\n",
       "    <tr>\n",
       "      <th>2</th>\n",
       "      <td>1990</td>\n",
       "      <td>North America</td>\n",
       "      <td>0</td>\n",
       "      <td>100-999</td>\n",
       "      <td>the queen, after calling on canadians to remai...</td>\n",
       "      <td>0</td>\n",
       "      <td>1990-07-01</td>\n",
       "      <td>1990-07-01</td>\n",
       "      <td>0 days</td>\n",
       "      <td>550</td>\n",
       "      <td>1</td>\n",
       "      <td>0</td>\n",
       "      <td>0</td>\n",
       "      <td>0</td>\n",
       "      <td>0</td>\n",
       "      <td>0</td>\n",
       "      <td>0</td>\n",
       "      <td>ignore</td>\n",
       "      <td>0</td>\n",
       "    </tr>\n",
       "    <tr>\n",
       "      <th>3</th>\n",
       "      <td>1990</td>\n",
       "      <td>North America</td>\n",
       "      <td>1</td>\n",
       "      <td>100-999</td>\n",
       "      <td>canada s federal government has agreed to acqu...</td>\n",
       "      <td>0</td>\n",
       "      <td>1990-07-12</td>\n",
       "      <td>1990-09-06</td>\n",
       "      <td>56 days</td>\n",
       "      <td>550</td>\n",
       "      <td>0</td>\n",
       "      <td>0</td>\n",
       "      <td>0</td>\n",
       "      <td>0</td>\n",
       "      <td>1</td>\n",
       "      <td>0</td>\n",
       "      <td>0</td>\n",
       "      <td>accomodation</td>\n",
       "      <td>0</td>\n",
       "    </tr>\n",
       "    <tr>\n",
       "      <th>4</th>\n",
       "      <td>1990</td>\n",
       "      <td>North America</td>\n",
       "      <td>1</td>\n",
       "      <td>100-999</td>\n",
       "      <td>protests were directed against the state due t...</td>\n",
       "      <td>0</td>\n",
       "      <td>1990-08-14</td>\n",
       "      <td>1990-08-15</td>\n",
       "      <td>1 days</td>\n",
       "      <td>550</td>\n",
       "      <td>1</td>\n",
       "      <td>0</td>\n",
       "      <td>0</td>\n",
       "      <td>0</td>\n",
       "      <td>0</td>\n",
       "      <td>0</td>\n",
       "      <td>0</td>\n",
       "      <td>arrests</td>\n",
       "      <td>1</td>\n",
       "    </tr>\n",
       "  </tbody>\n",
       "</table>\n",
       "</div>\n",
       "      <button class=\"colab-df-convert\" onclick=\"convertToInteractive('df-e9f40155-94e0-416e-9009-576257e9f071')\"\n",
       "              title=\"Convert this dataframe to an interactive table.\"\n",
       "              style=\"display:none;\">\n",
       "        \n",
       "  <svg xmlns=\"http://www.w3.org/2000/svg\" height=\"24px\"viewBox=\"0 0 24 24\"\n",
       "       width=\"24px\">\n",
       "    <path d=\"M0 0h24v24H0V0z\" fill=\"none\"/>\n",
       "    <path d=\"M18.56 5.44l.94 2.06.94-2.06 2.06-.94-2.06-.94-.94-2.06-.94 2.06-2.06.94zm-11 1L8.5 8.5l.94-2.06 2.06-.94-2.06-.94L8.5 2.5l-.94 2.06-2.06.94zm10 10l.94 2.06.94-2.06 2.06-.94-2.06-.94-.94-2.06-.94 2.06-2.06.94z\"/><path d=\"M17.41 7.96l-1.37-1.37c-.4-.4-.92-.59-1.43-.59-.52 0-1.04.2-1.43.59L10.3 9.45l-7.72 7.72c-.78.78-.78 2.05 0 2.83L4 21.41c.39.39.9.59 1.41.59.51 0 1.02-.2 1.41-.59l7.78-7.78 2.81-2.81c.8-.78.8-2.07 0-2.86zM5.41 20L4 18.59l7.72-7.72 1.47 1.35L5.41 20z\"/>\n",
       "  </svg>\n",
       "      </button>\n",
       "      \n",
       "  <style>\n",
       "    .colab-df-container {\n",
       "      display:flex;\n",
       "      flex-wrap:wrap;\n",
       "      gap: 12px;\n",
       "    }\n",
       "\n",
       "    .colab-df-convert {\n",
       "      background-color: #E8F0FE;\n",
       "      border: none;\n",
       "      border-radius: 50%;\n",
       "      cursor: pointer;\n",
       "      display: none;\n",
       "      fill: #1967D2;\n",
       "      height: 32px;\n",
       "      padding: 0 0 0 0;\n",
       "      width: 32px;\n",
       "    }\n",
       "\n",
       "    .colab-df-convert:hover {\n",
       "      background-color: #E2EBFA;\n",
       "      box-shadow: 0px 1px 2px rgba(60, 64, 67, 0.3), 0px 1px 3px 1px rgba(60, 64, 67, 0.15);\n",
       "      fill: #174EA6;\n",
       "    }\n",
       "\n",
       "    [theme=dark] .colab-df-convert {\n",
       "      background-color: #3B4455;\n",
       "      fill: #D2E3FC;\n",
       "    }\n",
       "\n",
       "    [theme=dark] .colab-df-convert:hover {\n",
       "      background-color: #434B5C;\n",
       "      box-shadow: 0px 1px 3px 1px rgba(0, 0, 0, 0.15);\n",
       "      filter: drop-shadow(0px 1px 2px rgba(0, 0, 0, 0.3));\n",
       "      fill: #FFFFFF;\n",
       "    }\n",
       "  </style>\n",
       "\n",
       "      <script>\n",
       "        const buttonEl =\n",
       "          document.querySelector('#df-e9f40155-94e0-416e-9009-576257e9f071 button.colab-df-convert');\n",
       "        buttonEl.style.display =\n",
       "          google.colab.kernel.accessAllowed ? 'block' : 'none';\n",
       "\n",
       "        async function convertToInteractive(key) {\n",
       "          const element = document.querySelector('#df-e9f40155-94e0-416e-9009-576257e9f071');\n",
       "          const dataTable =\n",
       "            await google.colab.kernel.invokeFunction('convertToInteractive',\n",
       "                                                     [key], {});\n",
       "          if (!dataTable) return;\n",
       "\n",
       "          const docLinkHtml = 'Like what you see? Visit the ' +\n",
       "            '<a target=\"_blank\" href=https://colab.research.google.com/notebooks/data_table.ipynb>data table notebook</a>'\n",
       "            + ' to learn more about interactive tables.';\n",
       "          element.innerHTML = '';\n",
       "          dataTable['output_type'] = 'display_data';\n",
       "          await google.colab.output.renderOutput(dataTable, element);\n",
       "          const docLink = document.createElement('div');\n",
       "          docLink.innerHTML = docLinkHtml;\n",
       "          element.appendChild(docLink);\n",
       "        }\n",
       "      </script>\n",
       "    </div>\n",
       "  </div>\n",
       "  "
      ],
      "text/plain": [
       "   year         region  protesterviolence participants_category  \\\n",
       "0  1990  North America                  0             1000-1999   \n",
       "1  1990  North America                  0             1000-1999   \n",
       "2  1990  North America                  0               100-999   \n",
       "3  1990  North America                  1               100-999   \n",
       "4  1990  North America                  1               100-999   \n",
       "\n",
       "                                               notes  nationwide   startdate  \\\n",
       "0  canada s railway passenger system was finally ...           1  1990-01-15   \n",
       "1  protestors were only identified as young peopl...           0  1990-06-25   \n",
       "2  the queen, after calling on canadians to remai...           0  1990-07-01   \n",
       "3  canada s federal government has agreed to acqu...           0  1990-07-12   \n",
       "4  protests were directed against the state due t...           0  1990-08-14   \n",
       "\n",
       "      enddate   length  participants_size  demand_political_behavior_process  \\\n",
       "0  1990-01-15   0 days               1500                                  1   \n",
       "1  1990-06-25   0 days               1500                                  1   \n",
       "2  1990-07-01   0 days                550                                  1   \n",
       "3  1990-09-06  56 days                550                                  0   \n",
       "4  1990-08-15   1 days                550                                  1   \n",
       "\n",
       "   demand_labor_wage_dispute  demand_police_brutality  \\\n",
       "0                          1                        0   \n",
       "1                          0                        0   \n",
       "2                          0                        0   \n",
       "3                          0                        0   \n",
       "4                          0                        0   \n",
       "\n",
       "   demand_social_restrictions  demand_land_farm_issue  \\\n",
       "0                           0                       0   \n",
       "1                           0                       0   \n",
       "2                           0                       0   \n",
       "3                           0                       1   \n",
       "4                           0                       0   \n",
       "\n",
       "   demand_politician_removal  demand_price_inc_tax_policy stateresponse  \\\n",
       "0                          0                            0        ignore   \n",
       "1                          0                            0        ignore   \n",
       "2                          0                            0        ignore   \n",
       "3                          0                            0  accomodation   \n",
       "4                          0                            0       arrests   \n",
       "\n",
       "   neg_response  \n",
       "0             0  \n",
       "1             0  \n",
       "2             0  \n",
       "3             0  \n",
       "4             1  "
      ]
     },
     "execution_count": 5,
     "metadata": {},
     "output_type": "execute_result"
    }
   ],
   "source": [
    "df1.head()"
   ]
  },
  {
   "cell_type": "code",
   "execution_count": 135,
   "id": "R7h8FFgPSWdf",
   "metadata": {
    "colab": {
     "base_uri": "https://localhost:8080/"
    },
    "id": "R7h8FFgPSWdf",
    "outputId": "adbf31e1-53ad-4af7-f505-f5a60acddbc8"
   },
   "outputs": [
    {
     "data": {
      "text/plain": [
       "ignore             0.525332\n",
       "crowd dispersal    0.178971\n",
       "arrests            0.103040\n",
       "accomodation       0.067904\n",
       "killings           0.054283\n",
       "beatings           0.041913\n",
       "shootings          0.028556\n",
       "Name: stateresponse, dtype: float64"
      ]
     },
     "execution_count": 135,
     "metadata": {},
     "output_type": "execute_result"
    }
   ],
   "source": [
    "df1['stateresponse'].value_counts(normalize=True)"
   ]
  },
  {
   "cell_type": "markdown",
   "id": "bgVB5bjgxpOK",
   "metadata": {
    "id": "bgVB5bjgxpOK"
   },
   "source": [
    "### **2 Classes Neural Classification**"
   ]
  },
  {
   "cell_type": "code",
   "execution_count": 8,
   "id": "fuLG3I3_xre0",
   "metadata": {
    "colab": {
     "base_uri": "https://localhost:8080/",
     "height": 357
    },
    "id": "fuLG3I3_xre0",
    "outputId": "c7be16b6-9fab-4632-8584-c3c3fc7569d4"
   },
   "outputs": [
    {
     "data": {
      "text/html": [
       "\n",
       "  <div id=\"df-713b4c32-a1be-4cf3-8e10-4c05e4faca2a\">\n",
       "    <div class=\"colab-df-container\">\n",
       "      <div>\n",
       "<style scoped>\n",
       "    .dataframe tbody tr th:only-of-type {\n",
       "        vertical-align: middle;\n",
       "    }\n",
       "\n",
       "    .dataframe tbody tr th {\n",
       "        vertical-align: top;\n",
       "    }\n",
       "\n",
       "    .dataframe thead th {\n",
       "        text-align: right;\n",
       "    }\n",
       "</style>\n",
       "<table border=\"1\" class=\"dataframe\">\n",
       "  <thead>\n",
       "    <tr style=\"text-align: right;\">\n",
       "      <th></th>\n",
       "      <th>region</th>\n",
       "      <th>protesterviolence</th>\n",
       "      <th>participants_category</th>\n",
       "      <th>nationwide</th>\n",
       "      <th>length</th>\n",
       "      <th>demand_political_behavior_process</th>\n",
       "      <th>demand_labor_wage_dispute</th>\n",
       "      <th>demand_police_brutality</th>\n",
       "      <th>demand_social_restrictions</th>\n",
       "      <th>demand_land_farm_issue</th>\n",
       "      <th>demand_politician_removal</th>\n",
       "      <th>demand_price_inc_tax_policy</th>\n",
       "      <th>neg_response</th>\n",
       "    </tr>\n",
       "  </thead>\n",
       "  <tbody>\n",
       "    <tr>\n",
       "      <th>0</th>\n",
       "      <td>North America</td>\n",
       "      <td>0</td>\n",
       "      <td>1000-1999</td>\n",
       "      <td>1</td>\n",
       "      <td>0 days</td>\n",
       "      <td>1</td>\n",
       "      <td>1</td>\n",
       "      <td>0</td>\n",
       "      <td>0</td>\n",
       "      <td>0</td>\n",
       "      <td>0</td>\n",
       "      <td>0</td>\n",
       "      <td>0</td>\n",
       "    </tr>\n",
       "    <tr>\n",
       "      <th>1</th>\n",
       "      <td>North America</td>\n",
       "      <td>0</td>\n",
       "      <td>1000-1999</td>\n",
       "      <td>0</td>\n",
       "      <td>0 days</td>\n",
       "      <td>1</td>\n",
       "      <td>0</td>\n",
       "      <td>0</td>\n",
       "      <td>0</td>\n",
       "      <td>0</td>\n",
       "      <td>0</td>\n",
       "      <td>0</td>\n",
       "      <td>0</td>\n",
       "    </tr>\n",
       "    <tr>\n",
       "      <th>2</th>\n",
       "      <td>North America</td>\n",
       "      <td>0</td>\n",
       "      <td>100-999</td>\n",
       "      <td>0</td>\n",
       "      <td>0 days</td>\n",
       "      <td>1</td>\n",
       "      <td>0</td>\n",
       "      <td>0</td>\n",
       "      <td>0</td>\n",
       "      <td>0</td>\n",
       "      <td>0</td>\n",
       "      <td>0</td>\n",
       "      <td>0</td>\n",
       "    </tr>\n",
       "    <tr>\n",
       "      <th>3</th>\n",
       "      <td>North America</td>\n",
       "      <td>1</td>\n",
       "      <td>100-999</td>\n",
       "      <td>0</td>\n",
       "      <td>56 days</td>\n",
       "      <td>0</td>\n",
       "      <td>0</td>\n",
       "      <td>0</td>\n",
       "      <td>0</td>\n",
       "      <td>1</td>\n",
       "      <td>0</td>\n",
       "      <td>0</td>\n",
       "      <td>0</td>\n",
       "    </tr>\n",
       "    <tr>\n",
       "      <th>4</th>\n",
       "      <td>North America</td>\n",
       "      <td>1</td>\n",
       "      <td>100-999</td>\n",
       "      <td>0</td>\n",
       "      <td>1 days</td>\n",
       "      <td>1</td>\n",
       "      <td>0</td>\n",
       "      <td>0</td>\n",
       "      <td>0</td>\n",
       "      <td>0</td>\n",
       "      <td>0</td>\n",
       "      <td>0</td>\n",
       "      <td>1</td>\n",
       "    </tr>\n",
       "  </tbody>\n",
       "</table>\n",
       "</div>\n",
       "      <button class=\"colab-df-convert\" onclick=\"convertToInteractive('df-713b4c32-a1be-4cf3-8e10-4c05e4faca2a')\"\n",
       "              title=\"Convert this dataframe to an interactive table.\"\n",
       "              style=\"display:none;\">\n",
       "        \n",
       "  <svg xmlns=\"http://www.w3.org/2000/svg\" height=\"24px\"viewBox=\"0 0 24 24\"\n",
       "       width=\"24px\">\n",
       "    <path d=\"M0 0h24v24H0V0z\" fill=\"none\"/>\n",
       "    <path d=\"M18.56 5.44l.94 2.06.94-2.06 2.06-.94-2.06-.94-.94-2.06-.94 2.06-2.06.94zm-11 1L8.5 8.5l.94-2.06 2.06-.94-2.06-.94L8.5 2.5l-.94 2.06-2.06.94zm10 10l.94 2.06.94-2.06 2.06-.94-2.06-.94-.94-2.06-.94 2.06-2.06.94z\"/><path d=\"M17.41 7.96l-1.37-1.37c-.4-.4-.92-.59-1.43-.59-.52 0-1.04.2-1.43.59L10.3 9.45l-7.72 7.72c-.78.78-.78 2.05 0 2.83L4 21.41c.39.39.9.59 1.41.59.51 0 1.02-.2 1.41-.59l7.78-7.78 2.81-2.81c.8-.78.8-2.07 0-2.86zM5.41 20L4 18.59l7.72-7.72 1.47 1.35L5.41 20z\"/>\n",
       "  </svg>\n",
       "      </button>\n",
       "      \n",
       "  <style>\n",
       "    .colab-df-container {\n",
       "      display:flex;\n",
       "      flex-wrap:wrap;\n",
       "      gap: 12px;\n",
       "    }\n",
       "\n",
       "    .colab-df-convert {\n",
       "      background-color: #E8F0FE;\n",
       "      border: none;\n",
       "      border-radius: 50%;\n",
       "      cursor: pointer;\n",
       "      display: none;\n",
       "      fill: #1967D2;\n",
       "      height: 32px;\n",
       "      padding: 0 0 0 0;\n",
       "      width: 32px;\n",
       "    }\n",
       "\n",
       "    .colab-df-convert:hover {\n",
       "      background-color: #E2EBFA;\n",
       "      box-shadow: 0px 1px 2px rgba(60, 64, 67, 0.3), 0px 1px 3px 1px rgba(60, 64, 67, 0.15);\n",
       "      fill: #174EA6;\n",
       "    }\n",
       "\n",
       "    [theme=dark] .colab-df-convert {\n",
       "      background-color: #3B4455;\n",
       "      fill: #D2E3FC;\n",
       "    }\n",
       "\n",
       "    [theme=dark] .colab-df-convert:hover {\n",
       "      background-color: #434B5C;\n",
       "      box-shadow: 0px 1px 3px 1px rgba(0, 0, 0, 0.15);\n",
       "      filter: drop-shadow(0px 1px 2px rgba(0, 0, 0, 0.3));\n",
       "      fill: #FFFFFF;\n",
       "    }\n",
       "  </style>\n",
       "\n",
       "      <script>\n",
       "        const buttonEl =\n",
       "          document.querySelector('#df-713b4c32-a1be-4cf3-8e10-4c05e4faca2a button.colab-df-convert');\n",
       "        buttonEl.style.display =\n",
       "          google.colab.kernel.accessAllowed ? 'block' : 'none';\n",
       "\n",
       "        async function convertToInteractive(key) {\n",
       "          const element = document.querySelector('#df-713b4c32-a1be-4cf3-8e10-4c05e4faca2a');\n",
       "          const dataTable =\n",
       "            await google.colab.kernel.invokeFunction('convertToInteractive',\n",
       "                                                     [key], {});\n",
       "          if (!dataTable) return;\n",
       "\n",
       "          const docLinkHtml = 'Like what you see? Visit the ' +\n",
       "            '<a target=\"_blank\" href=https://colab.research.google.com/notebooks/data_table.ipynb>data table notebook</a>'\n",
       "            + ' to learn more about interactive tables.';\n",
       "          element.innerHTML = '';\n",
       "          dataTable['output_type'] = 'display_data';\n",
       "          await google.colab.output.renderOutput(dataTable, element);\n",
       "          const docLink = document.createElement('div');\n",
       "          docLink.innerHTML = docLinkHtml;\n",
       "          element.appendChild(docLink);\n",
       "        }\n",
       "      </script>\n",
       "    </div>\n",
       "  </div>\n",
       "  "
      ],
      "text/plain": [
       "          region  protesterviolence participants_category  nationwide  \\\n",
       "0  North America                  0             1000-1999           1   \n",
       "1  North America                  0             1000-1999           0   \n",
       "2  North America                  0               100-999           0   \n",
       "3  North America                  1               100-999           0   \n",
       "4  North America                  1               100-999           0   \n",
       "\n",
       "    length  demand_political_behavior_process  demand_labor_wage_dispute  \\\n",
       "0   0 days                                  1                          1   \n",
       "1   0 days                                  1                          0   \n",
       "2   0 days                                  1                          0   \n",
       "3  56 days                                  0                          0   \n",
       "4   1 days                                  1                          0   \n",
       "\n",
       "   demand_police_brutality  demand_social_restrictions  \\\n",
       "0                        0                           0   \n",
       "1                        0                           0   \n",
       "2                        0                           0   \n",
       "3                        0                           0   \n",
       "4                        0                           0   \n",
       "\n",
       "   demand_land_farm_issue  demand_politician_removal  \\\n",
       "0                       0                          0   \n",
       "1                       0                          0   \n",
       "2                       0                          0   \n",
       "3                       1                          0   \n",
       "4                       0                          0   \n",
       "\n",
       "   demand_price_inc_tax_policy  neg_response  \n",
       "0                            0             0  \n",
       "1                            0             0  \n",
       "2                            0             0  \n",
       "3                            0             0  \n",
       "4                            0             1  "
      ]
     },
     "execution_count": 8,
     "metadata": {},
     "output_type": "execute_result"
    }
   ],
   "source": [
    "# Clean the columns\n",
    "df_2c = df1.drop(columns=['year', 'notes', 'startdate', 'enddate', 'participants_size', 'stateresponse'])\n",
    "df_2c.head()"
   ]
  },
  {
   "cell_type": "code",
   "execution_count": 9,
   "id": "4shraVIx1SSl",
   "metadata": {
    "id": "4shraVIx1SSl"
   },
   "outputs": [],
   "source": [
    "# feature 'length' to integers\n",
    "df_2c['length'] = df_2c['length'].str.replace('days', '').astype(int)"
   ]
  },
  {
   "cell_type": "code",
   "execution_count": 10,
   "id": "MgAXyttk1e7A",
   "metadata": {
    "id": "MgAXyttk1e7A"
   },
   "outputs": [],
   "source": [
    "# Dummify 'region' and 'participants_category' column\n",
    "df_2c = pd.get_dummies(df_2c, columns=['region', 'participants_category'], drop_first=True)"
   ]
  },
  {
   "cell_type": "code",
   "execution_count": 11,
   "id": "dFUk41o82G0m",
   "metadata": {
    "colab": {
     "base_uri": "https://localhost:8080/",
     "height": 317
    },
    "id": "dFUk41o82G0m",
    "outputId": "762998e7-8cb8-4666-a063-5c97ec8b01a6"
   },
   "outputs": [
    {
     "data": {
      "text/html": [
       "\n",
       "  <div id=\"df-5e4aedd1-62d9-40f8-8b59-fcfc365a7aea\">\n",
       "    <div class=\"colab-df-container\">\n",
       "      <div>\n",
       "<style scoped>\n",
       "    .dataframe tbody tr th:only-of-type {\n",
       "        vertical-align: middle;\n",
       "    }\n",
       "\n",
       "    .dataframe tbody tr th {\n",
       "        vertical-align: top;\n",
       "    }\n",
       "\n",
       "    .dataframe thead th {\n",
       "        text-align: right;\n",
       "    }\n",
       "</style>\n",
       "<table border=\"1\" class=\"dataframe\">\n",
       "  <thead>\n",
       "    <tr style=\"text-align: right;\">\n",
       "      <th></th>\n",
       "      <th>protesterviolence</th>\n",
       "      <th>nationwide</th>\n",
       "      <th>length</th>\n",
       "      <th>demand_political_behavior_process</th>\n",
       "      <th>demand_labor_wage_dispute</th>\n",
       "      <th>demand_police_brutality</th>\n",
       "      <th>demand_social_restrictions</th>\n",
       "      <th>demand_land_farm_issue</th>\n",
       "      <th>demand_politician_removal</th>\n",
       "      <th>demand_price_inc_tax_policy</th>\n",
       "      <th>...</th>\n",
       "      <th>region_Europe</th>\n",
       "      <th>region_MENA</th>\n",
       "      <th>region_North America</th>\n",
       "      <th>region_Oceania</th>\n",
       "      <th>region_South America</th>\n",
       "      <th>participants_category_100-999</th>\n",
       "      <th>participants_category_1000-1999</th>\n",
       "      <th>participants_category_2000-4999</th>\n",
       "      <th>participants_category_5000-10000</th>\n",
       "      <th>participants_category_&gt;10000</th>\n",
       "    </tr>\n",
       "  </thead>\n",
       "  <tbody>\n",
       "    <tr>\n",
       "      <th>0</th>\n",
       "      <td>0</td>\n",
       "      <td>1</td>\n",
       "      <td>0</td>\n",
       "      <td>1</td>\n",
       "      <td>1</td>\n",
       "      <td>0</td>\n",
       "      <td>0</td>\n",
       "      <td>0</td>\n",
       "      <td>0</td>\n",
       "      <td>0</td>\n",
       "      <td>...</td>\n",
       "      <td>0</td>\n",
       "      <td>0</td>\n",
       "      <td>1</td>\n",
       "      <td>0</td>\n",
       "      <td>0</td>\n",
       "      <td>0</td>\n",
       "      <td>1</td>\n",
       "      <td>0</td>\n",
       "      <td>0</td>\n",
       "      <td>0</td>\n",
       "    </tr>\n",
       "    <tr>\n",
       "      <th>1</th>\n",
       "      <td>0</td>\n",
       "      <td>0</td>\n",
       "      <td>0</td>\n",
       "      <td>1</td>\n",
       "      <td>0</td>\n",
       "      <td>0</td>\n",
       "      <td>0</td>\n",
       "      <td>0</td>\n",
       "      <td>0</td>\n",
       "      <td>0</td>\n",
       "      <td>...</td>\n",
       "      <td>0</td>\n",
       "      <td>0</td>\n",
       "      <td>1</td>\n",
       "      <td>0</td>\n",
       "      <td>0</td>\n",
       "      <td>0</td>\n",
       "      <td>1</td>\n",
       "      <td>0</td>\n",
       "      <td>0</td>\n",
       "      <td>0</td>\n",
       "    </tr>\n",
       "    <tr>\n",
       "      <th>2</th>\n",
       "      <td>0</td>\n",
       "      <td>0</td>\n",
       "      <td>0</td>\n",
       "      <td>1</td>\n",
       "      <td>0</td>\n",
       "      <td>0</td>\n",
       "      <td>0</td>\n",
       "      <td>0</td>\n",
       "      <td>0</td>\n",
       "      <td>0</td>\n",
       "      <td>...</td>\n",
       "      <td>0</td>\n",
       "      <td>0</td>\n",
       "      <td>1</td>\n",
       "      <td>0</td>\n",
       "      <td>0</td>\n",
       "      <td>1</td>\n",
       "      <td>0</td>\n",
       "      <td>0</td>\n",
       "      <td>0</td>\n",
       "      <td>0</td>\n",
       "    </tr>\n",
       "    <tr>\n",
       "      <th>3</th>\n",
       "      <td>1</td>\n",
       "      <td>0</td>\n",
       "      <td>56</td>\n",
       "      <td>0</td>\n",
       "      <td>0</td>\n",
       "      <td>0</td>\n",
       "      <td>0</td>\n",
       "      <td>1</td>\n",
       "      <td>0</td>\n",
       "      <td>0</td>\n",
       "      <td>...</td>\n",
       "      <td>0</td>\n",
       "      <td>0</td>\n",
       "      <td>1</td>\n",
       "      <td>0</td>\n",
       "      <td>0</td>\n",
       "      <td>1</td>\n",
       "      <td>0</td>\n",
       "      <td>0</td>\n",
       "      <td>0</td>\n",
       "      <td>0</td>\n",
       "    </tr>\n",
       "    <tr>\n",
       "      <th>4</th>\n",
       "      <td>1</td>\n",
       "      <td>0</td>\n",
       "      <td>1</td>\n",
       "      <td>1</td>\n",
       "      <td>0</td>\n",
       "      <td>0</td>\n",
       "      <td>0</td>\n",
       "      <td>0</td>\n",
       "      <td>0</td>\n",
       "      <td>0</td>\n",
       "      <td>...</td>\n",
       "      <td>0</td>\n",
       "      <td>0</td>\n",
       "      <td>1</td>\n",
       "      <td>0</td>\n",
       "      <td>0</td>\n",
       "      <td>1</td>\n",
       "      <td>0</td>\n",
       "      <td>0</td>\n",
       "      <td>0</td>\n",
       "      <td>0</td>\n",
       "    </tr>\n",
       "  </tbody>\n",
       "</table>\n",
       "<p>5 rows × 23 columns</p>\n",
       "</div>\n",
       "      <button class=\"colab-df-convert\" onclick=\"convertToInteractive('df-5e4aedd1-62d9-40f8-8b59-fcfc365a7aea')\"\n",
       "              title=\"Convert this dataframe to an interactive table.\"\n",
       "              style=\"display:none;\">\n",
       "        \n",
       "  <svg xmlns=\"http://www.w3.org/2000/svg\" height=\"24px\"viewBox=\"0 0 24 24\"\n",
       "       width=\"24px\">\n",
       "    <path d=\"M0 0h24v24H0V0z\" fill=\"none\"/>\n",
       "    <path d=\"M18.56 5.44l.94 2.06.94-2.06 2.06-.94-2.06-.94-.94-2.06-.94 2.06-2.06.94zm-11 1L8.5 8.5l.94-2.06 2.06-.94-2.06-.94L8.5 2.5l-.94 2.06-2.06.94zm10 10l.94 2.06.94-2.06 2.06-.94-2.06-.94-.94-2.06-.94 2.06-2.06.94z\"/><path d=\"M17.41 7.96l-1.37-1.37c-.4-.4-.92-.59-1.43-.59-.52 0-1.04.2-1.43.59L10.3 9.45l-7.72 7.72c-.78.78-.78 2.05 0 2.83L4 21.41c.39.39.9.59 1.41.59.51 0 1.02-.2 1.41-.59l7.78-7.78 2.81-2.81c.8-.78.8-2.07 0-2.86zM5.41 20L4 18.59l7.72-7.72 1.47 1.35L5.41 20z\"/>\n",
       "  </svg>\n",
       "      </button>\n",
       "      \n",
       "  <style>\n",
       "    .colab-df-container {\n",
       "      display:flex;\n",
       "      flex-wrap:wrap;\n",
       "      gap: 12px;\n",
       "    }\n",
       "\n",
       "    .colab-df-convert {\n",
       "      background-color: #E8F0FE;\n",
       "      border: none;\n",
       "      border-radius: 50%;\n",
       "      cursor: pointer;\n",
       "      display: none;\n",
       "      fill: #1967D2;\n",
       "      height: 32px;\n",
       "      padding: 0 0 0 0;\n",
       "      width: 32px;\n",
       "    }\n",
       "\n",
       "    .colab-df-convert:hover {\n",
       "      background-color: #E2EBFA;\n",
       "      box-shadow: 0px 1px 2px rgba(60, 64, 67, 0.3), 0px 1px 3px 1px rgba(60, 64, 67, 0.15);\n",
       "      fill: #174EA6;\n",
       "    }\n",
       "\n",
       "    [theme=dark] .colab-df-convert {\n",
       "      background-color: #3B4455;\n",
       "      fill: #D2E3FC;\n",
       "    }\n",
       "\n",
       "    [theme=dark] .colab-df-convert:hover {\n",
       "      background-color: #434B5C;\n",
       "      box-shadow: 0px 1px 3px 1px rgba(0, 0, 0, 0.15);\n",
       "      filter: drop-shadow(0px 1px 2px rgba(0, 0, 0, 0.3));\n",
       "      fill: #FFFFFF;\n",
       "    }\n",
       "  </style>\n",
       "\n",
       "      <script>\n",
       "        const buttonEl =\n",
       "          document.querySelector('#df-5e4aedd1-62d9-40f8-8b59-fcfc365a7aea button.colab-df-convert');\n",
       "        buttonEl.style.display =\n",
       "          google.colab.kernel.accessAllowed ? 'block' : 'none';\n",
       "\n",
       "        async function convertToInteractive(key) {\n",
       "          const element = document.querySelector('#df-5e4aedd1-62d9-40f8-8b59-fcfc365a7aea');\n",
       "          const dataTable =\n",
       "            await google.colab.kernel.invokeFunction('convertToInteractive',\n",
       "                                                     [key], {});\n",
       "          if (!dataTable) return;\n",
       "\n",
       "          const docLinkHtml = 'Like what you see? Visit the ' +\n",
       "            '<a target=\"_blank\" href=https://colab.research.google.com/notebooks/data_table.ipynb>data table notebook</a>'\n",
       "            + ' to learn more about interactive tables.';\n",
       "          element.innerHTML = '';\n",
       "          dataTable['output_type'] = 'display_data';\n",
       "          await google.colab.output.renderOutput(dataTable, element);\n",
       "          const docLink = document.createElement('div');\n",
       "          docLink.innerHTML = docLinkHtml;\n",
       "          element.appendChild(docLink);\n",
       "        }\n",
       "      </script>\n",
       "    </div>\n",
       "  </div>\n",
       "  "
      ],
      "text/plain": [
       "   protesterviolence  nationwide  length  demand_political_behavior_process  \\\n",
       "0                  0           1       0                                  1   \n",
       "1                  0           0       0                                  1   \n",
       "2                  0           0       0                                  1   \n",
       "3                  1           0      56                                  0   \n",
       "4                  1           0       1                                  1   \n",
       "\n",
       "   demand_labor_wage_dispute  demand_police_brutality  \\\n",
       "0                          1                        0   \n",
       "1                          0                        0   \n",
       "2                          0                        0   \n",
       "3                          0                        0   \n",
       "4                          0                        0   \n",
       "\n",
       "   demand_social_restrictions  demand_land_farm_issue  \\\n",
       "0                           0                       0   \n",
       "1                           0                       0   \n",
       "2                           0                       0   \n",
       "3                           0                       1   \n",
       "4                           0                       0   \n",
       "\n",
       "   demand_politician_removal  demand_price_inc_tax_policy  ...  region_Europe  \\\n",
       "0                          0                            0  ...              0   \n",
       "1                          0                            0  ...              0   \n",
       "2                          0                            0  ...              0   \n",
       "3                          0                            0  ...              0   \n",
       "4                          0                            0  ...              0   \n",
       "\n",
       "   region_MENA  region_North America  region_Oceania  region_South America  \\\n",
       "0            0                     1               0                     0   \n",
       "1            0                     1               0                     0   \n",
       "2            0                     1               0                     0   \n",
       "3            0                     1               0                     0   \n",
       "4            0                     1               0                     0   \n",
       "\n",
       "   participants_category_100-999  participants_category_1000-1999  \\\n",
       "0                              0                                1   \n",
       "1                              0                                1   \n",
       "2                              1                                0   \n",
       "3                              1                                0   \n",
       "4                              1                                0   \n",
       "\n",
       "   participants_category_2000-4999  participants_category_5000-10000  \\\n",
       "0                                0                                 0   \n",
       "1                                0                                 0   \n",
       "2                                0                                 0   \n",
       "3                                0                                 0   \n",
       "4                                0                                 0   \n",
       "\n",
       "   participants_category_>10000  \n",
       "0                             0  \n",
       "1                             0  \n",
       "2                             0  \n",
       "3                             0  \n",
       "4                             0  \n",
       "\n",
       "[5 rows x 23 columns]"
      ]
     },
     "execution_count": 11,
     "metadata": {},
     "output_type": "execute_result"
    }
   ],
   "source": [
    "# Final dataframe to work with\n",
    "df_2c.head()"
   ]
  },
  {
   "cell_type": "code",
   "execution_count": 12,
   "id": "wBWq4pMJ2U5A",
   "metadata": {
    "colab": {
     "base_uri": "https://localhost:8080/"
    },
    "id": "wBWq4pMJ2U5A",
    "outputId": "8289107a-b5d1-4810-d755-4ec5a0e2eec9"
   },
   "outputs": [
    {
     "data": {
      "text/plain": [
       "(15198, 23)"
      ]
     },
     "execution_count": 12,
     "metadata": {},
     "output_type": "execute_result"
    }
   ],
   "source": [
    "df_2c.shape"
   ]
  },
  {
   "cell_type": "markdown",
   "id": "NxG4nhCf2wfF",
   "metadata": {
    "id": "NxG4nhCf2wfF"
   },
   "source": [
    "X, y train test split"
   ]
  },
  {
   "cell_type": "code",
   "execution_count": 13,
   "id": "ZPVdsPp62cMO",
   "metadata": {
    "id": "ZPVdsPp62cMO"
   },
   "outputs": [],
   "source": [
    "X_2c = df_2c.drop(columns='neg_response')\n",
    "y_2c = df_2c['neg_response']"
   ]
  },
  {
   "cell_type": "code",
   "execution_count": 14,
   "id": "wvvktxWJ3PBq",
   "metadata": {
    "id": "wvvktxWJ3PBq"
   },
   "outputs": [],
   "source": [
    "X_train_2c, X_test_2c, y_train_2c, y_test_2c = train_test_split(X_2c, y_2c, random_state=42, stratify=y_2c)"
   ]
  },
  {
   "cell_type": "markdown",
   "id": "rmXpvQ9R3ZR9",
   "metadata": {
    "id": "rmXpvQ9R3ZR9"
   },
   "source": [
    "StandardScaler"
   ]
  },
  {
   "cell_type": "code",
   "execution_count": 16,
   "id": "b8oVHyq93X_i",
   "metadata": {
    "id": "b8oVHyq93X_i"
   },
   "outputs": [],
   "source": [
    "ss = StandardScaler()\n",
    "\n",
    "Xs_train_2c = ss.fit_transform(X_train_2c)\n",
    "Xs_test_2c = ss.transform(X_test_2c)"
   ]
  },
  {
   "cell_type": "markdown",
   "id": "Rfy5fBe_30kv",
   "metadata": {
    "id": "Rfy5fBe_30kv"
   },
   "source": [
    "Network Topology for Binary Classification"
   ]
  },
  {
   "cell_type": "code",
   "execution_count": 17,
   "id": "c4zcoPa94cE9",
   "metadata": {
    "colab": {
     "base_uri": "https://localhost:8080/"
    },
    "id": "c4zcoPa94cE9",
    "outputId": "80b00a8a-ea57-4e6a-b404-43394978ebe7"
   },
   "outputs": [
    {
     "data": {
      "text/plain": [
       "22"
      ]
     },
     "execution_count": 17,
     "metadata": {},
     "output_type": "execute_result"
    }
   ],
   "source": [
    "Xs_train_2c.shape[1]"
   ]
  },
  {
   "cell_type": "code",
   "execution_count": 19,
   "id": "IIpo5-kF3no0",
   "metadata": {
    "id": "IIpo5-kF3no0"
   },
   "outputs": [],
   "source": [
    "model_2c = Sequential()\n",
    "model_2c.add(Dense(15, \n",
    "                input_shape=(Xs_train_2c.shape[1],),\n",
    "                activation='relu'))\n",
    "model_2c.add(Dropout(0.2))\n",
    "model_2c.add(Dense(10,\n",
    "                activation='relu'))\n",
    "model_2c.add(Dense(1,\n",
    "                activation='sigmoid'))"
   ]
  },
  {
   "cell_type": "code",
   "execution_count": 20,
   "id": "3vbB2GNO4SlJ",
   "metadata": {
    "id": "3vbB2GNO4SlJ"
   },
   "outputs": [],
   "source": [
    "model_2c.compile(loss='binary_crossentropy', metrics=['acc'], optimizer='adam')"
   ]
  },
  {
   "cell_type": "code",
   "execution_count": 21,
   "id": "cBG8vx6dAyb8",
   "metadata": {
    "colab": {
     "base_uri": "https://localhost:8080/"
    },
    "id": "cBG8vx6dAyb8",
    "outputId": "a1de81f0-7d24-4a55-c40a-68e4e1cdda91"
   },
   "outputs": [
    {
     "name": "stdout",
     "output_type": "stream",
     "text": [
      "Epoch 1/40\n",
      "760/760 [==============================] - 4s 4ms/step - loss: 0.5418 - acc: 0.7262 - val_loss: 0.4582 - val_acc: 0.7800\n",
      "Epoch 2/40\n",
      "760/760 [==============================] - 2s 3ms/step - loss: 0.4637 - acc: 0.7847 - val_loss: 0.4514 - val_acc: 0.7866\n",
      "Epoch 3/40\n",
      "760/760 [==============================] - 3s 3ms/step - loss: 0.4595 - acc: 0.7840 - val_loss: 0.4494 - val_acc: 0.7932\n",
      "Epoch 4/40\n",
      "760/760 [==============================] - 3s 4ms/step - loss: 0.4538 - acc: 0.7836 - val_loss: 0.4479 - val_acc: 0.7934\n",
      "Epoch 5/40\n",
      "760/760 [==============================] - 2s 2ms/step - loss: 0.4533 - acc: 0.7882 - val_loss: 0.4459 - val_acc: 0.7961\n",
      "Epoch 6/40\n",
      "760/760 [==============================] - 2s 2ms/step - loss: 0.4496 - acc: 0.7915 - val_loss: 0.4469 - val_acc: 0.7947\n",
      "Epoch 7/40\n",
      "760/760 [==============================] - 1s 2ms/step - loss: 0.4492 - acc: 0.7883 - val_loss: 0.4465 - val_acc: 0.7942\n",
      "Epoch 8/40\n",
      "760/760 [==============================] - 2s 2ms/step - loss: 0.4479 - acc: 0.7898 - val_loss: 0.4454 - val_acc: 0.7955\n",
      "Epoch 9/40\n",
      "760/760 [==============================] - 2s 2ms/step - loss: 0.4472 - acc: 0.7916 - val_loss: 0.4452 - val_acc: 0.7937\n",
      "Epoch 10/40\n",
      "760/760 [==============================] - 1s 2ms/step - loss: 0.4455 - acc: 0.7929 - val_loss: 0.4451 - val_acc: 0.7953\n",
      "Epoch 11/40\n",
      "760/760 [==============================] - 2s 2ms/step - loss: 0.4461 - acc: 0.7942 - val_loss: 0.4463 - val_acc: 0.7939\n",
      "Epoch 12/40\n",
      "760/760 [==============================] - 2s 2ms/step - loss: 0.4440 - acc: 0.7922 - val_loss: 0.4468 - val_acc: 0.7950\n",
      "Epoch 13/40\n",
      "760/760 [==============================] - 1s 2ms/step - loss: 0.4459 - acc: 0.7919 - val_loss: 0.4482 - val_acc: 0.7939\n",
      "Epoch 14/40\n",
      "760/760 [==============================] - 1s 2ms/step - loss: 0.4453 - acc: 0.7921 - val_loss: 0.4447 - val_acc: 0.7939\n",
      "Epoch 15/40\n",
      "760/760 [==============================] - 2s 2ms/step - loss: 0.4436 - acc: 0.7948 - val_loss: 0.4450 - val_acc: 0.7974\n",
      "Epoch 16/40\n",
      "760/760 [==============================] - 2s 2ms/step - loss: 0.4433 - acc: 0.7925 - val_loss: 0.4454 - val_acc: 0.7979\n",
      "Epoch 17/40\n",
      "760/760 [==============================] - 2s 2ms/step - loss: 0.4447 - acc: 0.7922 - val_loss: 0.4443 - val_acc: 0.7955\n",
      "Epoch 18/40\n",
      "760/760 [==============================] - 2s 2ms/step - loss: 0.4425 - acc: 0.7917 - val_loss: 0.4447 - val_acc: 0.7963\n",
      "Epoch 19/40\n",
      "760/760 [==============================] - 2s 2ms/step - loss: 0.4424 - acc: 0.7901 - val_loss: 0.4444 - val_acc: 0.7945\n",
      "Epoch 20/40\n",
      "760/760 [==============================] - 1s 2ms/step - loss: 0.4411 - acc: 0.7905 - val_loss: 0.4455 - val_acc: 0.7976\n",
      "Epoch 21/40\n",
      "760/760 [==============================] - 1s 2ms/step - loss: 0.4394 - acc: 0.7951 - val_loss: 0.4426 - val_acc: 0.7958\n",
      "Epoch 22/40\n",
      "760/760 [==============================] - 2s 2ms/step - loss: 0.4407 - acc: 0.7951 - val_loss: 0.4432 - val_acc: 0.7979\n",
      "Epoch 23/40\n",
      "760/760 [==============================] - 2s 2ms/step - loss: 0.4403 - acc: 0.7929 - val_loss: 0.4440 - val_acc: 0.7968\n",
      "Epoch 24/40\n",
      "760/760 [==============================] - 2s 2ms/step - loss: 0.4402 - acc: 0.7964 - val_loss: 0.4447 - val_acc: 0.7966\n",
      "Epoch 25/40\n",
      "760/760 [==============================] - 2s 2ms/step - loss: 0.4414 - acc: 0.7925 - val_loss: 0.4432 - val_acc: 0.7966\n",
      "Epoch 26/40\n",
      "760/760 [==============================] - 2s 2ms/step - loss: 0.4407 - acc: 0.7945 - val_loss: 0.4431 - val_acc: 0.8018\n",
      "Epoch 27/40\n",
      "760/760 [==============================] - 2s 2ms/step - loss: 0.4390 - acc: 0.7965 - val_loss: 0.4435 - val_acc: 0.7963\n",
      "Epoch 28/40\n",
      "760/760 [==============================] - 2s 3ms/step - loss: 0.4394 - acc: 0.7977 - val_loss: 0.4435 - val_acc: 0.7958\n",
      "Epoch 29/40\n",
      "760/760 [==============================] - 2s 2ms/step - loss: 0.4401 - acc: 0.7951 - val_loss: 0.4417 - val_acc: 0.7971\n",
      "Epoch 30/40\n",
      "760/760 [==============================] - 2s 2ms/step - loss: 0.4382 - acc: 0.7950 - val_loss: 0.4413 - val_acc: 0.8005\n",
      "Epoch 31/40\n",
      "760/760 [==============================] - 2s 2ms/step - loss: 0.4383 - acc: 0.7935 - val_loss: 0.4422 - val_acc: 0.7974\n",
      "Epoch 32/40\n",
      "760/760 [==============================] - 2s 2ms/step - loss: 0.4382 - acc: 0.7966 - val_loss: 0.4415 - val_acc: 0.7974\n",
      "Epoch 33/40\n",
      "760/760 [==============================] - 2s 2ms/step - loss: 0.4381 - acc: 0.7931 - val_loss: 0.4431 - val_acc: 0.7979\n",
      "Epoch 34/40\n",
      "760/760 [==============================] - 2s 2ms/step - loss: 0.4375 - acc: 0.7968 - val_loss: 0.4418 - val_acc: 0.7955\n",
      "Epoch 35/40\n",
      "760/760 [==============================] - 2s 2ms/step - loss: 0.4382 - acc: 0.7958 - val_loss: 0.4415 - val_acc: 0.8013\n",
      "Epoch 36/40\n",
      "760/760 [==============================] - 2s 2ms/step - loss: 0.4373 - acc: 0.7973 - val_loss: 0.4415 - val_acc: 0.7989\n",
      "Epoch 37/40\n",
      "760/760 [==============================] - 1s 2ms/step - loss: 0.4370 - acc: 0.7996 - val_loss: 0.4425 - val_acc: 0.7987\n",
      "Epoch 38/40\n",
      "760/760 [==============================] - 2s 2ms/step - loss: 0.4368 - acc: 0.7962 - val_loss: 0.4417 - val_acc: 0.7984\n",
      "Epoch 39/40\n",
      "760/760 [==============================] - 2s 2ms/step - loss: 0.4367 - acc: 0.7960 - val_loss: 0.4430 - val_acc: 0.7976\n",
      "Epoch 40/40\n",
      "760/760 [==============================] - 2s 2ms/step - loss: 0.4368 - acc: 0.7984 - val_loss: 0.4425 - val_acc: 0.7995\n"
     ]
    }
   ],
   "source": [
    "history = model_2c.fit(\n",
    "    Xs_train_2c, y_train_2c,\n",
    "    validation_data=(Xs_test_2c, y_test_2c),\n",
    "    epochs=40,\n",
    "    batch_size=15,\n",
    "    verbose=1\n",
    ")"
   ]
  },
  {
   "cell_type": "code",
   "execution_count": 115,
   "id": "Ucdul7pBA7ni",
   "metadata": {
    "colab": {
     "base_uri": "https://localhost:8080/",
     "height": 268
    },
    "id": "Ucdul7pBA7ni",
    "outputId": "92c4faf4-db4c-4e6d-9364-c299e29f8b38"
   },
   "outputs": [
    {
     "data": {
      "image/png": "[encoded data removed]",
      "text/plain": [
       "<Figure size 432x288 with 1 Axes>"
      ]
     },
     "metadata": {
      "needs_background": "light"
     },
     "output_type": "display_data"
    }
   ],
   "source": [
    "# train and test lost respective to epoch of neural network training\n",
    "plt.plot(history.history['loss'], label='Train loss')\n",
    "plt.plot(history.history['val_loss'], label='Test loss')\n",
    "plt.legend();"
   ]
  },
  {
   "cell_type": "markdown",
   "id": "T4X59D-7ezRZ",
   "metadata": {
    "id": "T4X59D-7ezRZ"
   },
   "source": [
    "optimal bias variance tradeoff point happens at around 10th epoch of training"
   ]
  },
  {
   "cell_type": "markdown",
   "id": "gL2Iiy57evFK",
   "metadata": {
    "id": "gL2Iiy57evFK"
   },
   "source": []
  },
  {
   "cell_type": "code",
   "execution_count": 116,
   "id": "VLM_r7FzCGlB",
   "metadata": {
    "colab": {
     "base_uri": "https://localhost:8080/",
     "height": 265
    },
    "id": "VLM_r7FzCGlB",
    "outputId": "3663ce02-23fd-43b9-a660-b4e508b42ba2"
   },
   "outputs": [
    {
     "data": {
      "image/png": "[encoded data removed]",
      "text/plain": [
       "<Figure size 432x288 with 1 Axes>"
      ]
     },
     "metadata": {
      "needs_background": "light"
     },
     "output_type": "display_data"
    }
   ],
   "source": [
    "# train and test accuracy for each epoch\n",
    "plt.plot(history.history['acc'], label='Train loss')\n",
    "plt.plot(history.history['val_acc'], label='Test loss')\n",
    "plt.legend();"
   ]
  },
  {
   "cell_type": "markdown",
   "id": "F3Y0JCjyLdci",
   "metadata": {
    "id": "F3Y0JCjyLdci"
   },
   "source": [
    "### **Multiclass Classification**"
   ]
  },
  {
   "cell_type": "markdown",
   "id": "S7_LQ-uuLkbQ",
   "metadata": {
    "id": "S7_LQ-uuLkbQ"
   },
   "source": [
    "3 Classes"
   ]
  },
  {
   "cell_type": "code",
   "execution_count": 22,
   "id": "pXwLb5mrExCC",
   "metadata": {
    "id": "pXwLb5mrExCC"
   },
   "outputs": [],
   "source": [
    "df_3c = df1.drop(columns=['year', 'notes', 'startdate', 'enddate', 'participants_size', 'neg_response'])"
   ]
  },
  {
   "cell_type": "code",
   "execution_count": 23,
   "id": "FRFgGMC_Lr9d",
   "metadata": {
    "colab": {
     "base_uri": "https://localhost:8080/",
     "height": 357
    },
    "id": "FRFgGMC_Lr9d",
    "outputId": "ee5677ca-2790-4e9f-b253-0a51337f016b"
   },
   "outputs": [
    {
     "data": {
      "text/html": [
       "\n",
       "  <div id=\"df-70b769f0-080f-4aa0-af7d-30160e319c58\">\n",
       "    <div class=\"colab-df-container\">\n",
       "      <div>\n",
       "<style scoped>\n",
       "    .dataframe tbody tr th:only-of-type {\n",
       "        vertical-align: middle;\n",
       "    }\n",
       "\n",
       "    .dataframe tbody tr th {\n",
       "        vertical-align: top;\n",
       "    }\n",
       "\n",
       "    .dataframe thead th {\n",
       "        text-align: right;\n",
       "    }\n",
       "</style>\n",
       "<table border=\"1\" class=\"dataframe\">\n",
       "  <thead>\n",
       "    <tr style=\"text-align: right;\">\n",
       "      <th></th>\n",
       "      <th>region</th>\n",
       "      <th>protesterviolence</th>\n",
       "      <th>participants_category</th>\n",
       "      <th>nationwide</th>\n",
       "      <th>length</th>\n",
       "      <th>demand_political_behavior_process</th>\n",
       "      <th>demand_labor_wage_dispute</th>\n",
       "      <th>demand_police_brutality</th>\n",
       "      <th>demand_social_restrictions</th>\n",
       "      <th>demand_land_farm_issue</th>\n",
       "      <th>demand_politician_removal</th>\n",
       "      <th>demand_price_inc_tax_policy</th>\n",
       "      <th>stateresponse</th>\n",
       "    </tr>\n",
       "  </thead>\n",
       "  <tbody>\n",
       "    <tr>\n",
       "      <th>0</th>\n",
       "      <td>North America</td>\n",
       "      <td>0</td>\n",
       "      <td>1000-1999</td>\n",
       "      <td>1</td>\n",
       "      <td>0 days</td>\n",
       "      <td>1</td>\n",
       "      <td>1</td>\n",
       "      <td>0</td>\n",
       "      <td>0</td>\n",
       "      <td>0</td>\n",
       "      <td>0</td>\n",
       "      <td>0</td>\n",
       "      <td>ignore</td>\n",
       "    </tr>\n",
       "    <tr>\n",
       "      <th>1</th>\n",
       "      <td>North America</td>\n",
       "      <td>0</td>\n",
       "      <td>1000-1999</td>\n",
       "      <td>0</td>\n",
       "      <td>0 days</td>\n",
       "      <td>1</td>\n",
       "      <td>0</td>\n",
       "      <td>0</td>\n",
       "      <td>0</td>\n",
       "      <td>0</td>\n",
       "      <td>0</td>\n",
       "      <td>0</td>\n",
       "      <td>ignore</td>\n",
       "    </tr>\n",
       "    <tr>\n",
       "      <th>2</th>\n",
       "      <td>North America</td>\n",
       "      <td>0</td>\n",
       "      <td>100-999</td>\n",
       "      <td>0</td>\n",
       "      <td>0 days</td>\n",
       "      <td>1</td>\n",
       "      <td>0</td>\n",
       "      <td>0</td>\n",
       "      <td>0</td>\n",
       "      <td>0</td>\n",
       "      <td>0</td>\n",
       "      <td>0</td>\n",
       "      <td>ignore</td>\n",
       "    </tr>\n",
       "    <tr>\n",
       "      <th>3</th>\n",
       "      <td>North America</td>\n",
       "      <td>1</td>\n",
       "      <td>100-999</td>\n",
       "      <td>0</td>\n",
       "      <td>56 days</td>\n",
       "      <td>0</td>\n",
       "      <td>0</td>\n",
       "      <td>0</td>\n",
       "      <td>0</td>\n",
       "      <td>1</td>\n",
       "      <td>0</td>\n",
       "      <td>0</td>\n",
       "      <td>accomodation</td>\n",
       "    </tr>\n",
       "    <tr>\n",
       "      <th>4</th>\n",
       "      <td>North America</td>\n",
       "      <td>1</td>\n",
       "      <td>100-999</td>\n",
       "      <td>0</td>\n",
       "      <td>1 days</td>\n",
       "      <td>1</td>\n",
       "      <td>0</td>\n",
       "      <td>0</td>\n",
       "      <td>0</td>\n",
       "      <td>0</td>\n",
       "      <td>0</td>\n",
       "      <td>0</td>\n",
       "      <td>arrests</td>\n",
       "    </tr>\n",
       "  </tbody>\n",
       "</table>\n",
       "</div>\n",
       "      <button class=\"colab-df-convert\" onclick=\"convertToInteractive('df-70b769f0-080f-4aa0-af7d-30160e319c58')\"\n",
       "              title=\"Convert this dataframe to an interactive table.\"\n",
       "              style=\"display:none;\">\n",
       "        \n",
       "  <svg xmlns=\"http://www.w3.org/2000/svg\" height=\"24px\"viewBox=\"0 0 24 24\"\n",
       "       width=\"24px\">\n",
       "    <path d=\"M0 0h24v24H0V0z\" fill=\"none\"/>\n",
       "    <path d=\"M18.56 5.44l.94 2.06.94-2.06 2.06-.94-2.06-.94-.94-2.06-.94 2.06-2.06.94zm-11 1L8.5 8.5l.94-2.06 2.06-.94-2.06-.94L8.5 2.5l-.94 2.06-2.06.94zm10 10l.94 2.06.94-2.06 2.06-.94-2.06-.94-.94-2.06-.94 2.06-2.06.94z\"/><path d=\"M17.41 7.96l-1.37-1.37c-.4-.4-.92-.59-1.43-.59-.52 0-1.04.2-1.43.59L10.3 9.45l-7.72 7.72c-.78.78-.78 2.05 0 2.83L4 21.41c.39.39.9.59 1.41.59.51 0 1.02-.2 1.41-.59l7.78-7.78 2.81-2.81c.8-.78.8-2.07 0-2.86zM5.41 20L4 18.59l7.72-7.72 1.47 1.35L5.41 20z\"/>\n",
       "  </svg>\n",
       "      </button>\n",
       "      \n",
       "  <style>\n",
       "    .colab-df-container {\n",
       "      display:flex;\n",
       "      flex-wrap:wrap;\n",
       "      gap: 12px;\n",
       "    }\n",
       "\n",
       "    .colab-df-convert {\n",
       "      background-color: #E8F0FE;\n",
       "      border: none;\n",
       "      border-radius: 50%;\n",
       "      cursor: pointer;\n",
       "      display: none;\n",
       "      fill: #1967D2;\n",
       "      height: 32px;\n",
       "      padding: 0 0 0 0;\n",
       "      width: 32px;\n",
       "    }\n",
       "\n",
       "    .colab-df-convert:hover {\n",
       "      background-color: #E2EBFA;\n",
       "      box-shadow: 0px 1px 2px rgba(60, 64, 67, 0.3), 0px 1px 3px 1px rgba(60, 64, 67, 0.15);\n",
       "      fill: #174EA6;\n",
       "    }\n",
       "\n",
       "    [theme=dark] .colab-df-convert {\n",
       "      background-color: #3B4455;\n",
       "      fill: #D2E3FC;\n",
       "    }\n",
       "\n",
       "    [theme=dark] .colab-df-convert:hover {\n",
       "      background-color: #434B5C;\n",
       "      box-shadow: 0px 1px 3px 1px rgba(0, 0, 0, 0.15);\n",
       "      filter: drop-shadow(0px 1px 2px rgba(0, 0, 0, 0.3));\n",
       "      fill: #FFFFFF;\n",
       "    }\n",
       "  </style>\n",
       "\n",
       "      <script>\n",
       "        const buttonEl =\n",
       "          document.querySelector('#df-70b769f0-080f-4aa0-af7d-30160e319c58 button.colab-df-convert');\n",
       "        buttonEl.style.display =\n",
       "          google.colab.kernel.accessAllowed ? 'block' : 'none';\n",
       "\n",
       "        async function convertToInteractive(key) {\n",
       "          const element = document.querySelector('#df-70b769f0-080f-4aa0-af7d-30160e319c58');\n",
       "          const dataTable =\n",
       "            await google.colab.kernel.invokeFunction('convertToInteractive',\n",
       "                                                     [key], {});\n",
       "          if (!dataTable) return;\n",
       "\n",
       "          const docLinkHtml = 'Like what you see? Visit the ' +\n",
       "            '<a target=\"_blank\" href=https://colab.research.google.com/notebooks/data_table.ipynb>data table notebook</a>'\n",
       "            + ' to learn more about interactive tables.';\n",
       "          element.innerHTML = '';\n",
       "          dataTable['output_type'] = 'display_data';\n",
       "          await google.colab.output.renderOutput(dataTable, element);\n",
       "          const docLink = document.createElement('div');\n",
       "          docLink.innerHTML = docLinkHtml;\n",
       "          element.appendChild(docLink);\n",
       "        }\n",
       "      </script>\n",
       "    </div>\n",
       "  </div>\n",
       "  "
      ],
      "text/plain": [
       "          region  protesterviolence participants_category  nationwide  \\\n",
       "0  North America                  0             1000-1999           1   \n",
       "1  North America                  0             1000-1999           0   \n",
       "2  North America                  0               100-999           0   \n",
       "3  North America                  1               100-999           0   \n",
       "4  North America                  1               100-999           0   \n",
       "\n",
       "    length  demand_political_behavior_process  demand_labor_wage_dispute  \\\n",
       "0   0 days                                  1                          1   \n",
       "1   0 days                                  1                          0   \n",
       "2   0 days                                  1                          0   \n",
       "3  56 days                                  0                          0   \n",
       "4   1 days                                  1                          0   \n",
       "\n",
       "   demand_police_brutality  demand_social_restrictions  \\\n",
       "0                        0                           0   \n",
       "1                        0                           0   \n",
       "2                        0                           0   \n",
       "3                        0                           0   \n",
       "4                        0                           0   \n",
       "\n",
       "   demand_land_farm_issue  demand_politician_removal  \\\n",
       "0                       0                          0   \n",
       "1                       0                          0   \n",
       "2                       0                          0   \n",
       "3                       1                          0   \n",
       "4                       0                          0   \n",
       "\n",
       "   demand_price_inc_tax_policy stateresponse  \n",
       "0                            0        ignore  \n",
       "1                            0        ignore  \n",
       "2                            0        ignore  \n",
       "3                            0  accomodation  \n",
       "4                            0       arrests  "
      ]
     },
     "execution_count": 23,
     "metadata": {},
     "output_type": "execute_result"
    }
   ],
   "source": [
    "df_3c.head()"
   ]
  },
  {
   "cell_type": "code",
   "execution_count": 24,
   "id": "iHrlBIquPzal",
   "metadata": {
    "id": "iHrlBIquPzal"
   },
   "outputs": [],
   "source": [
    "# feature 'length' to integers\n",
    "df_3c['length'] = df_3c['length'].str.replace('days', '').astype(int)"
   ]
  },
  {
   "cell_type": "code",
   "execution_count": 25,
   "id": "u1R8xzwsPzam",
   "metadata": {
    "id": "u1R8xzwsPzam"
   },
   "outputs": [],
   "source": [
    "# Dummify 'region' column\n",
    "df_3c = pd.get_dummies(df_3c, columns=['region', 'participants_category'], drop_first=True)"
   ]
  },
  {
   "cell_type": "code",
   "execution_count": 26,
   "id": "lfTLG2yTRuwx",
   "metadata": {
    "colab": {
     "base_uri": "https://localhost:8080/"
    },
    "id": "lfTLG2yTRuwx",
    "outputId": "512c0f7c-068a-4b8a-f55b-e1af4f780853"
   },
   "outputs": [
    {
     "data": {
      "text/plain": [
       "ignore             7984\n",
       "crowd dispersal    2720\n",
       "arrests            1566\n",
       "accomodation       1032\n",
       "killings            825\n",
       "beatings            637\n",
       "shootings           434\n",
       "Name: stateresponse, dtype: int64"
      ]
     },
     "execution_count": 26,
     "metadata": {},
     "output_type": "execute_result"
    }
   ],
   "source": [
    "df_3c['stateresponse'].value_counts()"
   ]
  },
  {
   "cell_type": "code",
   "execution_count": 27,
   "id": "WnBvIDhxRLIq",
   "metadata": {
    "id": "WnBvIDhxRLIq"
   },
   "outputs": [],
   "source": [
    "# 3 Classes\n",
    "negative = ['killings','shootings','beatings','arrests']\n",
    "neutral = ['crowd dispersal','accomodation']\n",
    "\n",
    "for i in df_3c['stateresponse'].index:\n",
    "  if df_3c['stateresponse'][i] in negative:\n",
    "    df_3c.at[i, 'stateresponse'] = '2'\n",
    "  if df_3c['stateresponse'][i] in neutral:\n",
    "    df_3c.at[i, 'stateresponse'] = '1'\n",
    "  if df_3c['stateresponse'][i] == 'ignore':\n",
    "    df_3c.at[i, 'stateresponse'] = '0'"
   ]
  },
  {
   "cell_type": "code",
   "execution_count": 28,
   "id": "L-Qnw2BQWEnc",
   "metadata": {
    "id": "L-Qnw2BQWEnc"
   },
   "outputs": [],
   "source": [
    "df_3c['stateresponse'] = df_3c['stateresponse'].astype(int)"
   ]
  },
  {
   "cell_type": "code",
   "execution_count": 29,
   "id": "vLYVmx63P6Ip",
   "metadata": {
    "colab": {
     "base_uri": "https://localhost:8080/",
     "height": 317
    },
    "id": "vLYVmx63P6Ip",
    "outputId": "7fd2475f-725c-41c9-cbf0-556e23594cc1"
   },
   "outputs": [
    {
     "data": {
      "text/html": [
       "\n",
       "  <div id=\"df-1a7ba70e-e460-4314-b75f-0510e70019b5\">\n",
       "    <div class=\"colab-df-container\">\n",
       "      <div>\n",
       "<style scoped>\n",
       "    .dataframe tbody tr th:only-of-type {\n",
       "        vertical-align: middle;\n",
       "    }\n",
       "\n",
       "    .dataframe tbody tr th {\n",
       "        vertical-align: top;\n",
       "    }\n",
       "\n",
       "    .dataframe thead th {\n",
       "        text-align: right;\n",
       "    }\n",
       "</style>\n",
       "<table border=\"1\" class=\"dataframe\">\n",
       "  <thead>\n",
       "    <tr style=\"text-align: right;\">\n",
       "      <th></th>\n",
       "      <th>protesterviolence</th>\n",
       "      <th>nationwide</th>\n",
       "      <th>length</th>\n",
       "      <th>demand_political_behavior_process</th>\n",
       "      <th>demand_labor_wage_dispute</th>\n",
       "      <th>demand_police_brutality</th>\n",
       "      <th>demand_social_restrictions</th>\n",
       "      <th>demand_land_farm_issue</th>\n",
       "      <th>demand_politician_removal</th>\n",
       "      <th>demand_price_inc_tax_policy</th>\n",
       "      <th>...</th>\n",
       "      <th>region_Europe</th>\n",
       "      <th>region_MENA</th>\n",
       "      <th>region_North America</th>\n",
       "      <th>region_Oceania</th>\n",
       "      <th>region_South America</th>\n",
       "      <th>participants_category_100-999</th>\n",
       "      <th>participants_category_1000-1999</th>\n",
       "      <th>participants_category_2000-4999</th>\n",
       "      <th>participants_category_5000-10000</th>\n",
       "      <th>participants_category_&gt;10000</th>\n",
       "    </tr>\n",
       "  </thead>\n",
       "  <tbody>\n",
       "    <tr>\n",
       "      <th>0</th>\n",
       "      <td>0</td>\n",
       "      <td>1</td>\n",
       "      <td>0</td>\n",
       "      <td>1</td>\n",
       "      <td>1</td>\n",
       "      <td>0</td>\n",
       "      <td>0</td>\n",
       "      <td>0</td>\n",
       "      <td>0</td>\n",
       "      <td>0</td>\n",
       "      <td>...</td>\n",
       "      <td>0</td>\n",
       "      <td>0</td>\n",
       "      <td>1</td>\n",
       "      <td>0</td>\n",
       "      <td>0</td>\n",
       "      <td>0</td>\n",
       "      <td>1</td>\n",
       "      <td>0</td>\n",
       "      <td>0</td>\n",
       "      <td>0</td>\n",
       "    </tr>\n",
       "    <tr>\n",
       "      <th>1</th>\n",
       "      <td>0</td>\n",
       "      <td>0</td>\n",
       "      <td>0</td>\n",
       "      <td>1</td>\n",
       "      <td>0</td>\n",
       "      <td>0</td>\n",
       "      <td>0</td>\n",
       "      <td>0</td>\n",
       "      <td>0</td>\n",
       "      <td>0</td>\n",
       "      <td>...</td>\n",
       "      <td>0</td>\n",
       "      <td>0</td>\n",
       "      <td>1</td>\n",
       "      <td>0</td>\n",
       "      <td>0</td>\n",
       "      <td>0</td>\n",
       "      <td>1</td>\n",
       "      <td>0</td>\n",
       "      <td>0</td>\n",
       "      <td>0</td>\n",
       "    </tr>\n",
       "    <tr>\n",
       "      <th>2</th>\n",
       "      <td>0</td>\n",
       "      <td>0</td>\n",
       "      <td>0</td>\n",
       "      <td>1</td>\n",
       "      <td>0</td>\n",
       "      <td>0</td>\n",
       "      <td>0</td>\n",
       "      <td>0</td>\n",
       "      <td>0</td>\n",
       "      <td>0</td>\n",
       "      <td>...</td>\n",
       "      <td>0</td>\n",
       "      <td>0</td>\n",
       "      <td>1</td>\n",
       "      <td>0</td>\n",
       "      <td>0</td>\n",
       "      <td>1</td>\n",
       "      <td>0</td>\n",
       "      <td>0</td>\n",
       "      <td>0</td>\n",
       "      <td>0</td>\n",
       "    </tr>\n",
       "    <tr>\n",
       "      <th>3</th>\n",
       "      <td>1</td>\n",
       "      <td>0</td>\n",
       "      <td>56</td>\n",
       "      <td>0</td>\n",
       "      <td>0</td>\n",
       "      <td>0</td>\n",
       "      <td>0</td>\n",
       "      <td>1</td>\n",
       "      <td>0</td>\n",
       "      <td>0</td>\n",
       "      <td>...</td>\n",
       "      <td>0</td>\n",
       "      <td>0</td>\n",
       "      <td>1</td>\n",
       "      <td>0</td>\n",
       "      <td>0</td>\n",
       "      <td>1</td>\n",
       "      <td>0</td>\n",
       "      <td>0</td>\n",
       "      <td>0</td>\n",
       "      <td>0</td>\n",
       "    </tr>\n",
       "    <tr>\n",
       "      <th>4</th>\n",
       "      <td>1</td>\n",
       "      <td>0</td>\n",
       "      <td>1</td>\n",
       "      <td>1</td>\n",
       "      <td>0</td>\n",
       "      <td>0</td>\n",
       "      <td>0</td>\n",
       "      <td>0</td>\n",
       "      <td>0</td>\n",
       "      <td>0</td>\n",
       "      <td>...</td>\n",
       "      <td>0</td>\n",
       "      <td>0</td>\n",
       "      <td>1</td>\n",
       "      <td>0</td>\n",
       "      <td>0</td>\n",
       "      <td>1</td>\n",
       "      <td>0</td>\n",
       "      <td>0</td>\n",
       "      <td>0</td>\n",
       "      <td>0</td>\n",
       "    </tr>\n",
       "  </tbody>\n",
       "</table>\n",
       "<p>5 rows × 23 columns</p>\n",
       "</div>\n",
       "      <button class=\"colab-df-convert\" onclick=\"convertToInteractive('df-1a7ba70e-e460-4314-b75f-0510e70019b5')\"\n",
       "              title=\"Convert this dataframe to an interactive table.\"\n",
       "              style=\"display:none;\">\n",
       "        \n",
       "  <svg xmlns=\"http://www.w3.org/2000/svg\" height=\"24px\"viewBox=\"0 0 24 24\"\n",
       "       width=\"24px\">\n",
       "    <path d=\"M0 0h24v24H0V0z\" fill=\"none\"/>\n",
       "    <path d=\"M18.56 5.44l.94 2.06.94-2.06 2.06-.94-2.06-.94-.94-2.06-.94 2.06-2.06.94zm-11 1L8.5 8.5l.94-2.06 2.06-.94-2.06-.94L8.5 2.5l-.94 2.06-2.06.94zm10 10l.94 2.06.94-2.06 2.06-.94-2.06-.94-.94-2.06-.94 2.06-2.06.94z\"/><path d=\"M17.41 7.96l-1.37-1.37c-.4-.4-.92-.59-1.43-.59-.52 0-1.04.2-1.43.59L10.3 9.45l-7.72 7.72c-.78.78-.78 2.05 0 2.83L4 21.41c.39.39.9.59 1.41.59.51 0 1.02-.2 1.41-.59l7.78-7.78 2.81-2.81c.8-.78.8-2.07 0-2.86zM5.41 20L4 18.59l7.72-7.72 1.47 1.35L5.41 20z\"/>\n",
       "  </svg>\n",
       "      </button>\n",
       "      \n",
       "  <style>\n",
       "    .colab-df-container {\n",
       "      display:flex;\n",
       "      flex-wrap:wrap;\n",
       "      gap: 12px;\n",
       "    }\n",
       "\n",
       "    .colab-df-convert {\n",
       "      background-color: #E8F0FE;\n",
       "      border: none;\n",
       "      border-radius: 50%;\n",
       "      cursor: pointer;\n",
       "      display: none;\n",
       "      fill: #1967D2;\n",
       "      height: 32px;\n",
       "      padding: 0 0 0 0;\n",
       "      width: 32px;\n",
       "    }\n",
       "\n",
       "    .colab-df-convert:hover {\n",
       "      background-color: #E2EBFA;\n",
       "      box-shadow: 0px 1px 2px rgba(60, 64, 67, 0.3), 0px 1px 3px 1px rgba(60, 64, 67, 0.15);\n",
       "      fill: #174EA6;\n",
       "    }\n",
       "\n",
       "    [theme=dark] .colab-df-convert {\n",
       "      background-color: #3B4455;\n",
       "      fill: #D2E3FC;\n",
       "    }\n",
       "\n",
       "    [theme=dark] .colab-df-convert:hover {\n",
       "      background-color: #434B5C;\n",
       "      box-shadow: 0px 1px 3px 1px rgba(0, 0, 0, 0.15);\n",
       "      filter: drop-shadow(0px 1px 2px rgba(0, 0, 0, 0.3));\n",
       "      fill: #FFFFFF;\n",
       "    }\n",
       "  </style>\n",
       "\n",
       "      <script>\n",
       "        const buttonEl =\n",
       "          document.querySelector('#df-1a7ba70e-e460-4314-b75f-0510e70019b5 button.colab-df-convert');\n",
       "        buttonEl.style.display =\n",
       "          google.colab.kernel.accessAllowed ? 'block' : 'none';\n",
       "\n",
       "        async function convertToInteractive(key) {\n",
       "          const element = document.querySelector('#df-1a7ba70e-e460-4314-b75f-0510e70019b5');\n",
       "          const dataTable =\n",
       "            await google.colab.kernel.invokeFunction('convertToInteractive',\n",
       "                                                     [key], {});\n",
       "          if (!dataTable) return;\n",
       "\n",
       "          const docLinkHtml = 'Like what you see? Visit the ' +\n",
       "            '<a target=\"_blank\" href=https://colab.research.google.com/notebooks/data_table.ipynb>data table notebook</a>'\n",
       "            + ' to learn more about interactive tables.';\n",
       "          element.innerHTML = '';\n",
       "          dataTable['output_type'] = 'display_data';\n",
       "          await google.colab.output.renderOutput(dataTable, element);\n",
       "          const docLink = document.createElement('div');\n",
       "          docLink.innerHTML = docLinkHtml;\n",
       "          element.appendChild(docLink);\n",
       "        }\n",
       "      </script>\n",
       "    </div>\n",
       "  </div>\n",
       "  "
      ],
      "text/plain": [
       "   protesterviolence  nationwide  length  demand_political_behavior_process  \\\n",
       "0                  0           1       0                                  1   \n",
       "1                  0           0       0                                  1   \n",
       "2                  0           0       0                                  1   \n",
       "3                  1           0      56                                  0   \n",
       "4                  1           0       1                                  1   \n",
       "\n",
       "   demand_labor_wage_dispute  demand_police_brutality  \\\n",
       "0                          1                        0   \n",
       "1                          0                        0   \n",
       "2                          0                        0   \n",
       "3                          0                        0   \n",
       "4                          0                        0   \n",
       "\n",
       "   demand_social_restrictions  demand_land_farm_issue  \\\n",
       "0                           0                       0   \n",
       "1                           0                       0   \n",
       "2                           0                       0   \n",
       "3                           0                       1   \n",
       "4                           0                       0   \n",
       "\n",
       "   demand_politician_removal  demand_price_inc_tax_policy  ...  region_Europe  \\\n",
       "0                          0                            0  ...              0   \n",
       "1                          0                            0  ...              0   \n",
       "2                          0                            0  ...              0   \n",
       "3                          0                            0  ...              0   \n",
       "4                          0                            0  ...              0   \n",
       "\n",
       "   region_MENA  region_North America  region_Oceania  region_South America  \\\n",
       "0            0                     1               0                     0   \n",
       "1            0                     1               0                     0   \n",
       "2            0                     1               0                     0   \n",
       "3            0                     1               0                     0   \n",
       "4            0                     1               0                     0   \n",
       "\n",
       "   participants_category_100-999  participants_category_1000-1999  \\\n",
       "0                              0                                1   \n",
       "1                              0                                1   \n",
       "2                              1                                0   \n",
       "3                              1                                0   \n",
       "4                              1                                0   \n",
       "\n",
       "   participants_category_2000-4999  participants_category_5000-10000  \\\n",
       "0                                0                                 0   \n",
       "1                                0                                 0   \n",
       "2                                0                                 0   \n",
       "3                                0                                 0   \n",
       "4                                0                                 0   \n",
       "\n",
       "   participants_category_>10000  \n",
       "0                             0  \n",
       "1                             0  \n",
       "2                             0  \n",
       "3                             0  \n",
       "4                             0  \n",
       "\n",
       "[5 rows x 23 columns]"
      ]
     },
     "execution_count": 29,
     "metadata": {},
     "output_type": "execute_result"
    }
   ],
   "source": [
    "# final dataframe to work with\n",
    "df_3c.head()"
   ]
  },
  {
   "cell_type": "markdown",
   "id": "f22n6vixUNur",
   "metadata": {
    "id": "f22n6vixUNur"
   },
   "source": [
    "X, y Train test split"
   ]
  },
  {
   "cell_type": "code",
   "execution_count": 30,
   "id": "s2R49_BUUJmw",
   "metadata": {
    "id": "s2R49_BUUJmw"
   },
   "outputs": [],
   "source": [
    "X_3c = df_3c.drop(columns='stateresponse')\n",
    "y_3c = df_3c['stateresponse']"
   ]
  },
  {
   "cell_type": "code",
   "execution_count": 31,
   "id": "wAt9UP-VUJmx",
   "metadata": {
    "id": "wAt9UP-VUJmx"
   },
   "outputs": [],
   "source": [
    "X_train_3c, X_test_3c, y_train_3c, y_test_3c = train_test_split(X_3c, y_3c, random_state=42, stratify=y_3c)"
   ]
  },
  {
   "cell_type": "markdown",
   "id": "ZcAaMj1WUJm2",
   "metadata": {
    "id": "ZcAaMj1WUJm2"
   },
   "source": [
    "StandardScaler"
   ]
  },
  {
   "cell_type": "code",
   "execution_count": 32,
   "id": "uqxxRB6lUJm3",
   "metadata": {
    "id": "uqxxRB6lUJm3"
   },
   "outputs": [],
   "source": [
    "ss = StandardScaler()\n",
    "\n",
    "Xs_train_3c = ss.fit_transform(X_train_3c)\n",
    "Xs_test_3c = ss.transform(X_test_3c)"
   ]
  },
  {
   "cell_type": "markdown",
   "id": "VihkjeZ3UJm3",
   "metadata": {
    "id": "VihkjeZ3UJm3"
   },
   "source": [
    "Network Topology for Binary Classification"
   ]
  },
  {
   "cell_type": "code",
   "execution_count": 33,
   "id": "WnLr9JT9UJm3",
   "metadata": {
    "colab": {
     "base_uri": "https://localhost:8080/"
    },
    "id": "WnLr9JT9UJm3",
    "outputId": "5c906b34-33a0-4e40-a146-04a75db55a0b"
   },
   "outputs": [
    {
     "data": {
      "text/plain": [
       "22"
      ]
     },
     "execution_count": 33,
     "metadata": {},
     "output_type": "execute_result"
    }
   ],
   "source": [
    "Xs_train_3c.shape[1]"
   ]
  },
  {
   "cell_type": "code",
   "execution_count": 36,
   "id": "MgwF8YgeUJm3",
   "metadata": {
    "id": "MgwF8YgeUJm3"
   },
   "outputs": [],
   "source": [
    "model_3c = Sequential()\n",
    "model_3c.add(Dense(15, \n",
    "                input_shape=(Xs_train_3c.shape[1],),\n",
    "                activation='relu'))\n",
    "model_3c.add(Dropout(0.2))\n",
    "model_3c.add(Dense(10,\n",
    "                activation='relu'))\n",
    "model_3c.add(Dense(3,\n",
    "                activation='softmax'))"
   ]
  },
  {
   "cell_type": "code",
   "execution_count": 37,
   "id": "G0H09fSVUJm3",
   "metadata": {
    "id": "G0H09fSVUJm3"
   },
   "outputs": [],
   "source": [
    "model_3c.compile(loss='sparse_categorical_crossentropy', metrics=['accuracy'], optimizer='adam')"
   ]
  },
  {
   "cell_type": "code",
   "execution_count": 38,
   "id": "gQPx_c0IUJm3",
   "metadata": {
    "colab": {
     "base_uri": "https://localhost:8080/"
    },
    "id": "gQPx_c0IUJm3",
    "outputId": "50fcf20a-22cc-4c2d-ffb0-1b9aa8fe9185"
   },
   "outputs": [
    {
     "name": "stdout",
     "output_type": "stream",
     "text": [
      "Epoch 1/40\n",
      "760/760 [==============================] - 3s 2ms/step - loss: 0.9899 - accuracy: 0.5441 - val_loss: 0.9109 - val_accuracy: 0.6021\n",
      "Epoch 2/40\n",
      "760/760 [==============================] - 2s 2ms/step - loss: 0.9049 - accuracy: 0.6049 - val_loss: 0.8793 - val_accuracy: 0.6255\n",
      "Epoch 3/40\n",
      "760/760 [==============================] - 2s 2ms/step - loss: 0.8782 - accuracy: 0.6244 - val_loss: 0.8659 - val_accuracy: 0.6242\n",
      "Epoch 4/40\n",
      "760/760 [==============================] - 2s 2ms/step - loss: 0.8724 - accuracy: 0.6246 - val_loss: 0.8632 - val_accuracy: 0.6224\n",
      "Epoch 5/40\n",
      "760/760 [==============================] - 2s 2ms/step - loss: 0.8666 - accuracy: 0.6268 - val_loss: 0.8614 - val_accuracy: 0.6239\n",
      "Epoch 6/40\n",
      "760/760 [==============================] - 2s 2ms/step - loss: 0.8618 - accuracy: 0.6270 - val_loss: 0.8631 - val_accuracy: 0.6242\n",
      "Epoch 7/40\n",
      "760/760 [==============================] - 2s 2ms/step - loss: 0.8576 - accuracy: 0.6284 - val_loss: 0.8636 - val_accuracy: 0.6234\n",
      "Epoch 8/40\n",
      "760/760 [==============================] - 2s 2ms/step - loss: 0.8591 - accuracy: 0.6276 - val_loss: 0.8610 - val_accuracy: 0.6226\n",
      "Epoch 9/40\n",
      "760/760 [==============================] - 2s 3ms/step - loss: 0.8545 - accuracy: 0.6275 - val_loss: 0.8571 - val_accuracy: 0.6229\n",
      "Epoch 10/40\n",
      "760/760 [==============================] - 4s 5ms/step - loss: 0.8553 - accuracy: 0.6269 - val_loss: 0.8572 - val_accuracy: 0.6226\n",
      "Epoch 11/40\n",
      "760/760 [==============================] - 3s 4ms/step - loss: 0.8499 - accuracy: 0.6285 - val_loss: 0.8585 - val_accuracy: 0.6229\n",
      "Epoch 12/40\n",
      "760/760 [==============================] - 2s 3ms/step - loss: 0.8488 - accuracy: 0.6305 - val_loss: 0.8567 - val_accuracy: 0.6226\n",
      "Epoch 13/40\n",
      "760/760 [==============================] - 2s 2ms/step - loss: 0.8476 - accuracy: 0.6296 - val_loss: 0.8573 - val_accuracy: 0.6234\n",
      "Epoch 14/40\n",
      "760/760 [==============================] - 1s 2ms/step - loss: 0.8477 - accuracy: 0.6294 - val_loss: 0.8571 - val_accuracy: 0.6234\n",
      "Epoch 15/40\n",
      "760/760 [==============================] - 1s 2ms/step - loss: 0.8473 - accuracy: 0.6304 - val_loss: 0.8595 - val_accuracy: 0.6237\n",
      "Epoch 16/40\n",
      "760/760 [==============================] - 1s 2ms/step - loss: 0.8474 - accuracy: 0.6293 - val_loss: 0.8582 - val_accuracy: 0.6234\n",
      "Epoch 17/40\n",
      "760/760 [==============================] - 2s 2ms/step - loss: 0.8458 - accuracy: 0.6311 - val_loss: 0.8629 - val_accuracy: 0.6218\n",
      "Epoch 18/40\n",
      "760/760 [==============================] - 2s 2ms/step - loss: 0.8446 - accuracy: 0.6307 - val_loss: 0.8580 - val_accuracy: 0.6232\n",
      "Epoch 19/40\n",
      "760/760 [==============================] - 2s 2ms/step - loss: 0.8421 - accuracy: 0.6343 - val_loss: 0.8591 - val_accuracy: 0.6208\n",
      "Epoch 20/40\n",
      "760/760 [==============================] - 2s 2ms/step - loss: 0.8458 - accuracy: 0.6305 - val_loss: 0.8582 - val_accuracy: 0.6239\n",
      "Epoch 21/40\n",
      "760/760 [==============================] - 2s 2ms/step - loss: 0.8441 - accuracy: 0.6295 - val_loss: 0.8581 - val_accuracy: 0.6250\n",
      "Epoch 22/40\n",
      "760/760 [==============================] - 2s 2ms/step - loss: 0.8431 - accuracy: 0.6319 - val_loss: 0.8565 - val_accuracy: 0.6211\n",
      "Epoch 23/40\n",
      "760/760 [==============================] - 2s 2ms/step - loss: 0.8433 - accuracy: 0.6297 - val_loss: 0.8581 - val_accuracy: 0.6266\n",
      "Epoch 24/40\n",
      "760/760 [==============================] - 2s 2ms/step - loss: 0.8435 - accuracy: 0.6313 - val_loss: 0.8571 - val_accuracy: 0.6250\n",
      "Epoch 25/40\n",
      "760/760 [==============================] - 2s 2ms/step - loss: 0.8420 - accuracy: 0.6312 - val_loss: 0.8551 - val_accuracy: 0.6229\n",
      "Epoch 26/40\n",
      "760/760 [==============================] - 2s 2ms/step - loss: 0.8425 - accuracy: 0.6335 - val_loss: 0.8559 - val_accuracy: 0.6224\n",
      "Epoch 27/40\n",
      "760/760 [==============================] - 2s 2ms/step - loss: 0.8414 - accuracy: 0.6334 - val_loss: 0.8577 - val_accuracy: 0.6247\n",
      "Epoch 28/40\n",
      "760/760 [==============================] - 2s 2ms/step - loss: 0.8407 - accuracy: 0.6330 - val_loss: 0.8567 - val_accuracy: 0.6266\n",
      "Epoch 29/40\n",
      "760/760 [==============================] - 2s 2ms/step - loss: 0.8414 - accuracy: 0.6294 - val_loss: 0.8557 - val_accuracy: 0.6239\n",
      "Epoch 30/40\n",
      "760/760 [==============================] - 2s 2ms/step - loss: 0.8395 - accuracy: 0.6329 - val_loss: 0.8577 - val_accuracy: 0.6255\n",
      "Epoch 31/40\n",
      "760/760 [==============================] - 2s 2ms/step - loss: 0.8382 - accuracy: 0.6334 - val_loss: 0.8598 - val_accuracy: 0.6258\n",
      "Epoch 32/40\n",
      "760/760 [==============================] - 2s 2ms/step - loss: 0.8394 - accuracy: 0.6327 - val_loss: 0.8558 - val_accuracy: 0.6250\n",
      "Epoch 33/40\n",
      "760/760 [==============================] - 2s 2ms/step - loss: 0.8409 - accuracy: 0.6346 - val_loss: 0.8551 - val_accuracy: 0.6237\n",
      "Epoch 34/40\n",
      "760/760 [==============================] - 2s 2ms/step - loss: 0.8408 - accuracy: 0.6337 - val_loss: 0.8552 - val_accuracy: 0.6263\n",
      "Epoch 35/40\n",
      "760/760 [==============================] - 2s 2ms/step - loss: 0.8376 - accuracy: 0.6339 - val_loss: 0.8555 - val_accuracy: 0.6292\n",
      "Epoch 36/40\n",
      "760/760 [==============================] - 1s 2ms/step - loss: 0.8382 - accuracy: 0.6354 - val_loss: 0.8550 - val_accuracy: 0.6300\n",
      "Epoch 37/40\n",
      "760/760 [==============================] - 2s 2ms/step - loss: 0.8386 - accuracy: 0.6368 - val_loss: 0.8564 - val_accuracy: 0.6292\n",
      "Epoch 38/40\n",
      "760/760 [==============================] - 1s 2ms/step - loss: 0.8390 - accuracy: 0.6340 - val_loss: 0.8543 - val_accuracy: 0.6292\n",
      "Epoch 39/40\n",
      "760/760 [==============================] - 2s 2ms/step - loss: 0.8376 - accuracy: 0.6377 - val_loss: 0.8567 - val_accuracy: 0.6295\n",
      "Epoch 40/40\n",
      "760/760 [==============================] - 2s 2ms/step - loss: 0.8360 - accuracy: 0.6352 - val_loss: 0.8544 - val_accuracy: 0.6284\n"
     ]
    }
   ],
   "source": [
    "history_3c = model_3c.fit(\n",
    "    Xs_train_3c, y_train_3c,\n",
    "    validation_data=(Xs_test_3c, y_test_3c),\n",
    "    epochs=40,\n",
    "    batch_size=15,\n",
    "    verbose=1)"
   ]
  },
  {
   "cell_type": "code",
   "execution_count": 41,
   "id": "SAEfNzGyUJm3",
   "metadata": {
    "colab": {
     "base_uri": "https://localhost:8080/",
     "height": 265
    },
    "id": "SAEfNzGyUJm3",
    "outputId": "15f54d6c-16b4-4608-8d49-9f6318ce4cd1"
   },
   "outputs": [
    {
     "data": {
      "image/png": "[encoded data removed]",
      "text/plain": [
       "<Figure size 432x288 with 1 Axes>"
      ]
     },
     "metadata": {
      "needs_background": "light"
     },
     "output_type": "display_data"
    }
   ],
   "source": [
    "# loss visual\n",
    "plt.plot(history_3c.history['loss'], label='Train loss')\n",
    "plt.plot(history_3c.history['val_loss'], label='Test loss')\n",
    "plt.legend();"
   ]
  },
  {
   "cell_type": "code",
   "execution_count": 44,
   "id": "03o839DwUJm3",
   "metadata": {
    "colab": {
     "base_uri": "https://localhost:8080/",
     "height": 265
    },
    "id": "03o839DwUJm3",
    "outputId": "bf93d143-6095-41df-874c-44a4ccaa8688"
   },
   "outputs": [
    {
     "data": {
      "image/png": "[encoded data removed]",
      "text/plain": [
       "<Figure size 432x288 with 1 Axes>"
      ]
     },
     "metadata": {
      "needs_background": "light"
     },
     "output_type": "display_data"
    }
   ],
   "source": [
    "# accuracy visual\n",
    "plt.plot(history_3c.history['accuracy'], label='Train accuracy')\n",
    "plt.plot(history_3c.history['val_accuracy'], label='Test acccuracy')\n",
    "plt.legend();"
   ]
  },
  {
   "cell_type": "markdown",
   "id": "xoMZASsDX2wL",
   "metadata": {
    "id": "xoMZASsDX2wL"
   },
   "source": [
    "Multiclass"
   ]
  },
  {
   "cell_type": "code",
   "execution_count": 45,
   "id": "Z3Ze4OOAYI8X",
   "metadata": {
    "id": "Z3Ze4OOAYI8X"
   },
   "outputs": [],
   "source": [
    "df_m1 = df1.drop(columns=['year', 'notes', 'startdate', 'enddate', 'participants_size', 'neg_response'])"
   ]
  },
  {
   "cell_type": "code",
   "execution_count": 46,
   "id": "ggyy6zVXYI8f",
   "metadata": {
    "colab": {
     "base_uri": "https://localhost:8080/",
     "height": 357
    },
    "id": "ggyy6zVXYI8f",
    "outputId": "ecb17e6c-0432-43ec-8354-90ed83bc3bfa"
   },
   "outputs": [
    {
     "data": {
      "text/html": [
       "\n",
       "  <div id=\"df-e7d7a271-c138-48cc-863d-744f43f5408d\">\n",
       "    <div class=\"colab-df-container\">\n",
       "      <div>\n",
       "<style scoped>\n",
       "    .dataframe tbody tr th:only-of-type {\n",
       "        vertical-align: middle;\n",
       "    }\n",
       "\n",
       "    .dataframe tbody tr th {\n",
       "        vertical-align: top;\n",
       "    }\n",
       "\n",
       "    .dataframe thead th {\n",
       "        text-align: right;\n",
       "    }\n",
       "</style>\n",
       "<table border=\"1\" class=\"dataframe\">\n",
       "  <thead>\n",
       "    <tr style=\"text-align: right;\">\n",
       "      <th></th>\n",
       "      <th>region</th>\n",
       "      <th>protesterviolence</th>\n",
       "      <th>participants_category</th>\n",
       "      <th>nationwide</th>\n",
       "      <th>length</th>\n",
       "      <th>demand_political_behavior_process</th>\n",
       "      <th>demand_labor_wage_dispute</th>\n",
       "      <th>demand_police_brutality</th>\n",
       "      <th>demand_social_restrictions</th>\n",
       "      <th>demand_land_farm_issue</th>\n",
       "      <th>demand_politician_removal</th>\n",
       "      <th>demand_price_inc_tax_policy</th>\n",
       "      <th>stateresponse</th>\n",
       "    </tr>\n",
       "  </thead>\n",
       "  <tbody>\n",
       "    <tr>\n",
       "      <th>0</th>\n",
       "      <td>North America</td>\n",
       "      <td>0</td>\n",
       "      <td>1000-1999</td>\n",
       "      <td>1</td>\n",
       "      <td>0 days</td>\n",
       "      <td>1</td>\n",
       "      <td>1</td>\n",
       "      <td>0</td>\n",
       "      <td>0</td>\n",
       "      <td>0</td>\n",
       "      <td>0</td>\n",
       "      <td>0</td>\n",
       "      <td>ignore</td>\n",
       "    </tr>\n",
       "    <tr>\n",
       "      <th>1</th>\n",
       "      <td>North America</td>\n",
       "      <td>0</td>\n",
       "      <td>1000-1999</td>\n",
       "      <td>0</td>\n",
       "      <td>0 days</td>\n",
       "      <td>1</td>\n",
       "      <td>0</td>\n",
       "      <td>0</td>\n",
       "      <td>0</td>\n",
       "      <td>0</td>\n",
       "      <td>0</td>\n",
       "      <td>0</td>\n",
       "      <td>ignore</td>\n",
       "    </tr>\n",
       "    <tr>\n",
       "      <th>2</th>\n",
       "      <td>North America</td>\n",
       "      <td>0</td>\n",
       "      <td>100-999</td>\n",
       "      <td>0</td>\n",
       "      <td>0 days</td>\n",
       "      <td>1</td>\n",
       "      <td>0</td>\n",
       "      <td>0</td>\n",
       "      <td>0</td>\n",
       "      <td>0</td>\n",
       "      <td>0</td>\n",
       "      <td>0</td>\n",
       "      <td>ignore</td>\n",
       "    </tr>\n",
       "    <tr>\n",
       "      <th>3</th>\n",
       "      <td>North America</td>\n",
       "      <td>1</td>\n",
       "      <td>100-999</td>\n",
       "      <td>0</td>\n",
       "      <td>56 days</td>\n",
       "      <td>0</td>\n",
       "      <td>0</td>\n",
       "      <td>0</td>\n",
       "      <td>0</td>\n",
       "      <td>1</td>\n",
       "      <td>0</td>\n",
       "      <td>0</td>\n",
       "      <td>accomodation</td>\n",
       "    </tr>\n",
       "    <tr>\n",
       "      <th>4</th>\n",
       "      <td>North America</td>\n",
       "      <td>1</td>\n",
       "      <td>100-999</td>\n",
       "      <td>0</td>\n",
       "      <td>1 days</td>\n",
       "      <td>1</td>\n",
       "      <td>0</td>\n",
       "      <td>0</td>\n",
       "      <td>0</td>\n",
       "      <td>0</td>\n",
       "      <td>0</td>\n",
       "      <td>0</td>\n",
       "      <td>arrests</td>\n",
       "    </tr>\n",
       "  </tbody>\n",
       "</table>\n",
       "</div>\n",
       "      <button class=\"colab-df-convert\" onclick=\"convertToInteractive('df-e7d7a271-c138-48cc-863d-744f43f5408d')\"\n",
       "              title=\"Convert this dataframe to an interactive table.\"\n",
       "              style=\"display:none;\">\n",
       "        \n",
       "  <svg xmlns=\"http://www.w3.org/2000/svg\" height=\"24px\"viewBox=\"0 0 24 24\"\n",
       "       width=\"24px\">\n",
       "    <path d=\"M0 0h24v24H0V0z\" fill=\"none\"/>\n",
       "    <path d=\"M18.56 5.44l.94 2.06.94-2.06 2.06-.94-2.06-.94-.94-2.06-.94 2.06-2.06.94zm-11 1L8.5 8.5l.94-2.06 2.06-.94-2.06-.94L8.5 2.5l-.94 2.06-2.06.94zm10 10l.94 2.06.94-2.06 2.06-.94-2.06-.94-.94-2.06-.94 2.06-2.06.94z\"/><path d=\"M17.41 7.96l-1.37-1.37c-.4-.4-.92-.59-1.43-.59-.52 0-1.04.2-1.43.59L10.3 9.45l-7.72 7.72c-.78.78-.78 2.05 0 2.83L4 21.41c.39.39.9.59 1.41.59.51 0 1.02-.2 1.41-.59l7.78-7.78 2.81-2.81c.8-.78.8-2.07 0-2.86zM5.41 20L4 18.59l7.72-7.72 1.47 1.35L5.41 20z\"/>\n",
       "  </svg>\n",
       "      </button>\n",
       "      \n",
       "  <style>\n",
       "    .colab-df-container {\n",
       "      display:flex;\n",
       "      flex-wrap:wrap;\n",
       "      gap: 12px;\n",
       "    }\n",
       "\n",
       "    .colab-df-convert {\n",
       "      background-color: #E8F0FE;\n",
       "      border: none;\n",
       "      border-radius: 50%;\n",
       "      cursor: pointer;\n",
       "      display: none;\n",
       "      fill: #1967D2;\n",
       "      height: 32px;\n",
       "      padding: 0 0 0 0;\n",
       "      width: 32px;\n",
       "    }\n",
       "\n",
       "    .colab-df-convert:hover {\n",
       "      background-color: #E2EBFA;\n",
       "      box-shadow: 0px 1px 2px rgba(60, 64, 67, 0.3), 0px 1px 3px 1px rgba(60, 64, 67, 0.15);\n",
       "      fill: #174EA6;\n",
       "    }\n",
       "\n",
       "    [theme=dark] .colab-df-convert {\n",
       "      background-color: #3B4455;\n",
       "      fill: #D2E3FC;\n",
       "    }\n",
       "\n",
       "    [theme=dark] .colab-df-convert:hover {\n",
       "      background-color: #434B5C;\n",
       "      box-shadow: 0px 1px 3px 1px rgba(0, 0, 0, 0.15);\n",
       "      filter: drop-shadow(0px 1px 2px rgba(0, 0, 0, 0.3));\n",
       "      fill: #FFFFFF;\n",
       "    }\n",
       "  </style>\n",
       "\n",
       "      <script>\n",
       "        const buttonEl =\n",
       "          document.querySelector('#df-e7d7a271-c138-48cc-863d-744f43f5408d button.colab-df-convert');\n",
       "        buttonEl.style.display =\n",
       "          google.colab.kernel.accessAllowed ? 'block' : 'none';\n",
       "\n",
       "        async function convertToInteractive(key) {\n",
       "          const element = document.querySelector('#df-e7d7a271-c138-48cc-863d-744f43f5408d');\n",
       "          const dataTable =\n",
       "            await google.colab.kernel.invokeFunction('convertToInteractive',\n",
       "                                                     [key], {});\n",
       "          if (!dataTable) return;\n",
       "\n",
       "          const docLinkHtml = 'Like what you see? Visit the ' +\n",
       "            '<a target=\"_blank\" href=https://colab.research.google.com/notebooks/data_table.ipynb>data table notebook</a>'\n",
       "            + ' to learn more about interactive tables.';\n",
       "          element.innerHTML = '';\n",
       "          dataTable['output_type'] = 'display_data';\n",
       "          await google.colab.output.renderOutput(dataTable, element);\n",
       "          const docLink = document.createElement('div');\n",
       "          docLink.innerHTML = docLinkHtml;\n",
       "          element.appendChild(docLink);\n",
       "        }\n",
       "      </script>\n",
       "    </div>\n",
       "  </div>\n",
       "  "
      ],
      "text/plain": [
       "          region  protesterviolence participants_category  nationwide  \\\n",
       "0  North America                  0             1000-1999           1   \n",
       "1  North America                  0             1000-1999           0   \n",
       "2  North America                  0               100-999           0   \n",
       "3  North America                  1               100-999           0   \n",
       "4  North America                  1               100-999           0   \n",
       "\n",
       "    length  demand_political_behavior_process  demand_labor_wage_dispute  \\\n",
       "0   0 days                                  1                          1   \n",
       "1   0 days                                  1                          0   \n",
       "2   0 days                                  1                          0   \n",
       "3  56 days                                  0                          0   \n",
       "4   1 days                                  1                          0   \n",
       "\n",
       "   demand_police_brutality  demand_social_restrictions  \\\n",
       "0                        0                           0   \n",
       "1                        0                           0   \n",
       "2                        0                           0   \n",
       "3                        0                           0   \n",
       "4                        0                           0   \n",
       "\n",
       "   demand_land_farm_issue  demand_politician_removal  \\\n",
       "0                       0                          0   \n",
       "1                       0                          0   \n",
       "2                       0                          0   \n",
       "3                       1                          0   \n",
       "4                       0                          0   \n",
       "\n",
       "   demand_price_inc_tax_policy stateresponse  \n",
       "0                            0        ignore  \n",
       "1                            0        ignore  \n",
       "2                            0        ignore  \n",
       "3                            0  accomodation  \n",
       "4                            0       arrests  "
      ]
     },
     "execution_count": 46,
     "metadata": {},
     "output_type": "execute_result"
    }
   ],
   "source": [
    "df_m1.head()"
   ]
  },
  {
   "cell_type": "code",
   "execution_count": 47,
   "id": "tx8yf4C1YI8f",
   "metadata": {
    "id": "tx8yf4C1YI8f"
   },
   "outputs": [],
   "source": [
    "# feature 'length' to integers\n",
    "df_m1['length'] = df_m1['length'].str.replace('days', '').astype(int)"
   ]
  },
  {
   "cell_type": "code",
   "execution_count": 48,
   "id": "2J6W2I8eYI8f",
   "metadata": {
    "id": "2J6W2I8eYI8f"
   },
   "outputs": [],
   "source": [
    "# Dummify 'region' column\n",
    "df_m1 = pd.get_dummies(df_m1, columns=['region', 'participants_category'], drop_first=True)"
   ]
  },
  {
   "cell_type": "code",
   "execution_count": 49,
   "id": "WQWuZpeiYI8f",
   "metadata": {
    "colab": {
     "base_uri": "https://localhost:8080/"
    },
    "id": "WQWuZpeiYI8f",
    "outputId": "8eab40c3-4109-4ba1-f4e4-402d2ccf002c"
   },
   "outputs": [
    {
     "data": {
      "text/plain": [
       "ignore             0.525332\n",
       "crowd dispersal    0.178971\n",
       "arrests            0.103040\n",
       "accomodation       0.067904\n",
       "killings           0.054283\n",
       "beatings           0.041913\n",
       "shootings          0.028556\n",
       "Name: stateresponse, dtype: float64"
      ]
     },
     "execution_count": 49,
     "metadata": {},
     "output_type": "execute_result"
    }
   ],
   "source": [
    "df_m1['stateresponse'].value_counts(normalize=True)"
   ]
  },
  {
   "cell_type": "code",
   "execution_count": 51,
   "id": "8PWzqTR2aEe5",
   "metadata": {
    "id": "8PWzqTR2aEe5"
   },
   "outputs": [],
   "source": [
    "df_m1['stateresponse'] = df_m1['stateresponse'].replace({'killings':6,\n",
    "                                                         'shootings':5,\n",
    "                                                         'beatings':4,\n",
    "                                                         'arrests':3, \n",
    "                                                         'crowd dispersal':2,\n",
    "                                                         'accomodation':1, \n",
    "                                                         'ignore':0\n",
    "                                                         })"
   ]
  },
  {
   "cell_type": "code",
   "execution_count": 52,
   "id": "97LswVPEaeRv",
   "metadata": {
    "colab": {
     "base_uri": "https://localhost:8080/"
    },
    "id": "97LswVPEaeRv",
    "outputId": "a132fdf5-7f98-47e2-8f4e-88331db98a59"
   },
   "outputs": [
    {
     "data": {
      "text/plain": [
       "0    0.525332\n",
       "2    0.178971\n",
       "3    0.103040\n",
       "1    0.067904\n",
       "6    0.054283\n",
       "4    0.041913\n",
       "5    0.028556\n",
       "Name: stateresponse, dtype: float64"
      ]
     },
     "execution_count": 52,
     "metadata": {},
     "output_type": "execute_result"
    }
   ],
   "source": [
    "df_m1['stateresponse'].value_counts(normalize=True)"
   ]
  },
  {
   "cell_type": "markdown",
   "id": "f1eiasnmYI8f",
   "metadata": {
    "id": "f1eiasnmYI8f"
   },
   "source": [
    "X, y Train test split"
   ]
  },
  {
   "cell_type": "code",
   "execution_count": 53,
   "id": "JGvE_taMYI8f",
   "metadata": {
    "id": "JGvE_taMYI8f"
   },
   "outputs": [],
   "source": [
    "X_m1 = df_m1.drop(columns='stateresponse')\n",
    "y_m1 = df_m1['stateresponse']"
   ]
  },
  {
   "cell_type": "code",
   "execution_count": 54,
   "id": "FI7sOt1gYI8f",
   "metadata": {
    "id": "FI7sOt1gYI8f"
   },
   "outputs": [],
   "source": [
    "X_train_m1, X_test_m1, y_train_m1, y_test_m1 = train_test_split(X_m1, y_m1, random_state=42, stratify=y_m1)"
   ]
  },
  {
   "cell_type": "markdown",
   "id": "6r-ATWb3YI8f",
   "metadata": {
    "id": "6r-ATWb3YI8f"
   },
   "source": [
    "StandardScaler"
   ]
  },
  {
   "cell_type": "code",
   "execution_count": 55,
   "id": "lSIrQfCCYI8g",
   "metadata": {
    "id": "lSIrQfCCYI8g"
   },
   "outputs": [],
   "source": [
    "ss = StandardScaler()\n",
    "\n",
    "Xs_train_m1 = ss.fit_transform(X_train_m1)\n",
    "Xs_test_m1 = ss.transform(X_test_m1)"
   ]
  },
  {
   "cell_type": "markdown",
   "id": "GT5J7KHLYI8g",
   "metadata": {
    "id": "GT5J7KHLYI8g"
   },
   "source": [
    "Network Topology for Binary Classification"
   ]
  },
  {
   "cell_type": "code",
   "execution_count": 56,
   "id": "hsl2ytw_YI8g",
   "metadata": {
    "colab": {
     "base_uri": "https://localhost:8080/"
    },
    "id": "hsl2ytw_YI8g",
    "outputId": "e69b136d-54bc-4725-820f-7d875b027697"
   },
   "outputs": [
    {
     "data": {
      "text/plain": [
       "22"
      ]
     },
     "execution_count": 56,
     "metadata": {},
     "output_type": "execute_result"
    }
   ],
   "source": [
    "Xs_train_m1.shape[1]"
   ]
  },
  {
   "cell_type": "code",
   "execution_count": 58,
   "id": "svr4dt14YI8g",
   "metadata": {
    "id": "svr4dt14YI8g"
   },
   "outputs": [],
   "source": [
    "model_m1 = Sequential()\n",
    "model_m1.add(Dense(15, \n",
    "                   input_shape=(Xs_train_m1.shape[1],),\n",
    "                   activation='relu'))\n",
    "model_m1.add(Dropout(0.2))\n",
    "model_m1.add(Dense(10,\n",
    "                   activation='relu'))\n",
    "model_m1.add(Dense(7,\n",
    "                   activation='softmax'))"
   ]
  },
  {
   "cell_type": "code",
   "execution_count": 59,
   "id": "I3k1j6erYI8g",
   "metadata": {
    "id": "I3k1j6erYI8g"
   },
   "outputs": [],
   "source": [
    "model_m1.compile(loss='sparse_categorical_crossentropy', metrics=['accuracy'], optimizer='adam')"
   ]
  },
  {
   "cell_type": "code",
   "execution_count": 60,
   "id": "iTNSxpFmYI8g",
   "metadata": {
    "colab": {
     "base_uri": "https://localhost:8080/"
    },
    "id": "iTNSxpFmYI8g",
    "outputId": "165381b0-b822-4719-83a2-219c5d85b006"
   },
   "outputs": [
    {
     "name": "stdout",
     "output_type": "stream",
     "text": [
      "Epoch 1/40\n",
      "760/760 [==============================] - 5s 5ms/step - loss: 1.4895 - accuracy: 0.5119 - val_loss: 1.3302 - val_accuracy: 0.5437\n",
      "Epoch 2/40\n",
      "760/760 [==============================] - 3s 4ms/step - loss: 1.3199 - accuracy: 0.5601 - val_loss: 1.2727 - val_accuracy: 0.5818\n",
      "Epoch 3/40\n",
      "760/760 [==============================] - 3s 3ms/step - loss: 1.2812 - accuracy: 0.5779 - val_loss: 1.2563 - val_accuracy: 0.5850\n",
      "Epoch 4/40\n",
      "760/760 [==============================] - 3s 4ms/step - loss: 1.2663 - accuracy: 0.5786 - val_loss: 1.2495 - val_accuracy: 0.5842\n",
      "Epoch 5/40\n",
      "760/760 [==============================] - 4s 5ms/step - loss: 1.2600 - accuracy: 0.5833 - val_loss: 1.2443 - val_accuracy: 0.5837\n",
      "Epoch 6/40\n",
      "760/760 [==============================] - 3s 4ms/step - loss: 1.2521 - accuracy: 0.5826 - val_loss: 1.2392 - val_accuracy: 0.5824\n",
      "Epoch 7/40\n",
      "760/760 [==============================] - 3s 4ms/step - loss: 1.2538 - accuracy: 0.5827 - val_loss: 1.2371 - val_accuracy: 0.5821\n",
      "Epoch 8/40\n",
      "760/760 [==============================] - 3s 4ms/step - loss: 1.2493 - accuracy: 0.5838 - val_loss: 1.2362 - val_accuracy: 0.5834\n",
      "Epoch 9/40\n",
      "760/760 [==============================] - 4s 5ms/step - loss: 1.2438 - accuracy: 0.5841 - val_loss: 1.2326 - val_accuracy: 0.5842\n",
      "Epoch 10/40\n",
      "760/760 [==============================] - 3s 4ms/step - loss: 1.2406 - accuracy: 0.5871 - val_loss: 1.2322 - val_accuracy: 0.5842\n",
      "Epoch 11/40\n",
      "760/760 [==============================] - 1s 2ms/step - loss: 1.2413 - accuracy: 0.5832 - val_loss: 1.2304 - val_accuracy: 0.5853\n",
      "Epoch 12/40\n",
      "760/760 [==============================] - 2s 2ms/step - loss: 1.2365 - accuracy: 0.5862 - val_loss: 1.2302 - val_accuracy: 0.5837\n",
      "Epoch 13/40\n",
      "760/760 [==============================] - 1s 2ms/step - loss: 1.2379 - accuracy: 0.5876 - val_loss: 1.2286 - val_accuracy: 0.5847\n",
      "Epoch 14/40\n",
      "760/760 [==============================] - 2s 2ms/step - loss: 1.2364 - accuracy: 0.5848 - val_loss: 1.2279 - val_accuracy: 0.5842\n",
      "Epoch 15/40\n",
      "760/760 [==============================] - 2s 2ms/step - loss: 1.2345 - accuracy: 0.5841 - val_loss: 1.2272 - val_accuracy: 0.5839\n",
      "Epoch 16/40\n",
      "760/760 [==============================] - 2s 2ms/step - loss: 1.2309 - accuracy: 0.5873 - val_loss: 1.2268 - val_accuracy: 0.5853\n",
      "Epoch 17/40\n",
      "760/760 [==============================] - 2s 2ms/step - loss: 1.2338 - accuracy: 0.5870 - val_loss: 1.2268 - val_accuracy: 0.5837\n",
      "Epoch 18/40\n",
      "760/760 [==============================] - 2s 2ms/step - loss: 1.2329 - accuracy: 0.5866 - val_loss: 1.2261 - val_accuracy: 0.5845\n",
      "Epoch 19/40\n",
      "760/760 [==============================] - 2s 2ms/step - loss: 1.2286 - accuracy: 0.5882 - val_loss: 1.2257 - val_accuracy: 0.5861\n",
      "Epoch 20/40\n",
      "760/760 [==============================] - 2s 2ms/step - loss: 1.2308 - accuracy: 0.5869 - val_loss: 1.2249 - val_accuracy: 0.5868\n",
      "Epoch 21/40\n",
      "760/760 [==============================] - 2s 2ms/step - loss: 1.2286 - accuracy: 0.5881 - val_loss: 1.2265 - val_accuracy: 0.5845\n",
      "Epoch 22/40\n",
      "760/760 [==============================] - 2s 2ms/step - loss: 1.2262 - accuracy: 0.5898 - val_loss: 1.2249 - val_accuracy: 0.5866\n",
      "Epoch 23/40\n",
      "760/760 [==============================] - 2s 2ms/step - loss: 1.2295 - accuracy: 0.5881 - val_loss: 1.2278 - val_accuracy: 0.5855\n",
      "Epoch 24/40\n",
      "760/760 [==============================] - 2s 2ms/step - loss: 1.2244 - accuracy: 0.5878 - val_loss: 1.2273 - val_accuracy: 0.5853\n",
      "Epoch 25/40\n",
      "760/760 [==============================] - 2s 2ms/step - loss: 1.2234 - accuracy: 0.5898 - val_loss: 1.2263 - val_accuracy: 0.5868\n",
      "Epoch 26/40\n",
      "760/760 [==============================] - 2s 2ms/step - loss: 1.2230 - accuracy: 0.5879 - val_loss: 1.2244 - val_accuracy: 0.5874\n",
      "Epoch 27/40\n",
      "760/760 [==============================] - 2s 2ms/step - loss: 1.2239 - accuracy: 0.5886 - val_loss: 1.2256 - val_accuracy: 0.5879\n",
      "Epoch 28/40\n",
      "760/760 [==============================] - 2s 2ms/step - loss: 1.2226 - accuracy: 0.5878 - val_loss: 1.2263 - val_accuracy: 0.5858\n",
      "Epoch 29/40\n",
      "760/760 [==============================] - 2s 2ms/step - loss: 1.2208 - accuracy: 0.5912 - val_loss: 1.2270 - val_accuracy: 0.5845\n",
      "Epoch 30/40\n",
      "760/760 [==============================] - 2s 3ms/step - loss: 1.2219 - accuracy: 0.5885 - val_loss: 1.2242 - val_accuracy: 0.5861\n",
      "Epoch 31/40\n",
      "760/760 [==============================] - 2s 2ms/step - loss: 1.2174 - accuracy: 0.5866 - val_loss: 1.2241 - val_accuracy: 0.5868\n",
      "Epoch 32/40\n",
      "760/760 [==============================] - 2s 2ms/step - loss: 1.2207 - accuracy: 0.5889 - val_loss: 1.2239 - val_accuracy: 0.5847\n",
      "Epoch 33/40\n",
      "760/760 [==============================] - 2s 2ms/step - loss: 1.2197 - accuracy: 0.5891 - val_loss: 1.2228 - val_accuracy: 0.5842\n",
      "Epoch 34/40\n",
      "760/760 [==============================] - 2s 2ms/step - loss: 1.2208 - accuracy: 0.5883 - val_loss: 1.2214 - val_accuracy: 0.5861\n",
      "Epoch 35/40\n",
      "760/760 [==============================] - 2s 2ms/step - loss: 1.2157 - accuracy: 0.5912 - val_loss: 1.2218 - val_accuracy: 0.5868\n",
      "Epoch 36/40\n",
      "760/760 [==============================] - 2s 2ms/step - loss: 1.2215 - accuracy: 0.5891 - val_loss: 1.2227 - val_accuracy: 0.5858\n",
      "Epoch 37/40\n",
      "760/760 [==============================] - 2s 2ms/step - loss: 1.2181 - accuracy: 0.5891 - val_loss: 1.2221 - val_accuracy: 0.5855\n",
      "Epoch 38/40\n",
      "760/760 [==============================] - 2s 2ms/step - loss: 1.2186 - accuracy: 0.5881 - val_loss: 1.2223 - val_accuracy: 0.5839\n",
      "Epoch 39/40\n",
      "760/760 [==============================] - 2s 2ms/step - loss: 1.2193 - accuracy: 0.5864 - val_loss: 1.2240 - val_accuracy: 0.5858\n",
      "Epoch 40/40\n",
      "760/760 [==============================] - 2s 2ms/step - loss: 1.2184 - accuracy: 0.5900 - val_loss: 1.2237 - val_accuracy: 0.5861\n"
     ]
    }
   ],
   "source": [
    "history_m1 = model_m1.fit(\n",
    "    Xs_train_m1, y_train_m1,\n",
    "    validation_data=(Xs_test_m1, y_test_m1),\n",
    "    epochs=40,\n",
    "    batch_size=15,\n",
    "    verbose=1)"
   ]
  },
  {
   "cell_type": "code",
   "execution_count": 61,
   "id": "5Pqn7OS5YI8g",
   "metadata": {
    "colab": {
     "base_uri": "https://localhost:8080/",
     "height": 267
    },
    "id": "5Pqn7OS5YI8g",
    "outputId": "59ae3e7f-e304-4767-cdab-42c189e60572"
   },
   "outputs": [
    {
     "data": {
      "image/png": "[encoded data removed]",
      "text/plain": [
       "<Figure size 432x288 with 1 Axes>"
      ]
     },
     "metadata": {
      "needs_background": "light"
     },
     "output_type": "display_data"
    }
   ],
   "source": [
    "plt.plot(history_m1.history['loss'], label='Train loss')\n",
    "plt.plot(history_m1.history['val_loss'], label='Test loss')\n",
    "plt.legend();"
   ]
  },
  {
   "cell_type": "code",
   "execution_count": 62,
   "id": "G73bWd0RYI8g",
   "metadata": {
    "colab": {
     "base_uri": "https://localhost:8080/",
     "height": 265
    },
    "id": "G73bWd0RYI8g",
    "outputId": "85db30d2-ef37-48a9-8664-3131b290f5f7"
   },
   "outputs": [
    {
     "data": {
      "image/png": "[encoded data removed]",
      "text/plain": [
       "<Figure size 432x288 with 1 Axes>"
      ]
     },
     "metadata": {
      "needs_background": "light"
     },
     "output_type": "display_data"
    }
   ],
   "source": [
    "plt.plot(history_m1.history['accuracy'], label='Train accuracy')\n",
    "plt.plot(history_m1.history['val_accuracy'], label='Test acccuracy')\n",
    "plt.legend();"
   ]
  },
  {
   "cell_type": "markdown",
   "id": "INJBij1rZHtk",
   "metadata": {
    "id": "INJBij1rZHtk"
   },
   "source": [
    "Multi w/o 'ignore'"
   ]
  },
  {
   "cell_type": "code",
   "execution_count": 63,
   "id": "5SDvQt6DZYrD",
   "metadata": {
    "id": "5SDvQt6DZYrD"
   },
   "outputs": [],
   "source": [
    "df_m2 = df1.drop(columns=['year', 'notes', 'startdate', 'enddate', 'participants_size', 'neg_response'])"
   ]
  },
  {
   "cell_type": "code",
   "execution_count": 65,
   "id": "UQDMUk4JZYrJ",
   "metadata": {
    "colab": {
     "base_uri": "https://localhost:8080/",
     "height": 357
    },
    "id": "UQDMUk4JZYrJ",
    "outputId": "d6fd9ca1-1c01-4b41-c61c-85655943f08d"
   },
   "outputs": [
    {
     "data": {
      "text/html": [
       "\n",
       "  <div id=\"df-90a8f293-3fe9-4feb-b0c9-5837bf60ae9a\">\n",
       "    <div class=\"colab-df-container\">\n",
       "      <div>\n",
       "<style scoped>\n",
       "    .dataframe tbody tr th:only-of-type {\n",
       "        vertical-align: middle;\n",
       "    }\n",
       "\n",
       "    .dataframe tbody tr th {\n",
       "        vertical-align: top;\n",
       "    }\n",
       "\n",
       "    .dataframe thead th {\n",
       "        text-align: right;\n",
       "    }\n",
       "</style>\n",
       "<table border=\"1\" class=\"dataframe\">\n",
       "  <thead>\n",
       "    <tr style=\"text-align: right;\">\n",
       "      <th></th>\n",
       "      <th>region</th>\n",
       "      <th>protesterviolence</th>\n",
       "      <th>participants_category</th>\n",
       "      <th>nationwide</th>\n",
       "      <th>length</th>\n",
       "      <th>demand_political_behavior_process</th>\n",
       "      <th>demand_labor_wage_dispute</th>\n",
       "      <th>demand_police_brutality</th>\n",
       "      <th>demand_social_restrictions</th>\n",
       "      <th>demand_land_farm_issue</th>\n",
       "      <th>demand_politician_removal</th>\n",
       "      <th>demand_price_inc_tax_policy</th>\n",
       "      <th>stateresponse</th>\n",
       "    </tr>\n",
       "  </thead>\n",
       "  <tbody>\n",
       "    <tr>\n",
       "      <th>0</th>\n",
       "      <td>North America</td>\n",
       "      <td>0</td>\n",
       "      <td>1000-1999</td>\n",
       "      <td>1</td>\n",
       "      <td>0 days</td>\n",
       "      <td>1</td>\n",
       "      <td>1</td>\n",
       "      <td>0</td>\n",
       "      <td>0</td>\n",
       "      <td>0</td>\n",
       "      <td>0</td>\n",
       "      <td>0</td>\n",
       "      <td>ignore</td>\n",
       "    </tr>\n",
       "    <tr>\n",
       "      <th>1</th>\n",
       "      <td>North America</td>\n",
       "      <td>0</td>\n",
       "      <td>1000-1999</td>\n",
       "      <td>0</td>\n",
       "      <td>0 days</td>\n",
       "      <td>1</td>\n",
       "      <td>0</td>\n",
       "      <td>0</td>\n",
       "      <td>0</td>\n",
       "      <td>0</td>\n",
       "      <td>0</td>\n",
       "      <td>0</td>\n",
       "      <td>ignore</td>\n",
       "    </tr>\n",
       "    <tr>\n",
       "      <th>2</th>\n",
       "      <td>North America</td>\n",
       "      <td>0</td>\n",
       "      <td>100-999</td>\n",
       "      <td>0</td>\n",
       "      <td>0 days</td>\n",
       "      <td>1</td>\n",
       "      <td>0</td>\n",
       "      <td>0</td>\n",
       "      <td>0</td>\n",
       "      <td>0</td>\n",
       "      <td>0</td>\n",
       "      <td>0</td>\n",
       "      <td>ignore</td>\n",
       "    </tr>\n",
       "    <tr>\n",
       "      <th>3</th>\n",
       "      <td>North America</td>\n",
       "      <td>1</td>\n",
       "      <td>100-999</td>\n",
       "      <td>0</td>\n",
       "      <td>56 days</td>\n",
       "      <td>0</td>\n",
       "      <td>0</td>\n",
       "      <td>0</td>\n",
       "      <td>0</td>\n",
       "      <td>1</td>\n",
       "      <td>0</td>\n",
       "      <td>0</td>\n",
       "      <td>accomodation</td>\n",
       "    </tr>\n",
       "    <tr>\n",
       "      <th>4</th>\n",
       "      <td>North America</td>\n",
       "      <td>1</td>\n",
       "      <td>100-999</td>\n",
       "      <td>0</td>\n",
       "      <td>1 days</td>\n",
       "      <td>1</td>\n",
       "      <td>0</td>\n",
       "      <td>0</td>\n",
       "      <td>0</td>\n",
       "      <td>0</td>\n",
       "      <td>0</td>\n",
       "      <td>0</td>\n",
       "      <td>arrests</td>\n",
       "    </tr>\n",
       "  </tbody>\n",
       "</table>\n",
       "</div>\n",
       "      <button class=\"colab-df-convert\" onclick=\"convertToInteractive('df-90a8f293-3fe9-4feb-b0c9-5837bf60ae9a')\"\n",
       "              title=\"Convert this dataframe to an interactive table.\"\n",
       "              style=\"display:none;\">\n",
       "        \n",
       "  <svg xmlns=\"http://www.w3.org/2000/svg\" height=\"24px\"viewBox=\"0 0 24 24\"\n",
       "       width=\"24px\">\n",
       "    <path d=\"M0 0h24v24H0V0z\" fill=\"none\"/>\n",
       "    <path d=\"M18.56 5.44l.94 2.06.94-2.06 2.06-.94-2.06-.94-.94-2.06-.94 2.06-2.06.94zm-11 1L8.5 8.5l.94-2.06 2.06-.94-2.06-.94L8.5 2.5l-.94 2.06-2.06.94zm10 10l.94 2.06.94-2.06 2.06-.94-2.06-.94-.94-2.06-.94 2.06-2.06.94z\"/><path d=\"M17.41 7.96l-1.37-1.37c-.4-.4-.92-.59-1.43-.59-.52 0-1.04.2-1.43.59L10.3 9.45l-7.72 7.72c-.78.78-.78 2.05 0 2.83L4 21.41c.39.39.9.59 1.41.59.51 0 1.02-.2 1.41-.59l7.78-7.78 2.81-2.81c.8-.78.8-2.07 0-2.86zM5.41 20L4 18.59l7.72-7.72 1.47 1.35L5.41 20z\"/>\n",
       "  </svg>\n",
       "      </button>\n",
       "      \n",
       "  <style>\n",
       "    .colab-df-container {\n",
       "      display:flex;\n",
       "      flex-wrap:wrap;\n",
       "      gap: 12px;\n",
       "    }\n",
       "\n",
       "    .colab-df-convert {\n",
       "      background-color: #E8F0FE;\n",
       "      border: none;\n",
       "      border-radius: 50%;\n",
       "      cursor: pointer;\n",
       "      display: none;\n",
       "      fill: #1967D2;\n",
       "      height: 32px;\n",
       "      padding: 0 0 0 0;\n",
       "      width: 32px;\n",
       "    }\n",
       "\n",
       "    .colab-df-convert:hover {\n",
       "      background-color: #E2EBFA;\n",
       "      box-shadow: 0px 1px 2px rgba(60, 64, 67, 0.3), 0px 1px 3px 1px rgba(60, 64, 67, 0.15);\n",
       "      fill: #174EA6;\n",
       "    }\n",
       "\n",
       "    [theme=dark] .colab-df-convert {\n",
       "      background-color: #3B4455;\n",
       "      fill: #D2E3FC;\n",
       "    }\n",
       "\n",
       "    [theme=dark] .colab-df-convert:hover {\n",
       "      background-color: #434B5C;\n",
       "      box-shadow: 0px 1px 3px 1px rgba(0, 0, 0, 0.15);\n",
       "      filter: drop-shadow(0px 1px 2px rgba(0, 0, 0, 0.3));\n",
       "      fill: #FFFFFF;\n",
       "    }\n",
       "  </style>\n",
       "\n",
       "      <script>\n",
       "        const buttonEl =\n",
       "          document.querySelector('#df-90a8f293-3fe9-4feb-b0c9-5837bf60ae9a button.colab-df-convert');\n",
       "        buttonEl.style.display =\n",
       "          google.colab.kernel.accessAllowed ? 'block' : 'none';\n",
       "\n",
       "        async function convertToInteractive(key) {\n",
       "          const element = document.querySelector('#df-90a8f293-3fe9-4feb-b0c9-5837bf60ae9a');\n",
       "          const dataTable =\n",
       "            await google.colab.kernel.invokeFunction('convertToInteractive',\n",
       "                                                     [key], {});\n",
       "          if (!dataTable) return;\n",
       "\n",
       "          const docLinkHtml = 'Like what you see? Visit the ' +\n",
       "            '<a target=\"_blank\" href=https://colab.research.google.com/notebooks/data_table.ipynb>data table notebook</a>'\n",
       "            + ' to learn more about interactive tables.';\n",
       "          element.innerHTML = '';\n",
       "          dataTable['output_type'] = 'display_data';\n",
       "          await google.colab.output.renderOutput(dataTable, element);\n",
       "          const docLink = document.createElement('div');\n",
       "          docLink.innerHTML = docLinkHtml;\n",
       "          element.appendChild(docLink);\n",
       "        }\n",
       "      </script>\n",
       "    </div>\n",
       "  </div>\n",
       "  "
      ],
      "text/plain": [
       "          region  protesterviolence participants_category  nationwide  \\\n",
       "0  North America                  0             1000-1999           1   \n",
       "1  North America                  0             1000-1999           0   \n",
       "2  North America                  0               100-999           0   \n",
       "3  North America                  1               100-999           0   \n",
       "4  North America                  1               100-999           0   \n",
       "\n",
       "    length  demand_political_behavior_process  demand_labor_wage_dispute  \\\n",
       "0   0 days                                  1                          1   \n",
       "1   0 days                                  1                          0   \n",
       "2   0 days                                  1                          0   \n",
       "3  56 days                                  0                          0   \n",
       "4   1 days                                  1                          0   \n",
       "\n",
       "   demand_police_brutality  demand_social_restrictions  \\\n",
       "0                        0                           0   \n",
       "1                        0                           0   \n",
       "2                        0                           0   \n",
       "3                        0                           0   \n",
       "4                        0                           0   \n",
       "\n",
       "   demand_land_farm_issue  demand_politician_removal  \\\n",
       "0                       0                          0   \n",
       "1                       0                          0   \n",
       "2                       0                          0   \n",
       "3                       1                          0   \n",
       "4                       0                          0   \n",
       "\n",
       "   demand_price_inc_tax_policy stateresponse  \n",
       "0                            0        ignore  \n",
       "1                            0        ignore  \n",
       "2                            0        ignore  \n",
       "3                            0  accomodation  \n",
       "4                            0       arrests  "
      ]
     },
     "execution_count": 65,
     "metadata": {},
     "output_type": "execute_result"
    }
   ],
   "source": [
    "df_m2.head()"
   ]
  },
  {
   "cell_type": "code",
   "execution_count": 66,
   "id": "UFwfaSAgZYrJ",
   "metadata": {
    "id": "UFwfaSAgZYrJ"
   },
   "outputs": [],
   "source": [
    "# feature 'length' to integers\n",
    "df_m2['length'] = df_m2['length'].str.replace('days', '').astype(int)"
   ]
  },
  {
   "cell_type": "code",
   "execution_count": 67,
   "id": "2CHK8nBLZYrJ",
   "metadata": {
    "id": "2CHK8nBLZYrJ"
   },
   "outputs": [],
   "source": [
    "# Dummify 'region' column\n",
    "df_m2 = pd.get_dummies(df_m2, columns=['region', 'participants_category'], drop_first=True)"
   ]
  },
  {
   "cell_type": "code",
   "execution_count": 68,
   "id": "qx6Y4FlAZYrJ",
   "metadata": {
    "colab": {
     "base_uri": "https://localhost:8080/"
    },
    "id": "qx6Y4FlAZYrJ",
    "outputId": "149d90e1-7418-4113-98cf-fac32db40563"
   },
   "outputs": [
    {
     "data": {
      "text/plain": [
       "ignore             0.525332\n",
       "crowd dispersal    0.178971\n",
       "arrests            0.103040\n",
       "accomodation       0.067904\n",
       "killings           0.054283\n",
       "beatings           0.041913\n",
       "shootings          0.028556\n",
       "Name: stateresponse, dtype: float64"
      ]
     },
     "execution_count": 68,
     "metadata": {},
     "output_type": "execute_result"
    }
   ],
   "source": [
    "df_m2['stateresponse'].value_counts(normalize=True)"
   ]
  },
  {
   "cell_type": "code",
   "execution_count": 69,
   "id": "9TES2bjWZk3X",
   "metadata": {
    "id": "9TES2bjWZk3X"
   },
   "outputs": [],
   "source": [
    "df_m2 = df_m2[df_m2['stateresponse'] != 'ignore']"
   ]
  },
  {
   "cell_type": "code",
   "execution_count": 70,
   "id": "igoTHQg_Zxt3",
   "metadata": {
    "colab": {
     "base_uri": "https://localhost:8080/"
    },
    "id": "igoTHQg_Zxt3",
    "outputId": "d882c767-cc3c-474d-e959-5cd2563b8359"
   },
   "outputs": [
    {
     "data": {
      "text/plain": [
       "crowd dispersal    2720\n",
       "arrests            1566\n",
       "accomodation       1032\n",
       "killings            825\n",
       "beatings            637\n",
       "shootings           434\n",
       "Name: stateresponse, dtype: int64"
      ]
     },
     "execution_count": 70,
     "metadata": {},
     "output_type": "execute_result"
    }
   ],
   "source": [
    "df_m2['stateresponse'].value_counts()"
   ]
  },
  {
   "cell_type": "code",
   "execution_count": 136,
   "id": "jdT-B_b6UEse",
   "metadata": {
    "colab": {
     "base_uri": "https://localhost:8080/"
    },
    "id": "jdT-B_b6UEse",
    "outputId": "eb1f0828-3f27-4644-eb45-adefa9977f17"
   },
   "outputs": [
    {
     "data": {
      "text/plain": [
       "(7214, 23)"
      ]
     },
     "execution_count": 136,
     "metadata": {},
     "output_type": "execute_result"
    }
   ],
   "source": [
    "df_m2.shape"
   ]
  },
  {
   "cell_type": "code",
   "execution_count": 71,
   "id": "MwUUt41qbfF6",
   "metadata": {
    "id": "MwUUt41qbfF6"
   },
   "outputs": [],
   "source": [
    "df_m2['stateresponse'] = df_m2['stateresponse'].replace({'killings':5,\n",
    "                                                         'shootings':4,\n",
    "                                                         'beatings':3,\n",
    "                                                         'arrests':2, \n",
    "                                                         'crowd dispersal':1,\n",
    "                                                         'accomodation':0\n",
    "                                                               })"
   ]
  },
  {
   "cell_type": "code",
   "execution_count": 72,
   "id": "aDfsU9KTbicr",
   "metadata": {
    "colab": {
     "base_uri": "https://localhost:8080/"
    },
    "id": "aDfsU9KTbicr",
    "outputId": "b2196c3c-46ad-4035-a06a-912ee66f0f25"
   },
   "outputs": [
    {
     "data": {
      "text/plain": [
       "1    0.377045\n",
       "2    0.217078\n",
       "0    0.143055\n",
       "5    0.114361\n",
       "3    0.088301\n",
       "4    0.060161\n",
       "Name: stateresponse, dtype: float64"
      ]
     },
     "execution_count": 72,
     "metadata": {},
     "output_type": "execute_result"
    }
   ],
   "source": [
    "df_m2['stateresponse'].value_counts(normalize=True)"
   ]
  },
  {
   "cell_type": "markdown",
   "id": "tW-UdKcWZYrJ",
   "metadata": {
    "id": "tW-UdKcWZYrJ"
   },
   "source": [
    "X, y Train test split"
   ]
  },
  {
   "cell_type": "code",
   "execution_count": 90,
   "id": "SIdkzAi-ZYrJ",
   "metadata": {
    "id": "SIdkzAi-ZYrJ"
   },
   "outputs": [],
   "source": [
    "X_m2 = df_m2.drop(columns='stateresponse')\n",
    "y_m2 = df_m2['stateresponse']"
   ]
  },
  {
   "cell_type": "code",
   "execution_count": 91,
   "id": "fcEsWsz6ZYrJ",
   "metadata": {
    "id": "fcEsWsz6ZYrJ"
   },
   "outputs": [],
   "source": [
    "X_train_m2, X_test_m2, y_train_m2, y_test_m2 = train_test_split(X_m2, y_m2, random_state=42, stratify=y_m2)"
   ]
  },
  {
   "cell_type": "markdown",
   "id": "VXRzRcaCZYrJ",
   "metadata": {
    "id": "VXRzRcaCZYrJ"
   },
   "source": [
    "StandardScaler"
   ]
  },
  {
   "cell_type": "code",
   "execution_count": 92,
   "id": "Jp--GSaDZYrJ",
   "metadata": {
    "id": "Jp--GSaDZYrJ"
   },
   "outputs": [],
   "source": [
    "ss = StandardScaler()\n",
    "\n",
    "Xs_train_m2 = ss.fit_transform(X_train_m2)\n",
    "Xs_test_m2 = ss.transform(X_test_m2)"
   ]
  },
  {
   "cell_type": "markdown",
   "id": "vk6R6V0QZYrJ",
   "metadata": {
    "id": "vk6R6V0QZYrJ"
   },
   "source": [
    "Network Topology for Binary Classification"
   ]
  },
  {
   "cell_type": "code",
   "execution_count": 93,
   "id": "-ozlmA-pZYrJ",
   "metadata": {
    "colab": {
     "base_uri": "https://localhost:8080/"
    },
    "id": "-ozlmA-pZYrJ",
    "outputId": "ba5110bf-8fb0-46ea-dc31-c1350902fa57"
   },
   "outputs": [
    {
     "data": {
      "text/plain": [
       "22"
      ]
     },
     "execution_count": 93,
     "metadata": {},
     "output_type": "execute_result"
    }
   ],
   "source": [
    "Xs_train_m2.shape[1]"
   ]
  },
  {
   "cell_type": "code",
   "execution_count": 94,
   "id": "lxzRBSLzZYrJ",
   "metadata": {
    "id": "lxzRBSLzZYrJ"
   },
   "outputs": [],
   "source": [
    "model_m2 = Sequential()\n",
    "model_m2.add(Dense(15, \n",
    "                   input_shape=(Xs_train_m2.shape[1],),\n",
    "                   activation='relu'))\n",
    "model_m2.add(Dropout(0.2))\n",
    "model_m2.add(Dense(10,\n",
    "                   activation='relu'))\n",
    "model_m2.add(Dense(6,\n",
    "                   activation='softmax'))"
   ]
  },
  {
   "cell_type": "code",
   "execution_count": 95,
   "id": "muQd1UtUZYrJ",
   "metadata": {
    "id": "muQd1UtUZYrJ"
   },
   "outputs": [],
   "source": [
    "model_m2.compile(loss='sparse_categorical_crossentropy', metrics=['accuracy'], optimizer='adam')"
   ]
  },
  {
   "cell_type": "code",
   "execution_count": 96,
   "id": "HeXZG-0HZYrJ",
   "metadata": {
    "colab": {
     "base_uri": "https://localhost:8080/"
    },
    "id": "HeXZG-0HZYrJ",
    "outputId": "e266f230-1ce8-4fbf-f0a6-cc5b48911ab2"
   },
   "outputs": [
    {
     "name": "stdout",
     "output_type": "stream",
     "text": [
      "Epoch 1/40\n",
      "361/361 [==============================] - 1s 3ms/step - loss: 1.7567 - accuracy: 0.3107 - val_loss: 1.6345 - val_accuracy: 0.3720\n",
      "Epoch 2/40\n",
      "361/361 [==============================] - 1s 2ms/step - loss: 1.6160 - accuracy: 0.3654 - val_loss: 1.5842 - val_accuracy: 0.3758\n",
      "Epoch 3/40\n",
      "361/361 [==============================] - 1s 2ms/step - loss: 1.5795 - accuracy: 0.3732 - val_loss: 1.5477 - val_accuracy: 0.3836\n",
      "Epoch 4/40\n",
      "361/361 [==============================] - 1s 2ms/step - loss: 1.5409 - accuracy: 0.3893 - val_loss: 1.5143 - val_accuracy: 0.3947\n",
      "Epoch 5/40\n",
      "361/361 [==============================] - 1s 2ms/step - loss: 1.5187 - accuracy: 0.3884 - val_loss: 1.4898 - val_accuracy: 0.4041\n",
      "Epoch 6/40\n",
      "361/361 [==============================] - 1s 2ms/step - loss: 1.4983 - accuracy: 0.3978 - val_loss: 1.4704 - val_accuracy: 0.3975\n",
      "Epoch 7/40\n",
      "361/361 [==============================] - 1s 2ms/step - loss: 1.4909 - accuracy: 0.3950 - val_loss: 1.4663 - val_accuracy: 0.4019\n",
      "Epoch 8/40\n",
      "361/361 [==============================] - 1s 2ms/step - loss: 1.4840 - accuracy: 0.4041 - val_loss: 1.4596 - val_accuracy: 0.3975\n",
      "Epoch 9/40\n",
      "361/361 [==============================] - 1s 2ms/step - loss: 1.4817 - accuracy: 0.3996 - val_loss: 1.4562 - val_accuracy: 0.4047\n",
      "Epoch 10/40\n",
      "361/361 [==============================] - 1s 2ms/step - loss: 1.4688 - accuracy: 0.4039 - val_loss: 1.4515 - val_accuracy: 0.4085\n",
      "Epoch 11/40\n",
      "361/361 [==============================] - 1s 2ms/step - loss: 1.4699 - accuracy: 0.4083 - val_loss: 1.4509 - val_accuracy: 0.4096\n",
      "Epoch 12/40\n",
      "361/361 [==============================] - 1s 2ms/step - loss: 1.4634 - accuracy: 0.4083 - val_loss: 1.4455 - val_accuracy: 0.4124\n",
      "Epoch 13/40\n",
      "361/361 [==============================] - 1s 2ms/step - loss: 1.4609 - accuracy: 0.4074 - val_loss: 1.4421 - val_accuracy: 0.4035\n",
      "Epoch 14/40\n",
      "361/361 [==============================] - 1s 2ms/step - loss: 1.4600 - accuracy: 0.4028 - val_loss: 1.4417 - val_accuracy: 0.4146\n",
      "Epoch 15/40\n",
      "361/361 [==============================] - 1s 2ms/step - loss: 1.4538 - accuracy: 0.4128 - val_loss: 1.4392 - val_accuracy: 0.4085\n",
      "Epoch 16/40\n",
      "361/361 [==============================] - 1s 2ms/step - loss: 1.4592 - accuracy: 0.4072 - val_loss: 1.4397 - val_accuracy: 0.4135\n",
      "Epoch 17/40\n",
      "361/361 [==============================] - 1s 2ms/step - loss: 1.4520 - accuracy: 0.4139 - val_loss: 1.4383 - val_accuracy: 0.4135\n",
      "Epoch 18/40\n",
      "361/361 [==============================] - 1s 2ms/step - loss: 1.4479 - accuracy: 0.4072 - val_loss: 1.4378 - val_accuracy: 0.4180\n",
      "Epoch 19/40\n",
      "361/361 [==============================] - 1s 2ms/step - loss: 1.4566 - accuracy: 0.4133 - val_loss: 1.4374 - val_accuracy: 0.4030\n",
      "Epoch 20/40\n",
      "361/361 [==============================] - 1s 2ms/step - loss: 1.4474 - accuracy: 0.4109 - val_loss: 1.4333 - val_accuracy: 0.4113\n",
      "Epoch 21/40\n",
      "361/361 [==============================] - 1s 2ms/step - loss: 1.4492 - accuracy: 0.4131 - val_loss: 1.4343 - val_accuracy: 0.4085\n",
      "Epoch 22/40\n",
      "361/361 [==============================] - 1s 2ms/step - loss: 1.4446 - accuracy: 0.4159 - val_loss: 1.4339 - val_accuracy: 0.4119\n",
      "Epoch 23/40\n",
      "361/361 [==============================] - 1s 2ms/step - loss: 1.4380 - accuracy: 0.4170 - val_loss: 1.4348 - val_accuracy: 0.4146\n",
      "Epoch 24/40\n",
      "361/361 [==============================] - 1s 2ms/step - loss: 1.4461 - accuracy: 0.4135 - val_loss: 1.4335 - val_accuracy: 0.4096\n",
      "Epoch 25/40\n",
      "361/361 [==============================] - 1s 2ms/step - loss: 1.4375 - accuracy: 0.4177 - val_loss: 1.4318 - val_accuracy: 0.4096\n",
      "Epoch 26/40\n",
      "361/361 [==============================] - 1s 2ms/step - loss: 1.4434 - accuracy: 0.4231 - val_loss: 1.4331 - val_accuracy: 0.4102\n",
      "Epoch 27/40\n",
      "361/361 [==============================] - 1s 2ms/step - loss: 1.4446 - accuracy: 0.4161 - val_loss: 1.4303 - val_accuracy: 0.4113\n",
      "Epoch 28/40\n",
      "361/361 [==============================] - 1s 2ms/step - loss: 1.4408 - accuracy: 0.4152 - val_loss: 1.4306 - val_accuracy: 0.4119\n",
      "Epoch 29/40\n",
      "361/361 [==============================] - 1s 2ms/step - loss: 1.4416 - accuracy: 0.4161 - val_loss: 1.4300 - val_accuracy: 0.4091\n",
      "Epoch 30/40\n",
      "361/361 [==============================] - 1s 2ms/step - loss: 1.4391 - accuracy: 0.4185 - val_loss: 1.4308 - val_accuracy: 0.4074\n",
      "Epoch 31/40\n",
      "361/361 [==============================] - 1s 2ms/step - loss: 1.4441 - accuracy: 0.4137 - val_loss: 1.4300 - val_accuracy: 0.4113\n",
      "Epoch 32/40\n",
      "361/361 [==============================] - 1s 2ms/step - loss: 1.4310 - accuracy: 0.4201 - val_loss: 1.4305 - val_accuracy: 0.4096\n",
      "Epoch 33/40\n",
      "361/361 [==============================] - 1s 2ms/step - loss: 1.4346 - accuracy: 0.4192 - val_loss: 1.4312 - val_accuracy: 0.4124\n",
      "Epoch 34/40\n",
      "361/361 [==============================] - 1s 2ms/step - loss: 1.4402 - accuracy: 0.4083 - val_loss: 1.4283 - val_accuracy: 0.4108\n",
      "Epoch 35/40\n",
      "361/361 [==============================] - 1s 2ms/step - loss: 1.4326 - accuracy: 0.4144 - val_loss: 1.4278 - val_accuracy: 0.4102\n",
      "Epoch 36/40\n",
      "361/361 [==============================] - 1s 2ms/step - loss: 1.4336 - accuracy: 0.4155 - val_loss: 1.4283 - val_accuracy: 0.4124\n",
      "Epoch 37/40\n",
      "361/361 [==============================] - 1s 2ms/step - loss: 1.4343 - accuracy: 0.4189 - val_loss: 1.4284 - val_accuracy: 0.4135\n",
      "Epoch 38/40\n",
      "361/361 [==============================] - 1s 2ms/step - loss: 1.4315 - accuracy: 0.4179 - val_loss: 1.4249 - val_accuracy: 0.4135\n",
      "Epoch 39/40\n",
      "361/361 [==============================] - 1s 2ms/step - loss: 1.4268 - accuracy: 0.4181 - val_loss: 1.4283 - val_accuracy: 0.4130\n",
      "Epoch 40/40\n",
      "361/361 [==============================] - 1s 2ms/step - loss: 1.4311 - accuracy: 0.4172 - val_loss: 1.4303 - val_accuracy: 0.4113\n"
     ]
    }
   ],
   "source": [
    "history_m2 = model_m2.fit(\n",
    "    Xs_train_m2, y_train_m2,\n",
    "    validation_data=(Xs_test_m2, y_test_m2),\n",
    "    epochs=40,\n",
    "    batch_size=15,\n",
    "    verbose=1)"
   ]
  },
  {
   "cell_type": "code",
   "execution_count": 97,
   "id": "uIbCoVFdZYrK",
   "metadata": {
    "colab": {
     "base_uri": "https://localhost:8080/",
     "height": 265
    },
    "id": "uIbCoVFdZYrK",
    "outputId": "a5e3632e-53ef-43fb-995b-add9e6b3c208"
   },
   "outputs": [
    {
     "data": {
      "image/png": "[encoded data removed]",
      "text/plain": [
       "<Figure size 432x288 with 1 Axes>"
      ]
     },
     "metadata": {
      "needs_background": "light"
     },
     "output_type": "display_data"
    }
   ],
   "source": [
    "plt.plot(history_m2.history['loss'], label='Train loss')\n",
    "plt.plot(history_m2.history['val_loss'], label='Test loss')\n",
    "plt.legend();"
   ]
  },
  {
   "cell_type": "code",
   "execution_count": 98,
   "id": "OVJHoDksZYrK",
   "metadata": {
    "colab": {
     "base_uri": "https://localhost:8080/",
     "height": 265
    },
    "id": "OVJHoDksZYrK",
    "outputId": "48ca9a60-dcab-456b-d56d-1d7bc5dc980b"
   },
   "outputs": [
    {
     "data": {
      "image/png": "[encoded data removed]",
      "text/plain": [
       "<Figure size 432x288 with 1 Axes>"
      ]
     },
     "metadata": {
      "needs_background": "light"
     },
     "output_type": "display_data"
    }
   ],
   "source": [
    "plt.plot(history_m2.history['accuracy'], label='Train accuracy')\n",
    "plt.plot(history_m2.history['val_accuracy'], label='Test acccuracy')\n",
    "plt.legend();"
   ]
  },
  {
   "cell_type": "markdown",
   "id": "OoIMYEl5ZFZT",
   "metadata": {
    "id": "OoIMYEl5ZFZT"
   },
   "source": [
    "evaluation"
   ]
  },
  {
   "cell_type": "code",
   "execution_count": 117,
   "id": "GK08mBQm58jP",
   "metadata": {
    "id": "GK08mBQm58jP"
   },
   "outputs": [],
   "source": [
    "trainpreds_2c = model_2c.predict(Xs_train_2c)\n",
    "trainpreds_2c = np.argmax(trainpreds_2c, axis=1)\n",
    "\n",
    "trainpreds_3c = model_3c.predict(Xs_train_3c)\n",
    "trainpreds_3c = np.argmax(trainpreds_3c, axis=1)\n",
    "\n",
    "trainpreds_m1 = model_m1.predict(Xs_train_m1)\n",
    "trainpreds_m1 = np.argmax(trainpreds_m1, axis=1)\n",
    "\n",
    "trainpreds_m2 = model_m2.predict(Xs_train_m2)\n",
    "trainpreds_m2 = np.argmax(trainpreds_m2, axis=1)"
   ]
  },
  {
   "cell_type": "code",
   "execution_count": 116,
   "id": "w-N5z9cNjI1V",
   "metadata": {
    "id": "w-N5z9cNjI1V"
   },
   "outputs": [],
   "source": [
    "testpreds_2c = model_2c.predict(Xs_test_2c)\n",
    "testpreds_2c = np.argmax(testpreds_2c, axis=1)\n",
    "\n",
    "testpreds_3c = model_3c.predict(Xs_test_3c)\n",
    "testpreds_3c = np.argmax(testpreds_3c, axis=1)\n",
    "\n",
    "testpreds_m1 = model_m1.predict(Xs_test_m1)\n",
    "testpreds_m1 = np.argmax(testpreds_m1, axis=1)\n",
    "\n",
    "testpreds_m2 = model_m2.predict(Xs_test_m2)\n",
    "testpreds_m2 = np.argmax(testpreds_m2, axis=1)"
   ]
  },
  {
   "cell_type": "code",
   "execution_count": 118,
   "id": "ttxGgCpS7oH0",
   "metadata": {
    "colab": {
     "base_uri": "https://localhost:8080/"
    },
    "id": "ttxGgCpS7oH0",
    "outputId": "83dca30a-a3d0-4688-d222-22acbe975423"
   },
   "outputs": [
    {
     "data": {
      "text/plain": [
       "<keras.engine.sequential.Sequential at 0x7fc34e4823d0>"
      ]
     },
     "execution_count": 118,
     "metadata": {},
     "output_type": "execute_result"
    }
   ],
   "source": [
    "model_2c"
   ]
  },
  {
   "cell_type": "code",
   "execution_count": 123,
   "id": "3kPYkU58epek",
   "metadata": {
    "id": "3kPYkU58epek"
   },
   "outputs": [],
   "source": [
    "df_dict = {}\n",
    "\n",
    "modelnames = ['2 classes', '3 classes', 'multi w/ ignore', 'multi w/o ignore']\n",
    "models = [model_2c, model_3c, model_m1, model_m2]\n",
    "y_trains = [y_train_2c, y_train_3c, y_train_m1, y_train_m2]\n",
    "y_tests = [y_test_2c, y_test_3c, y_test_m1, y_test_m2]\n",
    "trainpreds = [trainpreds_2c, trainpreds_3c, trainpreds_m1, trainpreds_m2]\n",
    "testpreds = [testpreds_2c, testpreds_3c, testpreds_m1, testpreds_m2]\n",
    "\n",
    "for i in range(0,4):\n",
    "  accuracy_scores = {}\n",
    "  accuracy_scores['models'] = modelnames[i]\n",
    "  accuracy_scores['train_acc'] = accuracy_score(y_trains[i], trainpreds[i])\n",
    "  accuracy_scores['test_acc'] = accuracy_score(y_tests[i], testpreds[i])\n",
    "\n",
    "  df_dict[i] = accuracy_scores"
   ]
  },
  {
   "cell_type": "code",
   "execution_count": 130,
   "id": "3Hv4wcan75PO",
   "metadata": {
    "id": "3Hv4wcan75PO"
   },
   "outputs": [],
   "source": [
    "scores = pd.DataFrame(df_dict).T"
   ]
  },
  {
   "cell_type": "code",
   "execution_count": 132,
   "id": "i2fqVZ477-3n",
   "metadata": {
    "id": "i2fqVZ477-3n"
   },
   "outputs": [],
   "source": [
    "scores = scores.set_index('models')"
   ]
  },
  {
   "cell_type": "code",
   "execution_count": 133,
   "id": "rvyQhO0F8B4S",
   "metadata": {
    "colab": {
     "base_uri": "https://localhost:8080/",
     "height": 206
    },
    "id": "rvyQhO0F8B4S",
    "outputId": "633b994f-efd3-46d1-a562-e0dc11c23fc3"
   },
   "outputs": [
    {
     "data": {
      "text/html": [
       "\n",
       "  <div id=\"df-8f8973e2-bfdc-4611-a5a0-d616a7513e6e\">\n",
       "    <div class=\"colab-df-container\">\n",
       "      <div>\n",
       "<style scoped>\n",
       "    .dataframe tbody tr th:only-of-type {\n",
       "        vertical-align: middle;\n",
       "    }\n",
       "\n",
       "    .dataframe tbody tr th {\n",
       "        vertical-align: top;\n",
       "    }\n",
       "\n",
       "    .dataframe thead th {\n",
       "        text-align: right;\n",
       "    }\n",
       "</style>\n",
       "<table border=\"1\" class=\"dataframe\">\n",
       "  <thead>\n",
       "    <tr style=\"text-align: right;\">\n",
       "      <th></th>\n",
       "      <th>train_acc</th>\n",
       "      <th>test_acc</th>\n",
       "    </tr>\n",
       "    <tr>\n",
       "      <th>models</th>\n",
       "      <th></th>\n",
       "      <th></th>\n",
       "    </tr>\n",
       "  </thead>\n",
       "  <tbody>\n",
       "    <tr>\n",
       "      <th>2 classes</th>\n",
       "      <td>0.772241</td>\n",
       "      <td>0.772105</td>\n",
       "    </tr>\n",
       "    <tr>\n",
       "      <th>3 classes</th>\n",
       "      <td>0.638796</td>\n",
       "      <td>0.628421</td>\n",
       "    </tr>\n",
       "    <tr>\n",
       "      <th>multi w/ ignore</th>\n",
       "      <td>0.593876</td>\n",
       "      <td>0.586053</td>\n",
       "    </tr>\n",
       "    <tr>\n",
       "      <th>multi w/o ignore</th>\n",
       "      <td>0.43549</td>\n",
       "      <td>0.411308</td>\n",
       "    </tr>\n",
       "  </tbody>\n",
       "</table>\n",
       "</div>\n",
       "      <button class=\"colab-df-convert\" onclick=\"convertToInteractive('df-8f8973e2-bfdc-4611-a5a0-d616a7513e6e')\"\n",
       "              title=\"Convert this dataframe to an interactive table.\"\n",
       "              style=\"display:none;\">\n",
       "        \n",
       "  <svg xmlns=\"http://www.w3.org/2000/svg\" height=\"24px\"viewBox=\"0 0 24 24\"\n",
       "       width=\"24px\">\n",
       "    <path d=\"M0 0h24v24H0V0z\" fill=\"none\"/>\n",
       "    <path d=\"M18.56 5.44l.94 2.06.94-2.06 2.06-.94-2.06-.94-.94-2.06-.94 2.06-2.06.94zm-11 1L8.5 8.5l.94-2.06 2.06-.94-2.06-.94L8.5 2.5l-.94 2.06-2.06.94zm10 10l.94 2.06.94-2.06 2.06-.94-2.06-.94-.94-2.06-.94 2.06-2.06.94z\"/><path d=\"M17.41 7.96l-1.37-1.37c-.4-.4-.92-.59-1.43-.59-.52 0-1.04.2-1.43.59L10.3 9.45l-7.72 7.72c-.78.78-.78 2.05 0 2.83L4 21.41c.39.39.9.59 1.41.59.51 0 1.02-.2 1.41-.59l7.78-7.78 2.81-2.81c.8-.78.8-2.07 0-2.86zM5.41 20L4 18.59l7.72-7.72 1.47 1.35L5.41 20z\"/>\n",
       "  </svg>\n",
       "      </button>\n",
       "      \n",
       "  <style>\n",
       "    .colab-df-container {\n",
       "      display:flex;\n",
       "      flex-wrap:wrap;\n",
       "      gap: 12px;\n",
       "    }\n",
       "\n",
       "    .colab-df-convert {\n",
       "      background-color: #E8F0FE;\n",
       "      border: none;\n",
       "      border-radius: 50%;\n",
       "      cursor: pointer;\n",
       "      display: none;\n",
       "      fill: #1967D2;\n",
       "      height: 32px;\n",
       "      padding: 0 0 0 0;\n",
       "      width: 32px;\n",
       "    }\n",
       "\n",
       "    .colab-df-convert:hover {\n",
       "      background-color: #E2EBFA;\n",
       "      box-shadow: 0px 1px 2px rgba(60, 64, 67, 0.3), 0px 1px 3px 1px rgba(60, 64, 67, 0.15);\n",
       "      fill: #174EA6;\n",
       "    }\n",
       "\n",
       "    [theme=dark] .colab-df-convert {\n",
       "      background-color: #3B4455;\n",
       "      fill: #D2E3FC;\n",
       "    }\n",
       "\n",
       "    [theme=dark] .colab-df-convert:hover {\n",
       "      background-color: #434B5C;\n",
       "      box-shadow: 0px 1px 3px 1px rgba(0, 0, 0, 0.15);\n",
       "      filter: drop-shadow(0px 1px 2px rgba(0, 0, 0, 0.3));\n",
       "      fill: #FFFFFF;\n",
       "    }\n",
       "  </style>\n",
       "\n",
       "      <script>\n",
       "        const buttonEl =\n",
       "          document.querySelector('#df-8f8973e2-bfdc-4611-a5a0-d616a7513e6e button.colab-df-convert');\n",
       "        buttonEl.style.display =\n",
       "          google.colab.kernel.accessAllowed ? 'block' : 'none';\n",
       "\n",
       "        async function convertToInteractive(key) {\n",
       "          const element = document.querySelector('#df-8f8973e2-bfdc-4611-a5a0-d616a7513e6e');\n",
       "          const dataTable =\n",
       "            await google.colab.kernel.invokeFunction('convertToInteractive',\n",
       "                                                     [key], {});\n",
       "          if (!dataTable) return;\n",
       "\n",
       "          const docLinkHtml = 'Like what you see? Visit the ' +\n",
       "            '<a target=\"_blank\" href=https://colab.research.google.com/notebooks/data_table.ipynb>data table notebook</a>'\n",
       "            + ' to learn more about interactive tables.';\n",
       "          element.innerHTML = '';\n",
       "          dataTable['output_type'] = 'display_data';\n",
       "          await google.colab.output.renderOutput(dataTable, element);\n",
       "          const docLink = document.createElement('div');\n",
       "          docLink.innerHTML = docLinkHtml;\n",
       "          element.appendChild(docLink);\n",
       "        }\n",
       "      </script>\n",
       "    </div>\n",
       "  </div>\n",
       "  "
      ],
      "text/plain": [
       "                 train_acc  test_acc\n",
       "models                              \n",
       "2 classes         0.772241  0.772105\n",
       "3 classes         0.638796  0.628421\n",
       "multi w/ ignore   0.593876  0.586053\n",
       "multi w/o ignore   0.43549  0.411308"
      ]
     },
     "execution_count": 133,
     "metadata": {},
     "output_type": "execute_result"
    }
   ],
   "source": [
    "scores"
   ]
  },
  {
   "cell_type": "markdown",
   "id": "-TyMuO7FMmTO",
   "metadata": {
    "id": "-TyMuO7FMmTO"
   },
   "source": [
    "Overall, neural network variance is low. Compared to the other deep learning models, neural network deep learning has accuracy comparable to that of XGBoost, which is the highest performing model in all cases.\n",
    "\n",
    "Whichever model used, attempting to work with smaller dataset without 'ignore' response yields very low accuracy. This is likely due to the fact that almost half of the whole dataset is labeled 'ignore'. Such imbalance of data sets us off with a baseline model that already has a pretty high accuracy score. Also, removing the rows with the 'ignore' lable leaves us only with about 8000 rows to work with, which is much less than the ideal amount of data required for the deep learning model. "
   ]
  }
 ],
 "metadata": {
  "colab": {
   "collapsed_sections": [],
   "name": "Neural Network.ipynb",
   "provenance": []
  },
  "gpuClass": "standard",
  "kernelspec": {
   "display_name": "Python 3 (ipykernel)",
   "language": "python",
   "name": "python3"
  },
  "language_info": {
   "codemirror_mode": {
    "name": "ipython",
    "version": 3
   },
   "file_extension": ".py",
   "mimetype": "text/x-python",
   "name": "python",
   "nbconvert_exporter": "python",
   "pygments_lexer": "ipython3",
   "version": "3.9.7"
  }
 },
 "nbformat": 4,
 "nbformat_minor": 5
}
