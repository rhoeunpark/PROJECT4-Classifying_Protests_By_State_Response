{
 "cells": [
  {
   "cell_type": "markdown",
   "id": "df6ddff2-aff0-440f-b616-529bfee86bd6",
   "metadata": {},
   "source": [
    "# 02_Baseline Modeling with Categorical Features (2 & 3 Classes)"
   ]
  },
  {
   "cell_type": "markdown",
   "id": "60e77fa3-578e-4d76-80be-8d1cafbf080f",
   "metadata": {},
   "source": [
    "This notebook will consist of a wide variety of baseline modeling.\n",
    "\n",
    "Features being considered:\n",
    "- *region*\n",
    "- *year*\n",
    "- *protesterviolence*\n",
    "- *participants_category*\n",
    "- *demand_political_behavior_process*\n",
    "- *demand_labor_wage_dispute*\n",
    "- *demand_police_brutality*\n",
    "- *demand_social_restrictions*\n",
    "- *demand_land_farm_issue*\n",
    "- *demand_politician_removal*\n",
    "- *demand_price_inc_tax_policy*\n",
    "\n",
    "\n",
    "Targets being considered:\n",
    "- *response_category_2*\n",
    "- *response_category_3*\n",
    "\n",
    "As seen in the EDA, it was unclear what the impact of the year feature would be. With that in mind, models with and without the year feature will be run to see if it makes a difference. The models will also switch off between using 2 classes (response_category_2) and 3 classes (response_category_3) as the target.\n",
    "\n",
    "The baseline modeling results will be categorized in 4 ways:\n",
    "- *2 classes using year data*\n",
    "- *3 classes using year data*\n",
    "- *2 classes without year data*\n",
    "- *3 classes without year data*\n",
    "\n",
    "Due to the class imbalances in both the 2 classes and 3 classes, the following class imbalance techniques will be tested for each of the above mentioned categories:\n",
    "- *Oversampling the least frequent class*\n",
    "- *Undersampling the most frequent class with Near Miss*\n",
    "- *Weighted models*\n",
    "\n",
    "The following metrics will be used to assess model performance:\n",
    "- *train accuracy*\n",
    "- *test accuracy*\n",
    "- *variance (train accuracy - test accuracy)*\n",
    "- *test precision*\n",
    "- *test F1 score*\n",
    "\n",
    "Of these metrics, test accuracy, variance and test precision will be considered the most. Overall accuracy is the primary interest, but considering precision will provide insight as to how well the less frequent class is being classified. The F1 score will also be helpful to include since imbalanced classes are being dealt with."
   ]
  },
  {
   "cell_type": "markdown",
   "id": "f835af1e-e196-4bcb-9c36-9638aef795b9",
   "metadata": {},
   "source": [
    "## Imports"
   ]
  },
  {
   "cell_type": "code",
   "execution_count": 1,
   "id": "e6c6fbe9-8d16-4b41-ad92-5f41e1236f4e",
   "metadata": {},
   "outputs": [],
   "source": [
    "import pandas as pd\n",
    "import numpy as np\n",
    "import matplotlib.pyplot as plt\n",
    "import seaborn as sns\n",
    "\n",
    "from sklearn.model_selection import train_test_split\n",
    "from sklearn.dummy import DummyClassifier\n",
    "from sklearn.linear_model import LogisticRegression\n",
    "from sklearn.neighbors import KNeighborsClassifier\n",
    "from sklearn.ensemble import RandomForestClassifier\n",
    "from xgboost import XGBClassifier\n",
    "from sklearn.svm import SVC\n",
    "from sklearn.naive_bayes import BernoulliNB\n",
    "from sklearn.naive_bayes import MultinomialNB\n",
    "\n",
    "from imblearn.over_sampling import RandomOverSampler\n",
    "from imblearn.under_sampling import NearMiss\n",
    "\n",
    "from sklearn.metrics import accuracy_score, precision_score, f1_score\n",
    "\n",
    "pd.set_option('display.max_columns', None)\n",
    "\n",
    "import warnings\n",
    "warnings.filterwarnings(\"ignore\")"
   ]
  },
  {
   "cell_type": "markdown",
   "id": "9d7ad18b-9624-4172-98dd-40b01a37af19",
   "metadata": {},
   "source": [
    "## Data"
   ]
  },
  {
   "cell_type": "code",
   "execution_count": 2,
   "id": "f6ee3e3c-778e-4444-ab8a-849efaa2314c",
   "metadata": {},
   "outputs": [],
   "source": [
    "protests = pd.read_csv('../data/protests_clean.csv')"
   ]
  },
  {
   "cell_type": "code",
   "execution_count": 101,
   "id": "012216ff-0d25-461e-b846-37e9fc08cf79",
   "metadata": {},
   "outputs": [],
   "source": [
    "# Dropping the columns that are not of interest at this time\n",
    "\n",
    "protests.drop(columns=['country', \n",
    "                       'startdate',\n",
    "                       'enddate',\n",
    "                       'length_days', \n",
    "                       'protesteridentity',\n",
    "                       'stateresponse',\n",
    "                       'notes'], inplace=True)"
   ]
  },
  {
   "cell_type": "code",
   "execution_count": 4,
   "id": "45ab3c80-d4c2-4380-b53f-740cf9170dd7",
   "metadata": {},
   "outputs": [
    {
     "name": "stdout",
     "output_type": "stream",
     "text": [
      "(15198, 13)\n"
     ]
    },
    {
     "data": {
      "text/html": [
       "<div>\n",
       "<style scoped>\n",
       "    .dataframe tbody tr th:only-of-type {\n",
       "        vertical-align: middle;\n",
       "    }\n",
       "\n",
       "    .dataframe tbody tr th {\n",
       "        vertical-align: top;\n",
       "    }\n",
       "\n",
       "    .dataframe thead th {\n",
       "        text-align: right;\n",
       "    }\n",
       "</style>\n",
       "<table border=\"1\" class=\"dataframe\">\n",
       "  <thead>\n",
       "    <tr style=\"text-align: right;\">\n",
       "      <th></th>\n",
       "      <th>region</th>\n",
       "      <th>year</th>\n",
       "      <th>protesterviolence</th>\n",
       "      <th>participants_category</th>\n",
       "      <th>demand_political_behavior_process</th>\n",
       "      <th>demand_labor_wage_dispute</th>\n",
       "      <th>demand_police_brutality</th>\n",
       "      <th>demand_social_restrictions</th>\n",
       "      <th>demand_land_farm_issue</th>\n",
       "      <th>demand_politician_removal</th>\n",
       "      <th>demand_price_inc_tax_policy</th>\n",
       "      <th>response_category_2</th>\n",
       "      <th>response_category_3</th>\n",
       "    </tr>\n",
       "  </thead>\n",
       "  <tbody>\n",
       "    <tr>\n",
       "      <th>0</th>\n",
       "      <td>North America</td>\n",
       "      <td>2015</td>\n",
       "      <td>0</td>\n",
       "      <td>50-99</td>\n",
       "      <td>1</td>\n",
       "      <td>0</td>\n",
       "      <td>0</td>\n",
       "      <td>0</td>\n",
       "      <td>0</td>\n",
       "      <td>0</td>\n",
       "      <td>0</td>\n",
       "      <td>0</td>\n",
       "      <td>0</td>\n",
       "    </tr>\n",
       "    <tr>\n",
       "      <th>1</th>\n",
       "      <td>North America</td>\n",
       "      <td>2016</td>\n",
       "      <td>0</td>\n",
       "      <td>100-999</td>\n",
       "      <td>0</td>\n",
       "      <td>1</td>\n",
       "      <td>0</td>\n",
       "      <td>0</td>\n",
       "      <td>0</td>\n",
       "      <td>0</td>\n",
       "      <td>0</td>\n",
       "      <td>0</td>\n",
       "      <td>0</td>\n",
       "    </tr>\n",
       "    <tr>\n",
       "      <th>2</th>\n",
       "      <td>North America</td>\n",
       "      <td>2016</td>\n",
       "      <td>0</td>\n",
       "      <td>100-999</td>\n",
       "      <td>0</td>\n",
       "      <td>1</td>\n",
       "      <td>0</td>\n",
       "      <td>0</td>\n",
       "      <td>0</td>\n",
       "      <td>0</td>\n",
       "      <td>0</td>\n",
       "      <td>0</td>\n",
       "      <td>0</td>\n",
       "    </tr>\n",
       "  </tbody>\n",
       "</table>\n",
       "</div>"
      ],
      "text/plain": [
       "          region  year  protesterviolence participants_category  \\\n",
       "0  North America  2015                  0                 50-99   \n",
       "1  North America  2016                  0               100-999   \n",
       "2  North America  2016                  0               100-999   \n",
       "\n",
       "   demand_political_behavior_process  demand_labor_wage_dispute  \\\n",
       "0                                  1                          0   \n",
       "1                                  0                          1   \n",
       "2                                  0                          1   \n",
       "\n",
       "   demand_police_brutality  demand_social_restrictions  \\\n",
       "0                        0                           0   \n",
       "1                        0                           0   \n",
       "2                        0                           0   \n",
       "\n",
       "   demand_land_farm_issue  demand_politician_removal  \\\n",
       "0                       0                          0   \n",
       "1                       0                          0   \n",
       "2                       0                          0   \n",
       "\n",
       "   demand_price_inc_tax_policy  response_category_2  response_category_3  \n",
       "0                            0                    0                    0  \n",
       "1                            0                    0                    0  \n",
       "2                            0                    0                    0  "
      ]
     },
     "execution_count": 4,
     "metadata": {},
     "output_type": "execute_result"
    }
   ],
   "source": [
    "print(protests.shape)\n",
    "protests.head(3)"
   ]
  },
  {
   "cell_type": "code",
   "execution_count": 114,
   "id": "5a65f973-ede5-4075-b8eb-9f8cdcf260a3",
   "metadata": {},
   "outputs": [],
   "source": [
    "# Writing protests dataframe with dropped columns to a CSV\n",
    "\n",
    "protests.to_csv('../data/protests_clean2.csv', index=False)"
   ]
  },
  {
   "cell_type": "markdown",
   "id": "a939a2fa-b30d-48fb-960c-e880e5301967",
   "metadata": {
    "tags": []
   },
   "source": [
    "____________\n",
    "## **#1. Modeling 2 classes (with YEAR data)**"
   ]
  },
  {
   "cell_type": "markdown",
   "id": "68aba14f-33c5-4107-aa96-96fb6cf08154",
   "metadata": {},
   "source": [
    "### One-Hot Encoding Categorical Variables"
   ]
  },
  {
   "cell_type": "code",
   "execution_count": 5,
   "id": "a7ef6ab0-0629-4a8c-9547-99f36caa4a6c",
   "metadata": {},
   "outputs": [],
   "source": [
    "# One-Hot-Encoding region, year and participants_category features\n",
    "\n",
    "protests_ohe_w_year = pd.get_dummies(protests, \n",
    "                                     prefix={'region':'region',\n",
    "                                             'year':'year', \n",
    "                                             'participants_category':'participants_category'},\n",
    "                                     columns=['region','year',\n",
    "                                              'participants_category'],\n",
    "                                     drop_first=False)"
   ]
  },
  {
   "cell_type": "code",
   "execution_count": 6,
   "id": "8230de13-87e4-46de-a4c9-27b9a2a29a87",
   "metadata": {},
   "outputs": [],
   "source": [
    "# Organizing columns to make sure everything is correct when viewing the dataframe\n",
    "\n",
    "protests_ohe_w_year.insert(54, 'protesterviolence', protests_ohe_w_year.pop('protesterviolence'))\n",
    "protests_ohe_w_year.insert(54, 'demand_political_behavior_process', protests_ohe_w_year.pop('demand_political_behavior_process'))\n",
    "protests_ohe_w_year.insert(54, 'demand_labor_wage_dispute', protests_ohe_w_year.pop('demand_labor_wage_dispute'))\n",
    "protests_ohe_w_year.insert(54, 'demand_police_brutality', protests_ohe_w_year.pop('demand_police_brutality'))\n",
    "protests_ohe_w_year.insert(54, 'demand_social_restrictions', protests_ohe_w_year.pop('demand_social_restrictions'))\n",
    "protests_ohe_w_year.insert(54, 'demand_land_farm_issue', protests_ohe_w_year.pop('demand_land_farm_issue'))\n",
    "protests_ohe_w_year.insert(54, 'demand_politician_removal', protests_ohe_w_year.pop('demand_politician_removal'))\n",
    "protests_ohe_w_year.insert(54, 'demand_price_inc_tax_policy', protests_ohe_w_year.pop('demand_price_inc_tax_policy'))\n",
    "protests_ohe_w_year.insert(54, 'response_category_2', protests_ohe_w_year.pop('response_category_2'))\n",
    "protests_ohe_w_year.insert(54, 'response_category_3', protests_ohe_w_year.pop('response_category_3'))"
   ]
  },
  {
   "cell_type": "code",
   "execution_count": 7,
   "id": "5f0a5992-c808-47ae-b968-ef69bbd7e081",
   "metadata": {},
   "outputs": [
    {
     "data": {
      "text/html": [
       "<div>\n",
       "<style scoped>\n",
       "    .dataframe tbody tr th:only-of-type {\n",
       "        vertical-align: middle;\n",
       "    }\n",
       "\n",
       "    .dataframe tbody tr th {\n",
       "        vertical-align: top;\n",
       "    }\n",
       "\n",
       "    .dataframe thead th {\n",
       "        text-align: right;\n",
       "    }\n",
       "</style>\n",
       "<table border=\"1\" class=\"dataframe\">\n",
       "  <thead>\n",
       "    <tr style=\"text-align: right;\">\n",
       "      <th></th>\n",
       "      <th>region_Africa</th>\n",
       "      <th>region_Asia</th>\n",
       "      <th>region_Central America</th>\n",
       "      <th>region_Europe</th>\n",
       "      <th>region_MENA</th>\n",
       "      <th>region_North America</th>\n",
       "      <th>region_Oceania</th>\n",
       "      <th>region_South America</th>\n",
       "      <th>year_1990</th>\n",
       "      <th>year_1991</th>\n",
       "      <th>year_1992</th>\n",
       "      <th>year_1993</th>\n",
       "      <th>year_1994</th>\n",
       "      <th>year_1995</th>\n",
       "      <th>year_1996</th>\n",
       "      <th>year_1997</th>\n",
       "      <th>year_1998</th>\n",
       "      <th>year_1999</th>\n",
       "      <th>year_2000</th>\n",
       "      <th>year_2001</th>\n",
       "      <th>year_2002</th>\n",
       "      <th>year_2003</th>\n",
       "      <th>year_2004</th>\n",
       "      <th>year_2005</th>\n",
       "      <th>year_2006</th>\n",
       "      <th>year_2007</th>\n",
       "      <th>year_2008</th>\n",
       "      <th>year_2009</th>\n",
       "      <th>year_2010</th>\n",
       "      <th>year_2011</th>\n",
       "      <th>year_2012</th>\n",
       "      <th>year_2013</th>\n",
       "      <th>year_2014</th>\n",
       "      <th>year_2015</th>\n",
       "      <th>year_2016</th>\n",
       "      <th>year_2017</th>\n",
       "      <th>year_2018</th>\n",
       "      <th>year_2019</th>\n",
       "      <th>year_2020</th>\n",
       "      <th>participants_category_100-999</th>\n",
       "      <th>participants_category_1000-1999</th>\n",
       "      <th>participants_category_2000-4999</th>\n",
       "      <th>participants_category_50-99</th>\n",
       "      <th>participants_category_5000-10000</th>\n",
       "      <th>participants_category_&gt;10000</th>\n",
       "      <th>protesterviolence</th>\n",
       "      <th>demand_political_behavior_process</th>\n",
       "      <th>demand_labor_wage_dispute</th>\n",
       "      <th>demand_police_brutality</th>\n",
       "      <th>demand_social_restrictions</th>\n",
       "      <th>demand_land_farm_issue</th>\n",
       "      <th>demand_politician_removal</th>\n",
       "      <th>demand_price_inc_tax_policy</th>\n",
       "      <th>response_category_2</th>\n",
       "      <th>response_category_3</th>\n",
       "    </tr>\n",
       "  </thead>\n",
       "  <tbody>\n",
       "    <tr>\n",
       "      <th>0</th>\n",
       "      <td>0</td>\n",
       "      <td>0</td>\n",
       "      <td>0</td>\n",
       "      <td>0</td>\n",
       "      <td>0</td>\n",
       "      <td>1</td>\n",
       "      <td>0</td>\n",
       "      <td>0</td>\n",
       "      <td>0</td>\n",
       "      <td>0</td>\n",
       "      <td>0</td>\n",
       "      <td>0</td>\n",
       "      <td>0</td>\n",
       "      <td>0</td>\n",
       "      <td>0</td>\n",
       "      <td>0</td>\n",
       "      <td>0</td>\n",
       "      <td>0</td>\n",
       "      <td>0</td>\n",
       "      <td>0</td>\n",
       "      <td>0</td>\n",
       "      <td>0</td>\n",
       "      <td>0</td>\n",
       "      <td>0</td>\n",
       "      <td>0</td>\n",
       "      <td>0</td>\n",
       "      <td>0</td>\n",
       "      <td>0</td>\n",
       "      <td>0</td>\n",
       "      <td>0</td>\n",
       "      <td>0</td>\n",
       "      <td>0</td>\n",
       "      <td>0</td>\n",
       "      <td>1</td>\n",
       "      <td>0</td>\n",
       "      <td>0</td>\n",
       "      <td>0</td>\n",
       "      <td>0</td>\n",
       "      <td>0</td>\n",
       "      <td>0</td>\n",
       "      <td>0</td>\n",
       "      <td>0</td>\n",
       "      <td>1</td>\n",
       "      <td>0</td>\n",
       "      <td>0</td>\n",
       "      <td>0</td>\n",
       "      <td>1</td>\n",
       "      <td>0</td>\n",
       "      <td>0</td>\n",
       "      <td>0</td>\n",
       "      <td>0</td>\n",
       "      <td>0</td>\n",
       "      <td>0</td>\n",
       "      <td>0</td>\n",
       "      <td>0</td>\n",
       "    </tr>\n",
       "    <tr>\n",
       "      <th>1</th>\n",
       "      <td>0</td>\n",
       "      <td>0</td>\n",
       "      <td>0</td>\n",
       "      <td>0</td>\n",
       "      <td>0</td>\n",
       "      <td>1</td>\n",
       "      <td>0</td>\n",
       "      <td>0</td>\n",
       "      <td>0</td>\n",
       "      <td>0</td>\n",
       "      <td>0</td>\n",
       "      <td>0</td>\n",
       "      <td>0</td>\n",
       "      <td>0</td>\n",
       "      <td>0</td>\n",
       "      <td>0</td>\n",
       "      <td>0</td>\n",
       "      <td>0</td>\n",
       "      <td>0</td>\n",
       "      <td>0</td>\n",
       "      <td>0</td>\n",
       "      <td>0</td>\n",
       "      <td>0</td>\n",
       "      <td>0</td>\n",
       "      <td>0</td>\n",
       "      <td>0</td>\n",
       "      <td>0</td>\n",
       "      <td>0</td>\n",
       "      <td>0</td>\n",
       "      <td>0</td>\n",
       "      <td>0</td>\n",
       "      <td>0</td>\n",
       "      <td>0</td>\n",
       "      <td>0</td>\n",
       "      <td>1</td>\n",
       "      <td>0</td>\n",
       "      <td>0</td>\n",
       "      <td>0</td>\n",
       "      <td>0</td>\n",
       "      <td>1</td>\n",
       "      <td>0</td>\n",
       "      <td>0</td>\n",
       "      <td>0</td>\n",
       "      <td>0</td>\n",
       "      <td>0</td>\n",
       "      <td>0</td>\n",
       "      <td>0</td>\n",
       "      <td>1</td>\n",
       "      <td>0</td>\n",
       "      <td>0</td>\n",
       "      <td>0</td>\n",
       "      <td>0</td>\n",
       "      <td>0</td>\n",
       "      <td>0</td>\n",
       "      <td>0</td>\n",
       "    </tr>\n",
       "    <tr>\n",
       "      <th>2</th>\n",
       "      <td>0</td>\n",
       "      <td>0</td>\n",
       "      <td>0</td>\n",
       "      <td>0</td>\n",
       "      <td>0</td>\n",
       "      <td>1</td>\n",
       "      <td>0</td>\n",
       "      <td>0</td>\n",
       "      <td>0</td>\n",
       "      <td>0</td>\n",
       "      <td>0</td>\n",
       "      <td>0</td>\n",
       "      <td>0</td>\n",
       "      <td>0</td>\n",
       "      <td>0</td>\n",
       "      <td>0</td>\n",
       "      <td>0</td>\n",
       "      <td>0</td>\n",
       "      <td>0</td>\n",
       "      <td>0</td>\n",
       "      <td>0</td>\n",
       "      <td>0</td>\n",
       "      <td>0</td>\n",
       "      <td>0</td>\n",
       "      <td>0</td>\n",
       "      <td>0</td>\n",
       "      <td>0</td>\n",
       "      <td>0</td>\n",
       "      <td>0</td>\n",
       "      <td>0</td>\n",
       "      <td>0</td>\n",
       "      <td>0</td>\n",
       "      <td>0</td>\n",
       "      <td>0</td>\n",
       "      <td>1</td>\n",
       "      <td>0</td>\n",
       "      <td>0</td>\n",
       "      <td>0</td>\n",
       "      <td>0</td>\n",
       "      <td>1</td>\n",
       "      <td>0</td>\n",
       "      <td>0</td>\n",
       "      <td>0</td>\n",
       "      <td>0</td>\n",
       "      <td>0</td>\n",
       "      <td>0</td>\n",
       "      <td>0</td>\n",
       "      <td>1</td>\n",
       "      <td>0</td>\n",
       "      <td>0</td>\n",
       "      <td>0</td>\n",
       "      <td>0</td>\n",
       "      <td>0</td>\n",
       "      <td>0</td>\n",
       "      <td>0</td>\n",
       "    </tr>\n",
       "  </tbody>\n",
       "</table>\n",
       "</div>"
      ],
      "text/plain": [
       "   region_Africa  region_Asia  region_Central America  region_Europe  \\\n",
       "0              0            0                       0              0   \n",
       "1              0            0                       0              0   \n",
       "2              0            0                       0              0   \n",
       "\n",
       "   region_MENA  region_North America  region_Oceania  region_South America  \\\n",
       "0            0                     1               0                     0   \n",
       "1            0                     1               0                     0   \n",
       "2            0                     1               0                     0   \n",
       "\n",
       "   year_1990  year_1991  year_1992  year_1993  year_1994  year_1995  \\\n",
       "0          0          0          0          0          0          0   \n",
       "1          0          0          0          0          0          0   \n",
       "2          0          0          0          0          0          0   \n",
       "\n",
       "   year_1996  year_1997  year_1998  year_1999  year_2000  year_2001  \\\n",
       "0          0          0          0          0          0          0   \n",
       "1          0          0          0          0          0          0   \n",
       "2          0          0          0          0          0          0   \n",
       "\n",
       "   year_2002  year_2003  year_2004  year_2005  year_2006  year_2007  \\\n",
       "0          0          0          0          0          0          0   \n",
       "1          0          0          0          0          0          0   \n",
       "2          0          0          0          0          0          0   \n",
       "\n",
       "   year_2008  year_2009  year_2010  year_2011  year_2012  year_2013  \\\n",
       "0          0          0          0          0          0          0   \n",
       "1          0          0          0          0          0          0   \n",
       "2          0          0          0          0          0          0   \n",
       "\n",
       "   year_2014  year_2015  year_2016  year_2017  year_2018  year_2019  \\\n",
       "0          0          1          0          0          0          0   \n",
       "1          0          0          1          0          0          0   \n",
       "2          0          0          1          0          0          0   \n",
       "\n",
       "   year_2020  participants_category_100-999  participants_category_1000-1999  \\\n",
       "0          0                              0                                0   \n",
       "1          0                              1                                0   \n",
       "2          0                              1                                0   \n",
       "\n",
       "   participants_category_2000-4999  participants_category_50-99  \\\n",
       "0                                0                            1   \n",
       "1                                0                            0   \n",
       "2                                0                            0   \n",
       "\n",
       "   participants_category_5000-10000  participants_category_>10000  \\\n",
       "0                                 0                             0   \n",
       "1                                 0                             0   \n",
       "2                                 0                             0   \n",
       "\n",
       "   protesterviolence  demand_political_behavior_process  \\\n",
       "0                  0                                  1   \n",
       "1                  0                                  0   \n",
       "2                  0                                  0   \n",
       "\n",
       "   demand_labor_wage_dispute  demand_police_brutality  \\\n",
       "0                          0                        0   \n",
       "1                          1                        0   \n",
       "2                          1                        0   \n",
       "\n",
       "   demand_social_restrictions  demand_land_farm_issue  \\\n",
       "0                           0                       0   \n",
       "1                           0                       0   \n",
       "2                           0                       0   \n",
       "\n",
       "   demand_politician_removal  demand_price_inc_tax_policy  \\\n",
       "0                          0                            0   \n",
       "1                          0                            0   \n",
       "2                          0                            0   \n",
       "\n",
       "   response_category_2  response_category_3  \n",
       "0                    0                    0  \n",
       "1                    0                    0  \n",
       "2                    0                    0  "
      ]
     },
     "execution_count": 7,
     "metadata": {},
     "output_type": "execute_result"
    }
   ],
   "source": [
    "protests_ohe_w_year.head(3)"
   ]
  },
  {
   "cell_type": "code",
   "execution_count": 8,
   "id": "dfdd0591-8eb8-483c-af52-1b01ccad8eb5",
   "metadata": {},
   "outputs": [],
   "source": [
    "# Writing protests_ohe_w_year dataframe to a CSV\n",
    "\n",
    "# protests_ohe_w_year.to_csv('../data/protests_ohe_w_year.csv', index=False)"
   ]
  },
  {
   "cell_type": "markdown",
   "id": "905fc5c1-3a02-4ba6-ac11-8ec97059b54b",
   "metadata": {},
   "source": [
    "### Helper Functions (2 classes)"
   ]
  },
  {
   "cell_type": "code",
   "execution_count": 9,
   "id": "2cf7048d-68ee-4757-92b4-1e779945a1a0",
   "metadata": {},
   "outputs": [],
   "source": [
    "def run_baseline_2(model, \n",
    "                 X_train, y_train, X_test, y_test,\n",
    "                 verbose=True):\n",
    "    \"\"\"\n",
    "    Fits a baseline model for each model specified.\n",
    "    Compiles accuracy, variance, precision and f1 score results in a dictionary.\n",
    "    For 2 classes.\n",
    "    \"\"\"\n",
    "    \n",
    "    results = {}\n",
    "    \n",
    "    model.fit(X_train, y_train)\n",
    "\n",
    "    y_pred_train = model.predict(X_train)\n",
    "    y_pred_test = model.predict(X_test)\n",
    "    \n",
    "    results['train_accuracy'] = accuracy_score(y_train, y_pred_train)\n",
    "    results['test_accuracy'] = accuracy_score(y_test, y_pred_test)\n",
    "    results['variance'] = results['train_accuracy'] - results['test_accuracy']\n",
    "    results['test_precision'] = precision_score(y_test, y_pred_test, pos_label=1, zero_division=0)\n",
    "    results['test_f1'] = f1_score(y_test, y_pred_test, pos_label=1, zero_division=0)\n",
    "    \n",
    "    return results"
   ]
  },
  {
   "cell_type": "code",
   "execution_count": 10,
   "id": "bce3f0d1-9754-4980-9704-5931a56e75c6",
   "metadata": {},
   "outputs": [],
   "source": [
    "def test_models_2(models, X_train, y_train, X_test, y_test, verbose=False):\n",
    "    \"\"\"\n",
    "    Returns the baseline model results in a dataframe.\n",
    "    For 2 classes.\n",
    "    \"\"\"\n",
    "    results = {}\n",
    "    \n",
    "    for name,model in models.items():\n",
    "        if verbose:\n",
    "            print('\\nRunning {} - {}'.format(name, model))\n",
    "        \n",
    "        results[name] = run_baseline_2(model, X_train, y_train, X_test, y_test, verbose=False)\n",
    "\n",
    "    return pd.DataFrame.from_dict(results, orient='index')"
   ]
  },
  {
   "cell_type": "markdown",
   "id": "a52ec00a-6d65-4e23-8c3d-4c84766a5394",
   "metadata": {},
   "source": [
    "### Defining models (2 classes)"
   ]
  },
  {
   "cell_type": "code",
   "execution_count": 11,
   "id": "5454ea6f-7975-402d-bfbe-7ac2579316f9",
   "metadata": {},
   "outputs": [],
   "source": [
    "# Models to use with imbalanced, oversampled and undersampled classes\n",
    "\n",
    "models2 = {'Most Frequent': DummyClassifier(strategy='most_frequent'),\n",
    "          'Logistic Regression': LogisticRegression(solver='lbfgs'),\n",
    "          'Nearest Neighbors': KNeighborsClassifier(n_neighbors=5),\n",
    "          'Random Forest': RandomForestClassifier(n_estimators=100),\n",
    "          'XGBoost': XGBClassifier(),\n",
    "          'Support Vector Classifier': SVC(),\n",
    "          'Bernoulli Naive Bayes': BernoulliNB(),\n",
    "          'Multinomial Naive Bayes': MultinomialNB()}"
   ]
  },
  {
   "cell_type": "code",
   "execution_count": 12,
   "id": "f186e689-3e5f-4766-8da9-4363e973038a",
   "metadata": {},
   "outputs": [],
   "source": [
    "# Models to use with weighted models\n",
    "\n",
    "models2_weighted = {'Logistic Regression': LogisticRegression(solver='lbfgs', class_weight='balanced'),\n",
    "          'Nearest Neighbors': KNeighborsClassifier(n_neighbors=5, weights='distance'),\n",
    "          'Random Forest': RandomForestClassifier(n_estimators=100, class_weight='balanced'),\n",
    "          'XGBoost': XGBClassifier(scale_pos_weight=3.38),\n",
    "          'Support Vector Classifier': SVC(class_weight='balanced')}"
   ]
  },
  {
   "cell_type": "markdown",
   "id": "8b2fc58c-3bc6-4e4e-9baf-e932d32c8bf0",
   "metadata": {},
   "source": [
    "### X, y & train-test split"
   ]
  },
  {
   "cell_type": "code",
   "execution_count": 13,
   "id": "b367cd55-8617-4ac1-9ae3-e928f0000141",
   "metadata": {},
   "outputs": [],
   "source": [
    "X2_year = protests_ohe_w_year.drop(columns=['response_category_2','response_category_3'])\n",
    "y2_year = protests_ohe_w_year['response_category_2']"
   ]
  },
  {
   "cell_type": "code",
   "execution_count": 14,
   "id": "4931706d-0a8c-4759-b319-48de0e83158a",
   "metadata": {},
   "outputs": [],
   "source": [
    "X2_year_train, X2_year_test, y2_year_train, y2_year_test = train_test_split(X2_year, y2_year, test_size=0.2, random_state=42, stratify=y2_year)"
   ]
  },
  {
   "cell_type": "markdown",
   "id": "f849897e-1f53-4887-abd5-82d759edfc67",
   "metadata": {},
   "source": [
    "### Imbalanced Data Techniques"
   ]
  },
  {
   "cell_type": "markdown",
   "id": "bba4275b-a1c3-443f-b4f1-7b7e223fa50b",
   "metadata": {},
   "source": [
    "#### Original, Imbalanced Data"
   ]
  },
  {
   "cell_type": "code",
   "execution_count": 106,
   "id": "02831d25-0335-4f35-a2a5-f47ea5a2fd0f",
   "metadata": {},
   "outputs": [
    {
     "data": {
      "text/plain": [
       "0    0.772166\n",
       "1    0.227834\n",
       "Name: response_category_2, dtype: float64"
      ]
     },
     "execution_count": 106,
     "metadata": {},
     "output_type": "execute_result"
    }
   ],
   "source": [
    "# Checking the training set balance\n",
    "\n",
    "y2_year_train.value_counts(normalize=True)"
   ]
  },
  {
   "cell_type": "code",
   "execution_count": 16,
   "id": "4519460f-c5d1-495a-897d-6af609970179",
   "metadata": {},
   "outputs": [],
   "source": [
    "imbal2_year_model_results = test_models_2(models2,\n",
    "                                          X2_year_train, y2_year_train,\n",
    "                                          X2_year_test, y2_year_test,\n",
    "                                          verbose=False)"
   ]
  },
  {
   "cell_type": "markdown",
   "id": "1968d5d0-684e-4a84-8606-54a71720b346",
   "metadata": {},
   "source": [
    "#### #1: Oversampled"
   ]
  },
  {
   "cell_type": "code",
   "execution_count": 17,
   "id": "60c9d081-97ed-4b44-9a05-82c67ad5cf36",
   "metadata": {},
   "outputs": [],
   "source": [
    "ros2_year = RandomOverSampler()\n",
    "\n",
    "X2_year_train_over, y2_year_train_over = ros2_year.fit_resample(X2_year_train, y2_year_train)"
   ]
  },
  {
   "cell_type": "code",
   "execution_count": 107,
   "id": "975f315e-1c34-475e-83f2-b8e005fe2c19",
   "metadata": {},
   "outputs": [
    {
     "data": {
      "text/plain": [
       "0    0.5\n",
       "1    0.5\n",
       "Name: response_category_2, dtype: float64"
      ]
     },
     "execution_count": 107,
     "metadata": {},
     "output_type": "execute_result"
    }
   ],
   "source": [
    "# Checking the training set balance\n",
    "\n",
    "y2_year_train_over.value_counts(normalize=True)"
   ]
  },
  {
   "cell_type": "code",
   "execution_count": 19,
   "id": "f51272cc-20ff-4ae7-b7ba-52e2f2a5fde2",
   "metadata": {},
   "outputs": [],
   "source": [
    "oversampled2_year_model_results = test_models_2(models2,\n",
    "                                        X2_year_train_over, y2_year_train_over,\n",
    "                                        X2_year_test, y2_year_test,\n",
    "                                        verbose=False)"
   ]
  },
  {
   "cell_type": "markdown",
   "id": "3d938509-d35f-4a17-b60a-e46bed4c3cde",
   "metadata": {},
   "source": [
    "#### #2: Undersampled (Near Miss)"
   ]
  },
  {
   "cell_type": "code",
   "execution_count": 20,
   "id": "9813063f-3c5c-4ed6-be0f-30b2868b1fbe",
   "metadata": {},
   "outputs": [],
   "source": [
    "nr2_year = NearMiss() \n",
    "\n",
    "X2_year_train_near, y2_year_train_near= nr2_year.fit_sample(X2_year_train, y2_year_train) "
   ]
  },
  {
   "cell_type": "code",
   "execution_count": 21,
   "id": "085b9f02-56a3-439b-87a6-8f326e1df532",
   "metadata": {},
   "outputs": [
    {
     "data": {
      "text/plain": [
       "0    0.5\n",
       "1    0.5\n",
       "Name: response_category_2, dtype: float64"
      ]
     },
     "execution_count": 21,
     "metadata": {},
     "output_type": "execute_result"
    }
   ],
   "source": [
    "# Checking the training set balance\n",
    "\n",
    "y2_year_train_near.value_counts(normalize=True)"
   ]
  },
  {
   "cell_type": "code",
   "execution_count": 22,
   "id": "910649e6-b272-4b93-a0e7-76919973deac",
   "metadata": {},
   "outputs": [],
   "source": [
    "undersampled2_year_model_results = test_models_2(models2,\n",
    "                                                 X2_year_train_near, y2_year_train_near,\n",
    "                                                 X2_year_test, y2_year_test,\n",
    "                                                 verbose=False)"
   ]
  },
  {
   "cell_type": "markdown",
   "id": "7220becd-20ef-4eb2-a1d0-13962ae1d912",
   "metadata": {
    "tags": []
   },
   "source": [
    "#### #3: Weighted Models"
   ]
  },
  {
   "cell_type": "code",
   "execution_count": 110,
   "id": "3a46d708-d766-4dff-b1ba-d753927e7c0b",
   "metadata": {},
   "outputs": [
    {
     "data": {
      "text/plain": [
       "0    0.772166\n",
       "1    0.227834\n",
       "Name: response_category_2, dtype: float64"
      ]
     },
     "execution_count": 110,
     "metadata": {},
     "output_type": "execute_result"
    }
   ],
   "source": [
    "# Checking the training set balance\n",
    "\n",
    "y2_year_train.value_counts(normalize=True)"
   ]
  },
  {
   "cell_type": "code",
   "execution_count": 109,
   "id": "7aae6cb1-ecdc-4d4b-8bb3-e0302c171680",
   "metadata": {},
   "outputs": [],
   "source": [
    "weighted2_year_model_results = test_models_2(models2_weighted,\n",
    "                                             X2_year_train, y2_year_train,\n",
    "                                             X2_year_test, y2_year_test,\n",
    "                                             verbose=False)"
   ]
  },
  {
   "cell_type": "markdown",
   "id": "3c51bc39-e179-4b12-94c4-f146889dc4d8",
   "metadata": {},
   "source": [
    "### **RESULTS**"
   ]
  },
  {
   "cell_type": "code",
   "execution_count": 25,
   "id": "d6f228d7-558b-4815-b183-e5ddd1f00f2d",
   "metadata": {},
   "outputs": [
    {
     "data": {
      "text/html": [
       "<div>\n",
       "<style scoped>\n",
       "    .dataframe tbody tr th:only-of-type {\n",
       "        vertical-align: middle;\n",
       "    }\n",
       "\n",
       "    .dataframe tbody tr th {\n",
       "        vertical-align: top;\n",
       "    }\n",
       "\n",
       "    .dataframe thead th {\n",
       "        text-align: right;\n",
       "    }\n",
       "</style>\n",
       "<table border=\"1\" class=\"dataframe\">\n",
       "  <thead>\n",
       "    <tr style=\"text-align: right;\">\n",
       "      <th></th>\n",
       "      <th>train_accuracy</th>\n",
       "      <th>test_accuracy</th>\n",
       "      <th>variance</th>\n",
       "      <th>test_precision</th>\n",
       "      <th>test_f1</th>\n",
       "    </tr>\n",
       "  </thead>\n",
       "  <tbody>\n",
       "    <tr>\n",
       "      <th>XGBoost</th>\n",
       "      <td>0.846192</td>\n",
       "      <td>0.796382</td>\n",
       "      <td>0.049810</td>\n",
       "      <td>0.582766</td>\n",
       "      <td>0.453663</td>\n",
       "    </tr>\n",
       "    <tr>\n",
       "      <th>Support Vector Classifier</th>\n",
       "      <td>0.826863</td>\n",
       "      <td>0.794079</td>\n",
       "      <td>0.032784</td>\n",
       "      <td>0.573991</td>\n",
       "      <td>0.449912</td>\n",
       "    </tr>\n",
       "    <tr>\n",
       "      <th>Multinomial Naive Bayes</th>\n",
       "      <td>0.786231</td>\n",
       "      <td>0.787171</td>\n",
       "      <td>-0.000940</td>\n",
       "      <td>0.588933</td>\n",
       "      <td>0.315344</td>\n",
       "    </tr>\n",
       "    <tr>\n",
       "      <th>Logistic Regression</th>\n",
       "      <td>0.793140</td>\n",
       "      <td>0.784211</td>\n",
       "      <td>0.008930</td>\n",
       "      <td>0.539823</td>\n",
       "      <td>0.426573</td>\n",
       "    </tr>\n",
       "    <tr>\n",
       "      <th>Bernoulli Naive Bayes</th>\n",
       "      <td>0.788041</td>\n",
       "      <td>0.782237</td>\n",
       "      <td>0.005804</td>\n",
       "      <td>0.527881</td>\n",
       "      <td>0.461789</td>\n",
       "    </tr>\n",
       "    <tr>\n",
       "      <th>Random Forest</th>\n",
       "      <td>0.893486</td>\n",
       "      <td>0.780921</td>\n",
       "      <td>0.112565</td>\n",
       "      <td>0.525490</td>\n",
       "      <td>0.445923</td>\n",
       "    </tr>\n",
       "    <tr>\n",
       "      <th>Most Frequent</th>\n",
       "      <td>0.772166</td>\n",
       "      <td>0.772368</td>\n",
       "      <td>-0.000202</td>\n",
       "      <td>0.000000</td>\n",
       "      <td>0.000000</td>\n",
       "    </tr>\n",
       "    <tr>\n",
       "      <th>Nearest Neighbors</th>\n",
       "      <td>0.828261</td>\n",
       "      <td>0.769737</td>\n",
       "      <td>0.058524</td>\n",
       "      <td>0.490050</td>\n",
       "      <td>0.360146</td>\n",
       "    </tr>\n",
       "  </tbody>\n",
       "</table>\n",
       "</div>"
      ],
      "text/plain": [
       "                           train_accuracy  test_accuracy  variance  \\\n",
       "XGBoost                          0.846192       0.796382  0.049810   \n",
       "Support Vector Classifier        0.826863       0.794079  0.032784   \n",
       "Multinomial Naive Bayes          0.786231       0.787171 -0.000940   \n",
       "Logistic Regression              0.793140       0.784211  0.008930   \n",
       "Bernoulli Naive Bayes            0.788041       0.782237  0.005804   \n",
       "Random Forest                    0.893486       0.780921  0.112565   \n",
       "Most Frequent                    0.772166       0.772368 -0.000202   \n",
       "Nearest Neighbors                0.828261       0.769737  0.058524   \n",
       "\n",
       "                           test_precision   test_f1  \n",
       "XGBoost                          0.582766  0.453663  \n",
       "Support Vector Classifier        0.573991  0.449912  \n",
       "Multinomial Naive Bayes          0.588933  0.315344  \n",
       "Logistic Regression              0.539823  0.426573  \n",
       "Bernoulli Naive Bayes            0.527881  0.461789  \n",
       "Random Forest                    0.525490  0.445923  \n",
       "Most Frequent                    0.000000  0.000000  \n",
       "Nearest Neighbors                0.490050  0.360146  "
      ]
     },
     "execution_count": 25,
     "metadata": {},
     "output_type": "execute_result"
    }
   ],
   "source": [
    "imbal2_year_model_results.sort_values(by='test_accuracy', ascending=False)"
   ]
  },
  {
   "cell_type": "code",
   "execution_count": 26,
   "id": "3919f64f-5e94-4766-af13-7ffb98c6fae8",
   "metadata": {},
   "outputs": [
    {
     "data": {
      "text/html": [
       "<div>\n",
       "<style scoped>\n",
       "    .dataframe tbody tr th:only-of-type {\n",
       "        vertical-align: middle;\n",
       "    }\n",
       "\n",
       "    .dataframe tbody tr th {\n",
       "        vertical-align: top;\n",
       "    }\n",
       "\n",
       "    .dataframe thead th {\n",
       "        text-align: right;\n",
       "    }\n",
       "</style>\n",
       "<table border=\"1\" class=\"dataframe\">\n",
       "  <thead>\n",
       "    <tr style=\"text-align: right;\">\n",
       "      <th></th>\n",
       "      <th>train_accuracy</th>\n",
       "      <th>test_accuracy</th>\n",
       "      <th>variance</th>\n",
       "      <th>test_precision</th>\n",
       "      <th>test_f1</th>\n",
       "    </tr>\n",
       "  </thead>\n",
       "  <tbody>\n",
       "    <tr>\n",
       "      <th>Most Frequent</th>\n",
       "      <td>0.500000</td>\n",
       "      <td>0.772368</td>\n",
       "      <td>-0.272368</td>\n",
       "      <td>0.000000</td>\n",
       "      <td>0.000000</td>\n",
       "    </tr>\n",
       "    <tr>\n",
       "      <th>Support Vector Classifier</th>\n",
       "      <td>0.783181</td>\n",
       "      <td>0.747368</td>\n",
       "      <td>0.035812</td>\n",
       "      <td>0.462302</td>\n",
       "      <td>0.548235</td>\n",
       "    </tr>\n",
       "    <tr>\n",
       "      <th>Logistic Regression</th>\n",
       "      <td>0.713730</td>\n",
       "      <td>0.745395</td>\n",
       "      <td>-0.031664</td>\n",
       "      <td>0.456933</td>\n",
       "      <td>0.529197</td>\n",
       "    </tr>\n",
       "    <tr>\n",
       "      <th>XGBoost</th>\n",
       "      <td>0.808532</td>\n",
       "      <td>0.744737</td>\n",
       "      <td>0.063795</td>\n",
       "      <td>0.458167</td>\n",
       "      <td>0.542453</td>\n",
       "    </tr>\n",
       "    <tr>\n",
       "      <th>Random Forest</th>\n",
       "      <td>0.870473</td>\n",
       "      <td>0.737829</td>\n",
       "      <td>0.132644</td>\n",
       "      <td>0.442873</td>\n",
       "      <td>0.505276</td>\n",
       "    </tr>\n",
       "    <tr>\n",
       "      <th>Bernoulli Naive Bayes</th>\n",
       "      <td>0.705688</td>\n",
       "      <td>0.721382</td>\n",
       "      <td>-0.015693</td>\n",
       "      <td>0.426956</td>\n",
       "      <td>0.516828</td>\n",
       "    </tr>\n",
       "    <tr>\n",
       "      <th>Nearest Neighbors</th>\n",
       "      <td>0.815190</td>\n",
       "      <td>0.685526</td>\n",
       "      <td>0.129663</td>\n",
       "      <td>0.380866</td>\n",
       "      <td>0.468889</td>\n",
       "    </tr>\n",
       "    <tr>\n",
       "      <th>Multinomial Naive Bayes</th>\n",
       "      <td>0.689923</td>\n",
       "      <td>0.679934</td>\n",
       "      <td>0.009989</td>\n",
       "      <td>0.384742</td>\n",
       "      <td>0.490842</td>\n",
       "    </tr>\n",
       "  </tbody>\n",
       "</table>\n",
       "</div>"
      ],
      "text/plain": [
       "                           train_accuracy  test_accuracy  variance  \\\n",
       "Most Frequent                    0.500000       0.772368 -0.272368   \n",
       "Support Vector Classifier        0.783181       0.747368  0.035812   \n",
       "Logistic Regression              0.713730       0.745395 -0.031664   \n",
       "XGBoost                          0.808532       0.744737  0.063795   \n",
       "Random Forest                    0.870473       0.737829  0.132644   \n",
       "Bernoulli Naive Bayes            0.705688       0.721382 -0.015693   \n",
       "Nearest Neighbors                0.815190       0.685526  0.129663   \n",
       "Multinomial Naive Bayes          0.689923       0.679934  0.009989   \n",
       "\n",
       "                           test_precision   test_f1  \n",
       "Most Frequent                    0.000000  0.000000  \n",
       "Support Vector Classifier        0.462302  0.548235  \n",
       "Logistic Regression              0.456933  0.529197  \n",
       "XGBoost                          0.458167  0.542453  \n",
       "Random Forest                    0.442873  0.505276  \n",
       "Bernoulli Naive Bayes            0.426956  0.516828  \n",
       "Nearest Neighbors                0.380866  0.468889  \n",
       "Multinomial Naive Bayes          0.384742  0.490842  "
      ]
     },
     "execution_count": 26,
     "metadata": {},
     "output_type": "execute_result"
    }
   ],
   "source": [
    "oversampled2_year_model_results.sort_values(by='test_accuracy', ascending=False)"
   ]
  },
  {
   "cell_type": "code",
   "execution_count": 27,
   "id": "a20ad48a-c535-489a-b7ca-39d4fadca13d",
   "metadata": {},
   "outputs": [
    {
     "data": {
      "text/html": [
       "<div>\n",
       "<style scoped>\n",
       "    .dataframe tbody tr th:only-of-type {\n",
       "        vertical-align: middle;\n",
       "    }\n",
       "\n",
       "    .dataframe tbody tr th {\n",
       "        vertical-align: top;\n",
       "    }\n",
       "\n",
       "    .dataframe thead th {\n",
       "        text-align: right;\n",
       "    }\n",
       "</style>\n",
       "<table border=\"1\" class=\"dataframe\">\n",
       "  <thead>\n",
       "    <tr style=\"text-align: right;\">\n",
       "      <th></th>\n",
       "      <th>train_accuracy</th>\n",
       "      <th>test_accuracy</th>\n",
       "      <th>variance</th>\n",
       "      <th>test_precision</th>\n",
       "      <th>test_f1</th>\n",
       "    </tr>\n",
       "  </thead>\n",
       "  <tbody>\n",
       "    <tr>\n",
       "      <th>Most Frequent</th>\n",
       "      <td>0.500000</td>\n",
       "      <td>0.772368</td>\n",
       "      <td>-0.272368</td>\n",
       "      <td>0.000000</td>\n",
       "      <td>0.000000</td>\n",
       "    </tr>\n",
       "    <tr>\n",
       "      <th>Nearest Neighbors</th>\n",
       "      <td>0.751083</td>\n",
       "      <td>0.565461</td>\n",
       "      <td>0.185623</td>\n",
       "      <td>0.287930</td>\n",
       "      <td>0.392644</td>\n",
       "    </tr>\n",
       "    <tr>\n",
       "      <th>Logistic Regression</th>\n",
       "      <td>0.724007</td>\n",
       "      <td>0.541776</td>\n",
       "      <td>0.182231</td>\n",
       "      <td>0.290996</td>\n",
       "      <td>0.411988</td>\n",
       "    </tr>\n",
       "    <tr>\n",
       "      <th>Bernoulli Naive Bayes</th>\n",
       "      <td>0.726354</td>\n",
       "      <td>0.539803</td>\n",
       "      <td>0.186551</td>\n",
       "      <td>0.286663</td>\n",
       "      <td>0.404427</td>\n",
       "    </tr>\n",
       "    <tr>\n",
       "      <th>Support Vector Classifier</th>\n",
       "      <td>0.763177</td>\n",
       "      <td>0.513158</td>\n",
       "      <td>0.250019</td>\n",
       "      <td>0.281838</td>\n",
       "      <td>0.407526</td>\n",
       "    </tr>\n",
       "    <tr>\n",
       "      <th>Multinomial Naive Bayes</th>\n",
       "      <td>0.708303</td>\n",
       "      <td>0.497697</td>\n",
       "      <td>0.210606</td>\n",
       "      <td>0.265844</td>\n",
       "      <td>0.383030</td>\n",
       "    </tr>\n",
       "    <tr>\n",
       "      <th>XGBoost</th>\n",
       "      <td>0.788267</td>\n",
       "      <td>0.480263</td>\n",
       "      <td>0.308004</td>\n",
       "      <td>0.265079</td>\n",
       "      <td>0.388071</td>\n",
       "    </tr>\n",
       "    <tr>\n",
       "      <th>Random Forest</th>\n",
       "      <td>0.803069</td>\n",
       "      <td>0.452303</td>\n",
       "      <td>0.350766</td>\n",
       "      <td>0.256140</td>\n",
       "      <td>0.380350</td>\n",
       "    </tr>\n",
       "  </tbody>\n",
       "</table>\n",
       "</div>"
      ],
      "text/plain": [
       "                           train_accuracy  test_accuracy  variance  \\\n",
       "Most Frequent                    0.500000       0.772368 -0.272368   \n",
       "Nearest Neighbors                0.751083       0.565461  0.185623   \n",
       "Logistic Regression              0.724007       0.541776  0.182231   \n",
       "Bernoulli Naive Bayes            0.726354       0.539803  0.186551   \n",
       "Support Vector Classifier        0.763177       0.513158  0.250019   \n",
       "Multinomial Naive Bayes          0.708303       0.497697  0.210606   \n",
       "XGBoost                          0.788267       0.480263  0.308004   \n",
       "Random Forest                    0.803069       0.452303  0.350766   \n",
       "\n",
       "                           test_precision   test_f1  \n",
       "Most Frequent                    0.000000  0.000000  \n",
       "Nearest Neighbors                0.287930  0.392644  \n",
       "Logistic Regression              0.290996  0.411988  \n",
       "Bernoulli Naive Bayes            0.286663  0.404427  \n",
       "Support Vector Classifier        0.281838  0.407526  \n",
       "Multinomial Naive Bayes          0.265844  0.383030  \n",
       "XGBoost                          0.265079  0.388071  \n",
       "Random Forest                    0.256140  0.380350  "
      ]
     },
     "execution_count": 27,
     "metadata": {},
     "output_type": "execute_result"
    }
   ],
   "source": [
    "undersampled2_year_model_results.sort_values(by='test_accuracy', ascending=False)"
   ]
  },
  {
   "cell_type": "code",
   "execution_count": 28,
   "id": "5cfe51d2-d4f2-4c28-b6af-54bdc8d961e5",
   "metadata": {},
   "outputs": [
    {
     "data": {
      "text/html": [
       "<div>\n",
       "<style scoped>\n",
       "    .dataframe tbody tr th:only-of-type {\n",
       "        vertical-align: middle;\n",
       "    }\n",
       "\n",
       "    .dataframe tbody tr th {\n",
       "        vertical-align: top;\n",
       "    }\n",
       "\n",
       "    .dataframe thead th {\n",
       "        text-align: right;\n",
       "    }\n",
       "</style>\n",
       "<table border=\"1\" class=\"dataframe\">\n",
       "  <thead>\n",
       "    <tr style=\"text-align: right;\">\n",
       "      <th></th>\n",
       "      <th>train_accuracy</th>\n",
       "      <th>test_accuracy</th>\n",
       "      <th>variance</th>\n",
       "      <th>test_precision</th>\n",
       "      <th>test_f1</th>\n",
       "    </tr>\n",
       "  </thead>\n",
       "  <tbody>\n",
       "    <tr>\n",
       "      <th>Nearest Neighbors</th>\n",
       "      <td>0.890114</td>\n",
       "      <td>0.767763</td>\n",
       "      <td>0.122350</td>\n",
       "      <td>0.484716</td>\n",
       "      <td>0.386087</td>\n",
       "    </tr>\n",
       "    <tr>\n",
       "      <th>Random Forest</th>\n",
       "      <td>0.869633</td>\n",
       "      <td>0.756579</td>\n",
       "      <td>0.113054</td>\n",
       "      <td>0.469231</td>\n",
       "      <td>0.497283</td>\n",
       "    </tr>\n",
       "    <tr>\n",
       "      <th>XGBoost</th>\n",
       "      <td>0.803175</td>\n",
       "      <td>0.754934</td>\n",
       "      <td>0.048241</td>\n",
       "      <td>0.472987</td>\n",
       "      <td>0.554692</td>\n",
       "    </tr>\n",
       "    <tr>\n",
       "      <th>Support Vector Classifier</th>\n",
       "      <td>0.780474</td>\n",
       "      <td>0.751974</td>\n",
       "      <td>0.028500</td>\n",
       "      <td>0.468876</td>\n",
       "      <td>0.553318</td>\n",
       "    </tr>\n",
       "    <tr>\n",
       "      <th>Logistic Regression</th>\n",
       "      <td>0.758924</td>\n",
       "      <td>0.749342</td>\n",
       "      <td>0.009582</td>\n",
       "      <td>0.462687</td>\n",
       "      <td>0.532515</td>\n",
       "    </tr>\n",
       "  </tbody>\n",
       "</table>\n",
       "</div>"
      ],
      "text/plain": [
       "                           train_accuracy  test_accuracy  variance  \\\n",
       "Nearest Neighbors                0.890114       0.767763  0.122350   \n",
       "Random Forest                    0.869633       0.756579  0.113054   \n",
       "XGBoost                          0.803175       0.754934  0.048241   \n",
       "Support Vector Classifier        0.780474       0.751974  0.028500   \n",
       "Logistic Regression              0.758924       0.749342  0.009582   \n",
       "\n",
       "                           test_precision   test_f1  \n",
       "Nearest Neighbors                0.484716  0.386087  \n",
       "Random Forest                    0.469231  0.497283  \n",
       "XGBoost                          0.472987  0.554692  \n",
       "Support Vector Classifier        0.468876  0.553318  \n",
       "Logistic Regression              0.462687  0.532515  "
      ]
     },
     "execution_count": 28,
     "metadata": {},
     "output_type": "execute_result"
    }
   ],
   "source": [
    "weighted2_year_model_results.sort_values(by='test_accuracy', ascending=False)"
   ]
  },
  {
   "cell_type": "markdown",
   "id": "d4026a54-d2f6-44f7-ba6c-f639470887a2",
   "metadata": {},
   "source": [
    "### **SUMMARY**"
   ]
  },
  {
   "cell_type": "markdown",
   "id": "72440b52-bb24-45f7-9705-cd35adbe349d",
   "metadata": {},
   "source": [
    "Of all the imbalanced data techniques, the **weighted models** performed best, though not great. The oversampled models performed very similarly, but the weighted models had them beat by 0.01-0.02 across the board. The undersampled models performed substantially worse than the both the weighted and oversampled models, with lower scores all around and a very high degree of variance. Of the weighted models, it was **XGBoost**, **Support Vector Classifier** and **Logistic Regression**, that performed the best. The test accuracy was in the mid 70's, variance was between 0.009 and 0.048, and test precision was in the mid-upper 40's."
   ]
  },
  {
   "cell_type": "markdown",
   "id": "da623053-c1f1-4605-aab4-1f1279627e8e",
   "metadata": {},
   "source": [
    "____________\n",
    "## **#2. Modeling 3 classes (with YEAR data)**"
   ]
  },
  {
   "cell_type": "markdown",
   "id": "b48a96aa-8426-4b42-a13f-9f12525fda09",
   "metadata": {},
   "source": [
    "### Helper Functions (3 classes)"
   ]
  },
  {
   "cell_type": "code",
   "execution_count": 40,
   "id": "80a402d6-ae70-410b-b131-7d06a4e51411",
   "metadata": {},
   "outputs": [],
   "source": [
    "def run_baseline_3(model, \n",
    "                 X_train, y_train, X_test, y_test,\n",
    "                 verbose=True):\n",
    "    \"\"\"\n",
    "    Fits a baseline model for each model specified.\n",
    "    Compiles accuracy, variance, precision and f1 score results in a dictionary.\n",
    "    For 3 classes.\n",
    "    \"\"\"\n",
    "    \n",
    "    results = {}\n",
    "    \n",
    "    model.fit(X_train, y_train)\n",
    "\n",
    "    y_pred_train = model.predict(X_train)\n",
    "    y_pred_test = model.predict(X_test)\n",
    "    \n",
    "    results['train_accuracy'] = accuracy_score(y_train, y_pred_train)\n",
    "    results['test_accuracy'] = accuracy_score(y_test, y_pred_test)\n",
    "    results['variance'] = results['train_accuracy'] - results['test_accuracy']\n",
    "    results['test_precision'] = precision_score(y_test, y_pred_test, average='weighted', zero_division=0)\n",
    "    results['test_f1'] = f1_score(y_test, y_pred_test, average='weighted', zero_division=0)\n",
    "    \n",
    "    return results"
   ]
  },
  {
   "cell_type": "code",
   "execution_count": 41,
   "id": "412eb132-d50c-4595-8d15-4db15ccf549c",
   "metadata": {},
   "outputs": [],
   "source": [
    "def test_models_3(models, X_train, y_train, X_test, y_test, verbose=False):\n",
    "\n",
    "    \"\"\"\n",
    "    Returns the baseline model results in a dataframe.\n",
    "    For 2 classes.\n",
    "    \"\"\"\n",
    "\n",
    "    results = {}\n",
    "    \n",
    "    for name,model in models.items():\n",
    "        if verbose:\n",
    "            print('\\nRunning {} - {}'.format(name, model))\n",
    "        \n",
    "        results[name] = run_baseline_3(model, X_train, y_train, X_test, y_test, verbose=False)\n",
    "        \n",
    "        if verbose:\n",
    "            print('Results: ', results[name])\n",
    "\n",
    "    return pd.DataFrame.from_dict(results, orient='index')"
   ]
  },
  {
   "cell_type": "markdown",
   "id": "547e1ec6-5751-402e-ae37-1f583ccc2174",
   "metadata": {},
   "source": [
    "### Defining models (3 classes)"
   ]
  },
  {
   "cell_type": "code",
   "execution_count": 31,
   "id": "66c740c7-5239-4f7a-aa0d-5ecbcec0a46d",
   "metadata": {},
   "outputs": [],
   "source": [
    "models3 = {'Most Frequent': DummyClassifier(strategy='most_frequent'),\n",
    "          'Nearest Neighbors': KNeighborsClassifier(n_neighbors=5),\n",
    "          'Random Forest': RandomForestClassifier(n_estimators=100),\n",
    "          'XGBoost': XGBClassifier(),\n",
    "          'Support Vector Classifier': SVC(),\n",
    "          'Multinomial Naive Bayes': MultinomialNB()}"
   ]
  },
  {
   "cell_type": "code",
   "execution_count": 32,
   "id": "b8d15da3-f503-483c-9912-12bd3e6474c8",
   "metadata": {},
   "outputs": [],
   "source": [
    "models3_weighted = {'Nearest Neighbors': KNeighborsClassifier(n_neighbors=5, weights='distance'),\n",
    "          'Random Forest': RandomForestClassifier(n_estimators=100, class_weight='balanced'),\n",
    "          'XGBoost': XGBClassifier(),\n",
    "          'Support Vector Classifier': SVC(class_weight='balanced')}"
   ]
  },
  {
   "cell_type": "markdown",
   "id": "a307a343-f385-4d18-a6c9-da58aa8fdf5e",
   "metadata": {},
   "source": [
    "### X, y & train-test split"
   ]
  },
  {
   "cell_type": "code",
   "execution_count": 33,
   "id": "b3415f01-374a-4160-8d01-2620a7fe14df",
   "metadata": {},
   "outputs": [],
   "source": [
    "X3_year = protests_ohe_w_year.drop(columns=['response_category_2','response_category_3'])\n",
    "y3_year = protests_ohe_w_year['response_category_3']"
   ]
  },
  {
   "cell_type": "code",
   "execution_count": 34,
   "id": "7b2db090-fb24-4e96-9fe8-0af16b885d24",
   "metadata": {},
   "outputs": [],
   "source": [
    "# Train/test split\n",
    "\n",
    "X3_year_train, X3_year_test, y3_year_train, y3_year_test = train_test_split(X3_year, y3_year, test_size=0.2, random_state=42, stratify=y3_year)"
   ]
  },
  {
   "cell_type": "markdown",
   "id": "9d721a81-6db1-4b01-9fce-db90c5005e89",
   "metadata": {},
   "source": [
    "### Imbalanced Data Techniques"
   ]
  },
  {
   "cell_type": "markdown",
   "id": "6d425a6c-6b58-4355-b509-b76eb662c7b0",
   "metadata": {},
   "source": [
    "#### Original, Imbalanced Data"
   ]
  },
  {
   "cell_type": "code",
   "execution_count": 35,
   "id": "895c2a06-4472-46d6-8874-12bf4f6d15f0",
   "metadata": {},
   "outputs": [
    {
     "data": {
      "text/plain": [
       "0    0.525333\n",
       "1    0.246833\n",
       "2    0.227834\n",
       "Name: response_category_3, dtype: float64"
      ]
     },
     "execution_count": 35,
     "metadata": {},
     "output_type": "execute_result"
    }
   ],
   "source": [
    "# Checking the training set balance\n",
    "\n",
    "y3_year_train.value_counts(normalize=True)"
   ]
  },
  {
   "cell_type": "code",
   "execution_count": 42,
   "id": "57f75956-3556-4ba4-9855-79892611d196",
   "metadata": {},
   "outputs": [],
   "source": [
    "imbal3_year_model_results = test_models_3(models3,\n",
    "                                          X3_year_train, y3_year_train,\n",
    "                                          X3_year_test, y3_year_test,\n",
    "                                          verbose=False)"
   ]
  },
  {
   "cell_type": "markdown",
   "id": "f0181386-57b7-456d-8b81-df98c95944fe",
   "metadata": {},
   "source": [
    "#### #1. Oversampled"
   ]
  },
  {
   "cell_type": "code",
   "execution_count": 43,
   "id": "4328ec69-bc2a-4927-9906-9d6f6f5fa442",
   "metadata": {},
   "outputs": [],
   "source": [
    "ros3_year = RandomOverSampler()\n",
    "\n",
    "X3_year_train_over, y3_year_train_over = ros3_year.fit_resample(X3_year_train, y3_year_train)"
   ]
  },
  {
   "cell_type": "code",
   "execution_count": 44,
   "id": "c093ad54-0051-4bbd-89ca-64f60299cb68",
   "metadata": {},
   "outputs": [
    {
     "data": {
      "text/plain": [
       "1    0.333333\n",
       "0    0.333333\n",
       "2    0.333333\n",
       "Name: response_category_3, dtype: float64"
      ]
     },
     "execution_count": 44,
     "metadata": {},
     "output_type": "execute_result"
    }
   ],
   "source": [
    "# Checking the training set balance\n",
    "\n",
    "y3_year_train_over.value_counts(normalize=True)"
   ]
  },
  {
   "cell_type": "code",
   "execution_count": 45,
   "id": "8c994692-580d-4e57-92cf-53726f4d1920",
   "metadata": {},
   "outputs": [],
   "source": [
    "oversampled3_year_model_results = test_models_3(models3,\n",
    "                                                X3_year_train_over, y3_year_train_over,\n",
    "                                                X3_year_test, y3_year_test,\n",
    "                                                verbose=False)"
   ]
  },
  {
   "cell_type": "markdown",
   "id": "6526fb9e-be87-4af4-99eb-295484ea25c9",
   "metadata": {},
   "source": [
    "#### #2. Undersampled (Near Miss)"
   ]
  },
  {
   "cell_type": "code",
   "execution_count": 46,
   "id": "c1101f01-fc24-46d5-8d35-031dd0657540",
   "metadata": {},
   "outputs": [],
   "source": [
    "nr3_year = NearMiss() \n",
    "\n",
    "X3_year_train_near, y3_year_train_near= nr3_year.fit_sample(X3_year_train, y3_year_train) "
   ]
  },
  {
   "cell_type": "code",
   "execution_count": 47,
   "id": "42c1a865-6611-4aba-91b5-e02915319604",
   "metadata": {},
   "outputs": [
    {
     "data": {
      "text/plain": [
       "0    0.333333\n",
       "1    0.333333\n",
       "2    0.333333\n",
       "Name: response_category_3, dtype: float64"
      ]
     },
     "execution_count": 47,
     "metadata": {},
     "output_type": "execute_result"
    }
   ],
   "source": [
    "# Checking the training set balance\n",
    "\n",
    "y3_year_train_near.value_counts(normalize=True)"
   ]
  },
  {
   "cell_type": "code",
   "execution_count": 48,
   "id": "30fdd697-ad62-40ae-ad54-ed8d65559cdc",
   "metadata": {},
   "outputs": [],
   "source": [
    "undersampled3_year_model_results = test_models_3(models3,\n",
    "                                                 X3_year_train_near, y3_year_train_near,\n",
    "                                                 X3_year_test, y3_year_test,\n",
    "                                                 verbose=False)"
   ]
  },
  {
   "cell_type": "markdown",
   "id": "3b0b03ab-343f-4490-a197-f7ff9736869a",
   "metadata": {
    "tags": []
   },
   "source": [
    "#### #3. Weighted Models"
   ]
  },
  {
   "cell_type": "code",
   "execution_count": 49,
   "id": "3e8c82c1-cdb2-4e8a-ab93-e95baa278de4",
   "metadata": {},
   "outputs": [
    {
     "data": {
      "text/plain": [
       "0    0.525333\n",
       "1    0.246833\n",
       "2    0.227834\n",
       "Name: response_category_3, dtype: float64"
      ]
     },
     "execution_count": 49,
     "metadata": {},
     "output_type": "execute_result"
    }
   ],
   "source": [
    "# Checking the training set balance\n",
    "\n",
    "y3_year_train.value_counts(normalize=True)"
   ]
  },
  {
   "cell_type": "code",
   "execution_count": 50,
   "id": "f7fa392a-3552-41a0-9670-ad934af14c71",
   "metadata": {},
   "outputs": [],
   "source": [
    "weighted3_year_model_results = test_models_3(models3_weighted,\n",
    "                                             X3_year_train, y3_year_train,\n",
    "                                             X3_year_test, y3_year_test,\n",
    "                                             verbose=False)"
   ]
  },
  {
   "cell_type": "markdown",
   "id": "1087952b-cb20-4964-ac57-ba180979eb2d",
   "metadata": {},
   "source": [
    "### **RESULTS**"
   ]
  },
  {
   "cell_type": "code",
   "execution_count": 51,
   "id": "d9863e1f-7d9f-49be-8418-44b6080d298e",
   "metadata": {},
   "outputs": [
    {
     "data": {
      "text/html": [
       "<div>\n",
       "<style scoped>\n",
       "    .dataframe tbody tr th:only-of-type {\n",
       "        vertical-align: middle;\n",
       "    }\n",
       "\n",
       "    .dataframe tbody tr th {\n",
       "        vertical-align: top;\n",
       "    }\n",
       "\n",
       "    .dataframe thead th {\n",
       "        text-align: right;\n",
       "    }\n",
       "</style>\n",
       "<table border=\"1\" class=\"dataframe\">\n",
       "  <thead>\n",
       "    <tr style=\"text-align: right;\">\n",
       "      <th></th>\n",
       "      <th>train_accuracy</th>\n",
       "      <th>test_accuracy</th>\n",
       "      <th>variance</th>\n",
       "      <th>test_precision</th>\n",
       "      <th>test_f1</th>\n",
       "    </tr>\n",
       "  </thead>\n",
       "  <tbody>\n",
       "    <tr>\n",
       "      <th>Support Vector Classifier</th>\n",
       "      <td>0.668367</td>\n",
       "      <td>0.651974</td>\n",
       "      <td>0.016393</td>\n",
       "      <td>0.631672</td>\n",
       "      <td>0.608871</td>\n",
       "    </tr>\n",
       "    <tr>\n",
       "      <th>XGBoost</th>\n",
       "      <td>0.712782</td>\n",
       "      <td>0.640132</td>\n",
       "      <td>0.072650</td>\n",
       "      <td>0.611746</td>\n",
       "      <td>0.610613</td>\n",
       "    </tr>\n",
       "    <tr>\n",
       "      <th>Random Forest</th>\n",
       "      <td>0.796348</td>\n",
       "      <td>0.623684</td>\n",
       "      <td>0.172664</td>\n",
       "      <td>0.602580</td>\n",
       "      <td>0.608078</td>\n",
       "    </tr>\n",
       "    <tr>\n",
       "      <th>Multinomial Naive Bayes</th>\n",
       "      <td>0.623458</td>\n",
       "      <td>0.621382</td>\n",
       "      <td>0.002076</td>\n",
       "      <td>0.579724</td>\n",
       "      <td>0.572751</td>\n",
       "    </tr>\n",
       "    <tr>\n",
       "      <th>Nearest Neighbors</th>\n",
       "      <td>0.674864</td>\n",
       "      <td>0.581908</td>\n",
       "      <td>0.092956</td>\n",
       "      <td>0.551040</td>\n",
       "      <td>0.545793</td>\n",
       "    </tr>\n",
       "    <tr>\n",
       "      <th>Most Frequent</th>\n",
       "      <td>0.525333</td>\n",
       "      <td>0.525329</td>\n",
       "      <td>0.000004</td>\n",
       "      <td>0.275971</td>\n",
       "      <td>0.361850</td>\n",
       "    </tr>\n",
       "  </tbody>\n",
       "</table>\n",
       "</div>"
      ],
      "text/plain": [
       "                           train_accuracy  test_accuracy  variance  \\\n",
       "Support Vector Classifier        0.668367       0.651974  0.016393   \n",
       "XGBoost                          0.712782       0.640132  0.072650   \n",
       "Random Forest                    0.796348       0.623684  0.172664   \n",
       "Multinomial Naive Bayes          0.623458       0.621382  0.002076   \n",
       "Nearest Neighbors                0.674864       0.581908  0.092956   \n",
       "Most Frequent                    0.525333       0.525329  0.000004   \n",
       "\n",
       "                           test_precision   test_f1  \n",
       "Support Vector Classifier        0.631672  0.608871  \n",
       "XGBoost                          0.611746  0.610613  \n",
       "Random Forest                    0.602580  0.608078  \n",
       "Multinomial Naive Bayes          0.579724  0.572751  \n",
       "Nearest Neighbors                0.551040  0.545793  \n",
       "Most Frequent                    0.275971  0.361850  "
      ]
     },
     "execution_count": 51,
     "metadata": {},
     "output_type": "execute_result"
    }
   ],
   "source": [
    "imbal3_year_model_results.sort_values(by='test_accuracy', ascending=False)"
   ]
  },
  {
   "cell_type": "code",
   "execution_count": 52,
   "id": "71181597-e671-4180-9c0d-bcd0abe0a08e",
   "metadata": {},
   "outputs": [
    {
     "data": {
      "text/html": [
       "<div>\n",
       "<style scoped>\n",
       "    .dataframe tbody tr th:only-of-type {\n",
       "        vertical-align: middle;\n",
       "    }\n",
       "\n",
       "    .dataframe tbody tr th {\n",
       "        vertical-align: top;\n",
       "    }\n",
       "\n",
       "    .dataframe thead th {\n",
       "        text-align: right;\n",
       "    }\n",
       "</style>\n",
       "<table border=\"1\" class=\"dataframe\">\n",
       "  <thead>\n",
       "    <tr style=\"text-align: right;\">\n",
       "      <th></th>\n",
       "      <th>train_accuracy</th>\n",
       "      <th>test_accuracy</th>\n",
       "      <th>variance</th>\n",
       "      <th>test_precision</th>\n",
       "      <th>test_f1</th>\n",
       "    </tr>\n",
       "  </thead>\n",
       "  <tbody>\n",
       "    <tr>\n",
       "      <th>Support Vector Classifier</th>\n",
       "      <td>0.659882</td>\n",
       "      <td>0.612171</td>\n",
       "      <td>0.047711</td>\n",
       "      <td>0.598257</td>\n",
       "      <td>0.603801</td>\n",
       "    </tr>\n",
       "    <tr>\n",
       "      <th>XGBoost</th>\n",
       "      <td>0.691248</td>\n",
       "      <td>0.599342</td>\n",
       "      <td>0.091906</td>\n",
       "      <td>0.594501</td>\n",
       "      <td>0.596741</td>\n",
       "    </tr>\n",
       "    <tr>\n",
       "      <th>Random Forest</th>\n",
       "      <td>0.787067</td>\n",
       "      <td>0.570724</td>\n",
       "      <td>0.216344</td>\n",
       "      <td>0.581669</td>\n",
       "      <td>0.575249</td>\n",
       "    </tr>\n",
       "    <tr>\n",
       "      <th>Multinomial Naive Bayes</th>\n",
       "      <td>0.523929</td>\n",
       "      <td>0.570395</td>\n",
       "      <td>-0.046466</td>\n",
       "      <td>0.575436</td>\n",
       "      <td>0.570677</td>\n",
       "    </tr>\n",
       "    <tr>\n",
       "      <th>Nearest Neighbors</th>\n",
       "      <td>0.713533</td>\n",
       "      <td>0.532237</td>\n",
       "      <td>0.181296</td>\n",
       "      <td>0.548710</td>\n",
       "      <td>0.538813</td>\n",
       "    </tr>\n",
       "    <tr>\n",
       "      <th>Most Frequent</th>\n",
       "      <td>0.333333</td>\n",
       "      <td>0.525329</td>\n",
       "      <td>-0.191996</td>\n",
       "      <td>0.275971</td>\n",
       "      <td>0.361850</td>\n",
       "    </tr>\n",
       "  </tbody>\n",
       "</table>\n",
       "</div>"
      ],
      "text/plain": [
       "                           train_accuracy  test_accuracy  variance  \\\n",
       "Support Vector Classifier        0.659882       0.612171  0.047711   \n",
       "XGBoost                          0.691248       0.599342  0.091906   \n",
       "Random Forest                    0.787067       0.570724  0.216344   \n",
       "Multinomial Naive Bayes          0.523929       0.570395 -0.046466   \n",
       "Nearest Neighbors                0.713533       0.532237  0.181296   \n",
       "Most Frequent                    0.333333       0.525329 -0.191996   \n",
       "\n",
       "                           test_precision   test_f1  \n",
       "Support Vector Classifier        0.598257  0.603801  \n",
       "XGBoost                          0.594501  0.596741  \n",
       "Random Forest                    0.581669  0.575249  \n",
       "Multinomial Naive Bayes          0.575436  0.570677  \n",
       "Nearest Neighbors                0.548710  0.538813  \n",
       "Most Frequent                    0.275971  0.361850  "
      ]
     },
     "execution_count": 52,
     "metadata": {},
     "output_type": "execute_result"
    }
   ],
   "source": [
    "oversampled3_year_model_results.sort_values(by='test_accuracy', ascending=False)"
   ]
  },
  {
   "cell_type": "code",
   "execution_count": 53,
   "id": "1ed41d1d-07e8-41a2-9603-4b82d507a8a1",
   "metadata": {},
   "outputs": [
    {
     "data": {
      "text/html": [
       "<div>\n",
       "<style scoped>\n",
       "    .dataframe tbody tr th:only-of-type {\n",
       "        vertical-align: middle;\n",
       "    }\n",
       "\n",
       "    .dataframe tbody tr th {\n",
       "        vertical-align: top;\n",
       "    }\n",
       "\n",
       "    .dataframe thead th {\n",
       "        text-align: right;\n",
       "    }\n",
       "</style>\n",
       "<table border=\"1\" class=\"dataframe\">\n",
       "  <thead>\n",
       "    <tr style=\"text-align: right;\">\n",
       "      <th></th>\n",
       "      <th>train_accuracy</th>\n",
       "      <th>test_accuracy</th>\n",
       "      <th>variance</th>\n",
       "      <th>test_precision</th>\n",
       "      <th>test_f1</th>\n",
       "    </tr>\n",
       "  </thead>\n",
       "  <tbody>\n",
       "    <tr>\n",
       "      <th>Most Frequent</th>\n",
       "      <td>0.333333</td>\n",
       "      <td>0.525329</td>\n",
       "      <td>-0.191996</td>\n",
       "      <td>0.275971</td>\n",
       "      <td>0.361850</td>\n",
       "    </tr>\n",
       "    <tr>\n",
       "      <th>Multinomial Naive Bayes</th>\n",
       "      <td>0.543682</td>\n",
       "      <td>0.507237</td>\n",
       "      <td>0.036445</td>\n",
       "      <td>0.535672</td>\n",
       "      <td>0.517039</td>\n",
       "    </tr>\n",
       "    <tr>\n",
       "      <th>Support Vector Classifier</th>\n",
       "      <td>0.629122</td>\n",
       "      <td>0.506908</td>\n",
       "      <td>0.122214</td>\n",
       "      <td>0.539906</td>\n",
       "      <td>0.518466</td>\n",
       "    </tr>\n",
       "    <tr>\n",
       "      <th>XGBoost</th>\n",
       "      <td>0.687605</td>\n",
       "      <td>0.475000</td>\n",
       "      <td>0.212605</td>\n",
       "      <td>0.532306</td>\n",
       "      <td>0.490645</td>\n",
       "    </tr>\n",
       "    <tr>\n",
       "      <th>Nearest Neighbors</th>\n",
       "      <td>0.627076</td>\n",
       "      <td>0.469408</td>\n",
       "      <td>0.157668</td>\n",
       "      <td>0.505320</td>\n",
       "      <td>0.480513</td>\n",
       "    </tr>\n",
       "    <tr>\n",
       "      <th>Random Forest</th>\n",
       "      <td>0.759206</td>\n",
       "      <td>0.442763</td>\n",
       "      <td>0.316443</td>\n",
       "      <td>0.529802</td>\n",
       "      <td>0.457593</td>\n",
       "    </tr>\n",
       "  </tbody>\n",
       "</table>\n",
       "</div>"
      ],
      "text/plain": [
       "                           train_accuracy  test_accuracy  variance  \\\n",
       "Most Frequent                    0.333333       0.525329 -0.191996   \n",
       "Multinomial Naive Bayes          0.543682       0.507237  0.036445   \n",
       "Support Vector Classifier        0.629122       0.506908  0.122214   \n",
       "XGBoost                          0.687605       0.475000  0.212605   \n",
       "Nearest Neighbors                0.627076       0.469408  0.157668   \n",
       "Random Forest                    0.759206       0.442763  0.316443   \n",
       "\n",
       "                           test_precision   test_f1  \n",
       "Most Frequent                    0.275971  0.361850  \n",
       "Multinomial Naive Bayes          0.535672  0.517039  \n",
       "Support Vector Classifier        0.539906  0.518466  \n",
       "XGBoost                          0.532306  0.490645  \n",
       "Nearest Neighbors                0.505320  0.480513  \n",
       "Random Forest                    0.529802  0.457593  "
      ]
     },
     "execution_count": 53,
     "metadata": {},
     "output_type": "execute_result"
    }
   ],
   "source": [
    "undersampled3_year_model_results.sort_values(by='test_accuracy', ascending=False)"
   ]
  },
  {
   "cell_type": "code",
   "execution_count": 54,
   "id": "beeacba6-a1ee-42e6-8bb1-e33b72dcc524",
   "metadata": {},
   "outputs": [
    {
     "data": {
      "text/html": [
       "<div>\n",
       "<style scoped>\n",
       "    .dataframe tbody tr th:only-of-type {\n",
       "        vertical-align: middle;\n",
       "    }\n",
       "\n",
       "    .dataframe tbody tr th {\n",
       "        vertical-align: top;\n",
       "    }\n",
       "\n",
       "    .dataframe thead th {\n",
       "        text-align: right;\n",
       "    }\n",
       "</style>\n",
       "<table border=\"1\" class=\"dataframe\">\n",
       "  <thead>\n",
       "    <tr style=\"text-align: right;\">\n",
       "      <th></th>\n",
       "      <th>train_accuracy</th>\n",
       "      <th>test_accuracy</th>\n",
       "      <th>variance</th>\n",
       "      <th>test_precision</th>\n",
       "      <th>test_f1</th>\n",
       "    </tr>\n",
       "  </thead>\n",
       "  <tbody>\n",
       "    <tr>\n",
       "      <th>XGBoost</th>\n",
       "      <td>0.712782</td>\n",
       "      <td>0.640132</td>\n",
       "      <td>0.072650</td>\n",
       "      <td>0.611746</td>\n",
       "      <td>0.610613</td>\n",
       "    </tr>\n",
       "    <tr>\n",
       "      <th>Support Vector Classifier</th>\n",
       "      <td>0.684570</td>\n",
       "      <td>0.623026</td>\n",
       "      <td>0.061544</td>\n",
       "      <td>0.604485</td>\n",
       "      <td>0.610530</td>\n",
       "    </tr>\n",
       "    <tr>\n",
       "      <th>Nearest Neighbors</th>\n",
       "      <td>0.788041</td>\n",
       "      <td>0.592763</td>\n",
       "      <td>0.195278</td>\n",
       "      <td>0.566858</td>\n",
       "      <td>0.569436</td>\n",
       "    </tr>\n",
       "    <tr>\n",
       "      <th>Random Forest</th>\n",
       "      <td>0.785409</td>\n",
       "      <td>0.591118</td>\n",
       "      <td>0.194290</td>\n",
       "      <td>0.589653</td>\n",
       "      <td>0.590180</td>\n",
       "    </tr>\n",
       "  </tbody>\n",
       "</table>\n",
       "</div>"
      ],
      "text/plain": [
       "                           train_accuracy  test_accuracy  variance  \\\n",
       "XGBoost                          0.712782       0.640132  0.072650   \n",
       "Support Vector Classifier        0.684570       0.623026  0.061544   \n",
       "Nearest Neighbors                0.788041       0.592763  0.195278   \n",
       "Random Forest                    0.785409       0.591118  0.194290   \n",
       "\n",
       "                           test_precision   test_f1  \n",
       "XGBoost                          0.611746  0.610613  \n",
       "Support Vector Classifier        0.604485  0.610530  \n",
       "Nearest Neighbors                0.566858  0.569436  \n",
       "Random Forest                    0.589653  0.590180  "
      ]
     },
     "execution_count": 54,
     "metadata": {},
     "output_type": "execute_result"
    }
   ],
   "source": [
    "weighted3_year_model_results.sort_values(by='test_accuracy', ascending=False)"
   ]
  },
  {
   "cell_type": "markdown",
   "id": "4637aff5-ed02-4958-8cd1-7bd73ed19266",
   "metadata": {},
   "source": [
    "### **SUMMARY**"
   ]
  },
  {
   "cell_type": "markdown",
   "id": "1f1de5bd-c128-4a1d-8678-87921718535f",
   "metadata": {},
   "source": [
    "The **weighted models** performed best here as well, though still not great. The oversampled models did not perform as similarly as with only 2 classes, but they were not far behind. The undersampled models again performed substantially worse than the both the weighted and oversampled models, with all around lower scores and a higher degree of variance. Of the weighted models, it was **XGBoost** and **Support Vector Classifier**, that performed the best. The test accuracy was in the low 60's, variance was between 0.06 and 0.07, and test precision was in the low 60's."
   ]
  },
  {
   "cell_type": "markdown",
   "id": "bf2f3cd2-4a20-4373-9907-8da4c589fe20",
   "metadata": {},
   "source": [
    "____________\n",
    "## **#3. Modeling 2 classes (NO YEAR data)**"
   ]
  },
  {
   "cell_type": "markdown",
   "id": "d8ae02e5-9475-4534-a59d-a01625327da3",
   "metadata": {},
   "source": [
    "### One-Hot Encoding Categorical Variables"
   ]
  },
  {
   "cell_type": "code",
   "execution_count": 55,
   "id": "b38189cd-4f86-4451-8acc-62694cf0bd8c",
   "metadata": {},
   "outputs": [],
   "source": [
    "# One-Hot-Encoding region and participants_category features\n",
    "\n",
    "protests_ohe_wo_year = pd.get_dummies(protests, \n",
    "                                      prefix={'region':'region',\n",
    "                                              'participants_category':'participants_category'},\n",
    "                                      columns=['region',\n",
    "                                               'participants_category'],\n",
    "                                      drop_first=False)"
   ]
  },
  {
   "cell_type": "code",
   "execution_count": 56,
   "id": "f3aa5d4b-923c-4b58-9f3e-6f59896b8783",
   "metadata": {},
   "outputs": [],
   "source": [
    "# Organizing columns\n",
    "\n",
    "protests_ohe_wo_year.insert(23, 'protesterviolence', protests_ohe_wo_year.pop('protesterviolence'))\n",
    "protests_ohe_wo_year.insert(23, 'demand_political_behavior_process', protests_ohe_wo_year.pop('demand_political_behavior_process'))\n",
    "protests_ohe_wo_year.insert(23, 'demand_labor_wage_dispute', protests_ohe_wo_year.pop('demand_labor_wage_dispute'))\n",
    "protests_ohe_wo_year.insert(23, 'demand_police_brutality', protests_ohe_wo_year.pop('demand_police_brutality'))\n",
    "protests_ohe_wo_year.insert(23, 'demand_social_restrictions', protests_ohe_wo_year.pop('demand_social_restrictions'))\n",
    "protests_ohe_wo_year.insert(23, 'demand_land_farm_issue', protests_ohe_wo_year.pop('demand_land_farm_issue'))\n",
    "protests_ohe_wo_year.insert(23, 'demand_politician_removal', protests_ohe_wo_year.pop('demand_politician_removal'))\n",
    "protests_ohe_wo_year.insert(23, 'demand_price_inc_tax_policy', protests_ohe_wo_year.pop('demand_price_inc_tax_policy'))\n",
    "protests_ohe_wo_year.insert(23, 'response_category_2', protests_ohe_wo_year.pop('response_category_2'))\n",
    "protests_ohe_wo_year.insert(23, 'response_category_3', protests_ohe_wo_year.pop('response_category_3'))"
   ]
  },
  {
   "cell_type": "code",
   "execution_count": 57,
   "id": "04e4a591-48dc-4f7e-8024-ea5410dc30a1",
   "metadata": {},
   "outputs": [
    {
     "data": {
      "text/html": [
       "<div>\n",
       "<style scoped>\n",
       "    .dataframe tbody tr th:only-of-type {\n",
       "        vertical-align: middle;\n",
       "    }\n",
       "\n",
       "    .dataframe tbody tr th {\n",
       "        vertical-align: top;\n",
       "    }\n",
       "\n",
       "    .dataframe thead th {\n",
       "        text-align: right;\n",
       "    }\n",
       "</style>\n",
       "<table border=\"1\" class=\"dataframe\">\n",
       "  <thead>\n",
       "    <tr style=\"text-align: right;\">\n",
       "      <th></th>\n",
       "      <th>year</th>\n",
       "      <th>region_Africa</th>\n",
       "      <th>region_Asia</th>\n",
       "      <th>region_Central America</th>\n",
       "      <th>region_Europe</th>\n",
       "      <th>region_MENA</th>\n",
       "      <th>region_North America</th>\n",
       "      <th>region_Oceania</th>\n",
       "      <th>region_South America</th>\n",
       "      <th>participants_category_100-999</th>\n",
       "      <th>participants_category_1000-1999</th>\n",
       "      <th>participants_category_2000-4999</th>\n",
       "      <th>participants_category_50-99</th>\n",
       "      <th>participants_category_5000-10000</th>\n",
       "      <th>protesterviolence</th>\n",
       "      <th>demand_political_behavior_process</th>\n",
       "      <th>demand_labor_wage_dispute</th>\n",
       "      <th>demand_police_brutality</th>\n",
       "      <th>demand_social_restrictions</th>\n",
       "      <th>demand_land_farm_issue</th>\n",
       "      <th>demand_politician_removal</th>\n",
       "      <th>demand_price_inc_tax_policy</th>\n",
       "      <th>response_category_2</th>\n",
       "      <th>response_category_3</th>\n",
       "      <th>participants_category_&gt;10000</th>\n",
       "    </tr>\n",
       "  </thead>\n",
       "  <tbody>\n",
       "    <tr>\n",
       "      <th>0</th>\n",
       "      <td>2015</td>\n",
       "      <td>0</td>\n",
       "      <td>0</td>\n",
       "      <td>0</td>\n",
       "      <td>0</td>\n",
       "      <td>0</td>\n",
       "      <td>1</td>\n",
       "      <td>0</td>\n",
       "      <td>0</td>\n",
       "      <td>0</td>\n",
       "      <td>0</td>\n",
       "      <td>0</td>\n",
       "      <td>1</td>\n",
       "      <td>0</td>\n",
       "      <td>0</td>\n",
       "      <td>1</td>\n",
       "      <td>0</td>\n",
       "      <td>0</td>\n",
       "      <td>0</td>\n",
       "      <td>0</td>\n",
       "      <td>0</td>\n",
       "      <td>0</td>\n",
       "      <td>0</td>\n",
       "      <td>0</td>\n",
       "      <td>0</td>\n",
       "    </tr>\n",
       "    <tr>\n",
       "      <th>1</th>\n",
       "      <td>2016</td>\n",
       "      <td>0</td>\n",
       "      <td>0</td>\n",
       "      <td>0</td>\n",
       "      <td>0</td>\n",
       "      <td>0</td>\n",
       "      <td>1</td>\n",
       "      <td>0</td>\n",
       "      <td>0</td>\n",
       "      <td>1</td>\n",
       "      <td>0</td>\n",
       "      <td>0</td>\n",
       "      <td>0</td>\n",
       "      <td>0</td>\n",
       "      <td>0</td>\n",
       "      <td>0</td>\n",
       "      <td>1</td>\n",
       "      <td>0</td>\n",
       "      <td>0</td>\n",
       "      <td>0</td>\n",
       "      <td>0</td>\n",
       "      <td>0</td>\n",
       "      <td>0</td>\n",
       "      <td>0</td>\n",
       "      <td>0</td>\n",
       "    </tr>\n",
       "    <tr>\n",
       "      <th>2</th>\n",
       "      <td>2016</td>\n",
       "      <td>0</td>\n",
       "      <td>0</td>\n",
       "      <td>0</td>\n",
       "      <td>0</td>\n",
       "      <td>0</td>\n",
       "      <td>1</td>\n",
       "      <td>0</td>\n",
       "      <td>0</td>\n",
       "      <td>1</td>\n",
       "      <td>0</td>\n",
       "      <td>0</td>\n",
       "      <td>0</td>\n",
       "      <td>0</td>\n",
       "      <td>0</td>\n",
       "      <td>0</td>\n",
       "      <td>1</td>\n",
       "      <td>0</td>\n",
       "      <td>0</td>\n",
       "      <td>0</td>\n",
       "      <td>0</td>\n",
       "      <td>0</td>\n",
       "      <td>0</td>\n",
       "      <td>0</td>\n",
       "      <td>0</td>\n",
       "    </tr>\n",
       "  </tbody>\n",
       "</table>\n",
       "</div>"
      ],
      "text/plain": [
       "   year  region_Africa  region_Asia  region_Central America  region_Europe  \\\n",
       "0  2015              0            0                       0              0   \n",
       "1  2016              0            0                       0              0   \n",
       "2  2016              0            0                       0              0   \n",
       "\n",
       "   region_MENA  region_North America  region_Oceania  region_South America  \\\n",
       "0            0                     1               0                     0   \n",
       "1            0                     1               0                     0   \n",
       "2            0                     1               0                     0   \n",
       "\n",
       "   participants_category_100-999  participants_category_1000-1999  \\\n",
       "0                              0                                0   \n",
       "1                              1                                0   \n",
       "2                              1                                0   \n",
       "\n",
       "   participants_category_2000-4999  participants_category_50-99  \\\n",
       "0                                0                            1   \n",
       "1                                0                            0   \n",
       "2                                0                            0   \n",
       "\n",
       "   participants_category_5000-10000  protesterviolence  \\\n",
       "0                                 0                  0   \n",
       "1                                 0                  0   \n",
       "2                                 0                  0   \n",
       "\n",
       "   demand_political_behavior_process  demand_labor_wage_dispute  \\\n",
       "0                                  1                          0   \n",
       "1                                  0                          1   \n",
       "2                                  0                          1   \n",
       "\n",
       "   demand_police_brutality  demand_social_restrictions  \\\n",
       "0                        0                           0   \n",
       "1                        0                           0   \n",
       "2                        0                           0   \n",
       "\n",
       "   demand_land_farm_issue  demand_politician_removal  \\\n",
       "0                       0                          0   \n",
       "1                       0                          0   \n",
       "2                       0                          0   \n",
       "\n",
       "   demand_price_inc_tax_policy  response_category_2  response_category_3  \\\n",
       "0                            0                    0                    0   \n",
       "1                            0                    0                    0   \n",
       "2                            0                    0                    0   \n",
       "\n",
       "   participants_category_>10000  \n",
       "0                             0  \n",
       "1                             0  \n",
       "2                             0  "
      ]
     },
     "execution_count": 57,
     "metadata": {},
     "output_type": "execute_result"
    }
   ],
   "source": [
    "protests_ohe_wo_year.head(3)"
   ]
  },
  {
   "cell_type": "code",
   "execution_count": 58,
   "id": "6cf313a8-73d7-4c3a-9ebc-8415fd9df374",
   "metadata": {},
   "outputs": [],
   "source": [
    "# Writing protests_ohe (without year column) dataframe to a CSV\n",
    "\n",
    "# protests_ohe_wo_year.to_csv('../data/protests_ohe_wo_year.csv', index=False)"
   ]
  },
  {
   "cell_type": "markdown",
   "id": "e85e5071-b058-4287-ad2a-78326eb3d5bb",
   "metadata": {},
   "source": [
    "### X, y & train-test split"
   ]
  },
  {
   "cell_type": "code",
   "execution_count": 61,
   "id": "d34a6a79-30c8-4fd3-b96e-b9b4e6b475fb",
   "metadata": {},
   "outputs": [],
   "source": [
    "X2 = protests_ohe_wo_year.drop(columns=['response_category_2','response_category_3'])\n",
    "y2 = protests_ohe_wo_year['response_category_2']"
   ]
  },
  {
   "cell_type": "code",
   "execution_count": 62,
   "id": "4f5207f6-6d90-426e-ad61-1375f7084257",
   "metadata": {},
   "outputs": [],
   "source": [
    "# Train/test split\n",
    "\n",
    "X2_train, X2_test, y2_train, y2_test = train_test_split(X2, y2, test_size=0.2, random_state=42, stratify=y2)"
   ]
  },
  {
   "cell_type": "markdown",
   "id": "4177d3c2-0287-449b-b3c4-12651b6a9ed0",
   "metadata": {},
   "source": [
    "### Imbalanced Data Techniques"
   ]
  },
  {
   "cell_type": "markdown",
   "id": "32d2ed86-bb06-4db3-a377-5533ea1a3c97",
   "metadata": {},
   "source": [
    "#### Original, Imbalanced Data"
   ]
  },
  {
   "cell_type": "code",
   "execution_count": 64,
   "id": "f339ac9e-23ce-4f5f-b0f6-3df42d33c4b0",
   "metadata": {},
   "outputs": [
    {
     "data": {
      "text/plain": [
       "0    0.772166\n",
       "1    0.227834\n",
       "Name: response_category_2, dtype: float64"
      ]
     },
     "execution_count": 64,
     "metadata": {},
     "output_type": "execute_result"
    }
   ],
   "source": [
    "# Checking the training set balance\n",
    "\n",
    "y2_train.value_counts(normalize=True)"
   ]
  },
  {
   "cell_type": "code",
   "execution_count": 65,
   "id": "5db252d0-f6a9-4bd2-b9e2-41f1fca0181e",
   "metadata": {},
   "outputs": [],
   "source": [
    "imbal2_model_results = test_models_2(models2,\n",
    "                                     X2_train, y2_train,\n",
    "                                     X2_test, y2_test,\n",
    "                                     verbose=False)"
   ]
  },
  {
   "cell_type": "markdown",
   "id": "6cd18bf9-688f-4564-b094-657c6f28106f",
   "metadata": {},
   "source": [
    "#### #1. Oversampled"
   ]
  },
  {
   "cell_type": "code",
   "execution_count": 66,
   "id": "e3672fab-89e9-4218-a124-64b03896adb1",
   "metadata": {},
   "outputs": [],
   "source": [
    "ros2 = RandomOverSampler()\n",
    "\n",
    "X2_train_over, y2_train_over = ros2.fit_resample(X2_train, y2_train)"
   ]
  },
  {
   "cell_type": "code",
   "execution_count": 67,
   "id": "8bfbf16d-2dc8-4b82-8610-e95d263a7571",
   "metadata": {},
   "outputs": [
    {
     "data": {
      "text/plain": [
       "0    0.5\n",
       "1    0.5\n",
       "Name: response_category_2, dtype: float64"
      ]
     },
     "execution_count": 67,
     "metadata": {},
     "output_type": "execute_result"
    }
   ],
   "source": [
    "# Checking the training set balance\n",
    "\n",
    "y2_train_over.value_counts(normalize=True)"
   ]
  },
  {
   "cell_type": "code",
   "execution_count": 68,
   "id": "11b8f474-3529-4e8a-aea7-61f1bc71742f",
   "metadata": {},
   "outputs": [],
   "source": [
    "oversampled2_model_results = test_models_2(models2,\n",
    "                                           X2_train_over, y2_train_over,\n",
    "                                           X2_test, y2_test,\n",
    "                                           verbose=False)"
   ]
  },
  {
   "cell_type": "markdown",
   "id": "32b1168e-eb9a-4b9b-bb7a-4d1535398b9a",
   "metadata": {},
   "source": [
    "#### #2. Undersampled (Near Miss)"
   ]
  },
  {
   "cell_type": "code",
   "execution_count": 69,
   "id": "ef18ae5f-7745-458a-8738-4a8f62e7c8c1",
   "metadata": {},
   "outputs": [],
   "source": [
    "nr2 = NearMiss() \n",
    "\n",
    "X2_train_near, y2_train_near= nr2.fit_sample(X2_train, y2_train) "
   ]
  },
  {
   "cell_type": "code",
   "execution_count": 70,
   "id": "c8280994-eb0d-4b01-9e18-8c3c1cf7a379",
   "metadata": {},
   "outputs": [
    {
     "data": {
      "text/plain": [
       "0    0.5\n",
       "1    0.5\n",
       "Name: response_category_2, dtype: float64"
      ]
     },
     "execution_count": 70,
     "metadata": {},
     "output_type": "execute_result"
    }
   ],
   "source": [
    "y2_train_near.value_counts(normalize=True)"
   ]
  },
  {
   "cell_type": "code",
   "execution_count": 71,
   "id": "9e8a6b13-7f90-4926-bf0d-f2965fcefb40",
   "metadata": {},
   "outputs": [],
   "source": [
    "undersampled2_model_results = test_models_2(models2,\n",
    "                                            X2_train_near, y2_train_near,\n",
    "                                            X2_test, y2_test,\n",
    "                                            verbose=False)"
   ]
  },
  {
   "cell_type": "markdown",
   "id": "07c86171-b944-4947-aefe-bffd90c1c172",
   "metadata": {},
   "source": [
    "#### #3. Weighted Models"
   ]
  },
  {
   "cell_type": "code",
   "execution_count": 72,
   "id": "8ba5181f-7394-4310-8614-6cb1daf5b65c",
   "metadata": {},
   "outputs": [
    {
     "data": {
      "text/plain": [
       "0    0.772166\n",
       "1    0.227834\n",
       "Name: response_category_2, dtype: float64"
      ]
     },
     "execution_count": 72,
     "metadata": {},
     "output_type": "execute_result"
    }
   ],
   "source": [
    "# Checking the training set balance\n",
    "\n",
    "y2_train.value_counts(normalize=True)"
   ]
  },
  {
   "cell_type": "code",
   "execution_count": 73,
   "id": "2cd9e9b8-88da-4f35-a38a-cf4727eacafa",
   "metadata": {},
   "outputs": [],
   "source": [
    "weighted2_model_results = test_models_2(models2_weighted,\n",
    "                                        X2_train, y2_train,\n",
    "                                        X2_test, y2_test,\n",
    "                                        verbose=False)"
   ]
  },
  {
   "cell_type": "markdown",
   "id": "d3bfc063-a835-4868-9fac-10c00f624b57",
   "metadata": {},
   "source": [
    "### **RESULTS**"
   ]
  },
  {
   "cell_type": "code",
   "execution_count": 74,
   "id": "b33d83d6-4700-46ea-9c52-1de6094cbd4b",
   "metadata": {},
   "outputs": [
    {
     "data": {
      "text/html": [
       "<div>\n",
       "<style scoped>\n",
       "    .dataframe tbody tr th:only-of-type {\n",
       "        vertical-align: middle;\n",
       "    }\n",
       "\n",
       "    .dataframe tbody tr th {\n",
       "        vertical-align: top;\n",
       "    }\n",
       "\n",
       "    .dataframe thead th {\n",
       "        text-align: right;\n",
       "    }\n",
       "</style>\n",
       "<table border=\"1\" class=\"dataframe\">\n",
       "  <thead>\n",
       "    <tr style=\"text-align: right;\">\n",
       "      <th></th>\n",
       "      <th>train_accuracy</th>\n",
       "      <th>test_accuracy</th>\n",
       "      <th>variance</th>\n",
       "      <th>test_precision</th>\n",
       "      <th>test_f1</th>\n",
       "    </tr>\n",
       "  </thead>\n",
       "  <tbody>\n",
       "    <tr>\n",
       "      <th>XGBoost</th>\n",
       "      <td>0.853594</td>\n",
       "      <td>0.793092</td>\n",
       "      <td>0.060502</td>\n",
       "      <td>0.572082</td>\n",
       "      <td>0.442870</td>\n",
       "    </tr>\n",
       "    <tr>\n",
       "      <th>Logistic Regression</th>\n",
       "      <td>0.790179</td>\n",
       "      <td>0.780921</td>\n",
       "      <td>0.009258</td>\n",
       "      <td>0.527083</td>\n",
       "      <td>0.431741</td>\n",
       "    </tr>\n",
       "    <tr>\n",
       "      <th>Bernoulli Naive Bayes</th>\n",
       "      <td>0.784751</td>\n",
       "      <td>0.780921</td>\n",
       "      <td>0.003830</td>\n",
       "      <td>0.523636</td>\n",
       "      <td>0.463768</td>\n",
       "    </tr>\n",
       "    <tr>\n",
       "      <th>Multinomial Naive Bayes</th>\n",
       "      <td>0.785985</td>\n",
       "      <td>0.778947</td>\n",
       "      <td>0.007037</td>\n",
       "      <td>0.537594</td>\n",
       "      <td>0.298539</td>\n",
       "    </tr>\n",
       "    <tr>\n",
       "      <th>Most Frequent</th>\n",
       "      <td>0.772166</td>\n",
       "      <td>0.772368</td>\n",
       "      <td>-0.000202</td>\n",
       "      <td>0.000000</td>\n",
       "      <td>0.000000</td>\n",
       "    </tr>\n",
       "    <tr>\n",
       "      <th>Support Vector Classifier</th>\n",
       "      <td>0.772166</td>\n",
       "      <td>0.772368</td>\n",
       "      <td>-0.000202</td>\n",
       "      <td>0.000000</td>\n",
       "      <td>0.000000</td>\n",
       "    </tr>\n",
       "    <tr>\n",
       "      <th>Nearest Neighbors</th>\n",
       "      <td>0.833114</td>\n",
       "      <td>0.770395</td>\n",
       "      <td>0.062719</td>\n",
       "      <td>0.493088</td>\n",
       "      <td>0.380107</td>\n",
       "    </tr>\n",
       "    <tr>\n",
       "      <th>Random Forest</th>\n",
       "      <td>0.893404</td>\n",
       "      <td>0.770066</td>\n",
       "      <td>0.123338</td>\n",
       "      <td>0.493578</td>\n",
       "      <td>0.434923</td>\n",
       "    </tr>\n",
       "  </tbody>\n",
       "</table>\n",
       "</div>"
      ],
      "text/plain": [
       "                           train_accuracy  test_accuracy  variance  \\\n",
       "XGBoost                          0.853594       0.793092  0.060502   \n",
       "Logistic Regression              0.790179       0.780921  0.009258   \n",
       "Bernoulli Naive Bayes            0.784751       0.780921  0.003830   \n",
       "Multinomial Naive Bayes          0.785985       0.778947  0.007037   \n",
       "Most Frequent                    0.772166       0.772368 -0.000202   \n",
       "Support Vector Classifier        0.772166       0.772368 -0.000202   \n",
       "Nearest Neighbors                0.833114       0.770395  0.062719   \n",
       "Random Forest                    0.893404       0.770066  0.123338   \n",
       "\n",
       "                           test_precision   test_f1  \n",
       "XGBoost                          0.572082  0.442870  \n",
       "Logistic Regression              0.527083  0.431741  \n",
       "Bernoulli Naive Bayes            0.523636  0.463768  \n",
       "Multinomial Naive Bayes          0.537594  0.298539  \n",
       "Most Frequent                    0.000000  0.000000  \n",
       "Support Vector Classifier        0.000000  0.000000  \n",
       "Nearest Neighbors                0.493088  0.380107  \n",
       "Random Forest                    0.493578  0.434923  "
      ]
     },
     "execution_count": 74,
     "metadata": {},
     "output_type": "execute_result"
    }
   ],
   "source": [
    "imbal2_model_results.sort_values(by='test_accuracy', ascending=False)"
   ]
  },
  {
   "cell_type": "code",
   "execution_count": 75,
   "id": "80003357-b82f-4bdb-bbb2-82b953d424ec",
   "metadata": {},
   "outputs": [
    {
     "data": {
      "text/html": [
       "<div>\n",
       "<style scoped>\n",
       "    .dataframe tbody tr th:only-of-type {\n",
       "        vertical-align: middle;\n",
       "    }\n",
       "\n",
       "    .dataframe tbody tr th {\n",
       "        vertical-align: top;\n",
       "    }\n",
       "\n",
       "    .dataframe thead th {\n",
       "        text-align: right;\n",
       "    }\n",
       "</style>\n",
       "<table border=\"1\" class=\"dataframe\">\n",
       "  <thead>\n",
       "    <tr style=\"text-align: right;\">\n",
       "      <th></th>\n",
       "      <th>train_accuracy</th>\n",
       "      <th>test_accuracy</th>\n",
       "      <th>variance</th>\n",
       "      <th>test_precision</th>\n",
       "      <th>test_f1</th>\n",
       "    </tr>\n",
       "  </thead>\n",
       "  <tbody>\n",
       "    <tr>\n",
       "      <th>Most Frequent</th>\n",
       "      <td>0.500000</td>\n",
       "      <td>0.772368</td>\n",
       "      <td>-0.272368</td>\n",
       "      <td>0.000000</td>\n",
       "      <td>0.000000</td>\n",
       "    </tr>\n",
       "    <tr>\n",
       "      <th>Logistic Regression</th>\n",
       "      <td>0.714795</td>\n",
       "      <td>0.750658</td>\n",
       "      <td>-0.035862</td>\n",
       "      <td>0.464968</td>\n",
       "      <td>0.536108</td>\n",
       "    </tr>\n",
       "    <tr>\n",
       "      <th>XGBoost</th>\n",
       "      <td>0.811035</td>\n",
       "      <td>0.745066</td>\n",
       "      <td>0.065970</td>\n",
       "      <td>0.456453</td>\n",
       "      <td>0.528875</td>\n",
       "    </tr>\n",
       "    <tr>\n",
       "      <th>Bernoulli Naive Bayes</th>\n",
       "      <td>0.709949</td>\n",
       "      <td>0.732566</td>\n",
       "      <td>-0.022617</td>\n",
       "      <td>0.439921</td>\n",
       "      <td>0.521483</td>\n",
       "    </tr>\n",
       "    <tr>\n",
       "      <th>Random Forest</th>\n",
       "      <td>0.870366</td>\n",
       "      <td>0.717763</td>\n",
       "      <td>0.152603</td>\n",
       "      <td>0.412262</td>\n",
       "      <td>0.476190</td>\n",
       "    </tr>\n",
       "    <tr>\n",
       "      <th>Multinomial Naive Bayes</th>\n",
       "      <td>0.693545</td>\n",
       "      <td>0.696053</td>\n",
       "      <td>-0.002508</td>\n",
       "      <td>0.399130</td>\n",
       "      <td>0.498371</td>\n",
       "    </tr>\n",
       "    <tr>\n",
       "      <th>Nearest Neighbors</th>\n",
       "      <td>0.817799</td>\n",
       "      <td>0.683882</td>\n",
       "      <td>0.133918</td>\n",
       "      <td>0.379155</td>\n",
       "      <td>0.467590</td>\n",
       "    </tr>\n",
       "    <tr>\n",
       "      <th>Support Vector Classifier</th>\n",
       "      <td>0.523008</td>\n",
       "      <td>0.550987</td>\n",
       "      <td>-0.027979</td>\n",
       "      <td>0.238539</td>\n",
       "      <td>0.310258</td>\n",
       "    </tr>\n",
       "  </tbody>\n",
       "</table>\n",
       "</div>"
      ],
      "text/plain": [
       "                           train_accuracy  test_accuracy  variance  \\\n",
       "Most Frequent                    0.500000       0.772368 -0.272368   \n",
       "Logistic Regression              0.714795       0.750658 -0.035862   \n",
       "XGBoost                          0.811035       0.745066  0.065970   \n",
       "Bernoulli Naive Bayes            0.709949       0.732566 -0.022617   \n",
       "Random Forest                    0.870366       0.717763  0.152603   \n",
       "Multinomial Naive Bayes          0.693545       0.696053 -0.002508   \n",
       "Nearest Neighbors                0.817799       0.683882  0.133918   \n",
       "Support Vector Classifier        0.523008       0.550987 -0.027979   \n",
       "\n",
       "                           test_precision   test_f1  \n",
       "Most Frequent                    0.000000  0.000000  \n",
       "Logistic Regression              0.464968  0.536108  \n",
       "XGBoost                          0.456453  0.528875  \n",
       "Bernoulli Naive Bayes            0.439921  0.521483  \n",
       "Random Forest                    0.412262  0.476190  \n",
       "Multinomial Naive Bayes          0.399130  0.498371  \n",
       "Nearest Neighbors                0.379155  0.467590  \n",
       "Support Vector Classifier        0.238539  0.310258  "
      ]
     },
     "execution_count": 75,
     "metadata": {},
     "output_type": "execute_result"
    }
   ],
   "source": [
    "oversampled2_model_results.sort_values(by='test_accuracy', ascending=False)"
   ]
  },
  {
   "cell_type": "code",
   "execution_count": 76,
   "id": "45a44aa8-f232-436b-a074-d3e61f3706b8",
   "metadata": {},
   "outputs": [
    {
     "data": {
      "text/html": [
       "<div>\n",
       "<style scoped>\n",
       "    .dataframe tbody tr th:only-of-type {\n",
       "        vertical-align: middle;\n",
       "    }\n",
       "\n",
       "    .dataframe tbody tr th {\n",
       "        vertical-align: top;\n",
       "    }\n",
       "\n",
       "    .dataframe thead th {\n",
       "        text-align: right;\n",
       "    }\n",
       "</style>\n",
       "<table border=\"1\" class=\"dataframe\">\n",
       "  <thead>\n",
       "    <tr style=\"text-align: right;\">\n",
       "      <th></th>\n",
       "      <th>train_accuracy</th>\n",
       "      <th>test_accuracy</th>\n",
       "      <th>variance</th>\n",
       "      <th>test_precision</th>\n",
       "      <th>test_f1</th>\n",
       "    </tr>\n",
       "  </thead>\n",
       "  <tbody>\n",
       "    <tr>\n",
       "      <th>Most Frequent</th>\n",
       "      <td>0.500000</td>\n",
       "      <td>0.772368</td>\n",
       "      <td>-0.272368</td>\n",
       "      <td>0.000000</td>\n",
       "      <td>0.000000</td>\n",
       "    </tr>\n",
       "    <tr>\n",
       "      <th>Nearest Neighbors</th>\n",
       "      <td>0.753249</td>\n",
       "      <td>0.584211</td>\n",
       "      <td>0.169039</td>\n",
       "      <td>0.293651</td>\n",
       "      <td>0.391723</td>\n",
       "    </tr>\n",
       "    <tr>\n",
       "      <th>Support Vector Classifier</th>\n",
       "      <td>0.542238</td>\n",
       "      <td>0.549013</td>\n",
       "      <td>-0.006775</td>\n",
       "      <td>0.237026</td>\n",
       "      <td>0.308623</td>\n",
       "    </tr>\n",
       "    <tr>\n",
       "      <th>Logistic Regression</th>\n",
       "      <td>0.729603</td>\n",
       "      <td>0.536184</td>\n",
       "      <td>0.193419</td>\n",
       "      <td>0.292245</td>\n",
       "      <td>0.417355</td>\n",
       "    </tr>\n",
       "    <tr>\n",
       "      <th>Bernoulli Naive Bayes</th>\n",
       "      <td>0.727256</td>\n",
       "      <td>0.521053</td>\n",
       "      <td>0.206204</td>\n",
       "      <td>0.274232</td>\n",
       "      <td>0.389262</td>\n",
       "    </tr>\n",
       "    <tr>\n",
       "      <th>Multinomial Naive Bayes</th>\n",
       "      <td>0.721480</td>\n",
       "      <td>0.498026</td>\n",
       "      <td>0.223454</td>\n",
       "      <td>0.256709</td>\n",
       "      <td>0.365752</td>\n",
       "    </tr>\n",
       "    <tr>\n",
       "      <th>XGBoost</th>\n",
       "      <td>0.794043</td>\n",
       "      <td>0.456579</td>\n",
       "      <td>0.337464</td>\n",
       "      <td>0.252066</td>\n",
       "      <td>0.371385</td>\n",
       "    </tr>\n",
       "    <tr>\n",
       "      <th>Random Forest</th>\n",
       "      <td>0.806679</td>\n",
       "      <td>0.424671</td>\n",
       "      <td>0.382008</td>\n",
       "      <td>0.238237</td>\n",
       "      <td>0.354851</td>\n",
       "    </tr>\n",
       "  </tbody>\n",
       "</table>\n",
       "</div>"
      ],
      "text/plain": [
       "                           train_accuracy  test_accuracy  variance  \\\n",
       "Most Frequent                    0.500000       0.772368 -0.272368   \n",
       "Nearest Neighbors                0.753249       0.584211  0.169039   \n",
       "Support Vector Classifier        0.542238       0.549013 -0.006775   \n",
       "Logistic Regression              0.729603       0.536184  0.193419   \n",
       "Bernoulli Naive Bayes            0.727256       0.521053  0.206204   \n",
       "Multinomial Naive Bayes          0.721480       0.498026  0.223454   \n",
       "XGBoost                          0.794043       0.456579  0.337464   \n",
       "Random Forest                    0.806679       0.424671  0.382008   \n",
       "\n",
       "                           test_precision   test_f1  \n",
       "Most Frequent                    0.000000  0.000000  \n",
       "Nearest Neighbors                0.293651  0.391723  \n",
       "Support Vector Classifier        0.237026  0.308623  \n",
       "Logistic Regression              0.292245  0.417355  \n",
       "Bernoulli Naive Bayes            0.274232  0.389262  \n",
       "Multinomial Naive Bayes          0.256709  0.365752  \n",
       "XGBoost                          0.252066  0.371385  \n",
       "Random Forest                    0.238237  0.354851  "
      ]
     },
     "execution_count": 76,
     "metadata": {},
     "output_type": "execute_result"
    }
   ],
   "source": [
    "undersampled2_model_results.sort_values(by='test_accuracy', ascending=False)"
   ]
  },
  {
   "cell_type": "code",
   "execution_count": 77,
   "id": "1b34065c-9bb3-4692-bc68-04b3828f8520",
   "metadata": {
    "tags": []
   },
   "outputs": [
    {
     "data": {
      "text/html": [
       "<div>\n",
       "<style scoped>\n",
       "    .dataframe tbody tr th:only-of-type {\n",
       "        vertical-align: middle;\n",
       "    }\n",
       "\n",
       "    .dataframe tbody tr th {\n",
       "        vertical-align: top;\n",
       "    }\n",
       "\n",
       "    .dataframe thead th {\n",
       "        text-align: right;\n",
       "    }\n",
       "</style>\n",
       "<table border=\"1\" class=\"dataframe\">\n",
       "  <thead>\n",
       "    <tr style=\"text-align: right;\">\n",
       "      <th></th>\n",
       "      <th>train_accuracy</th>\n",
       "      <th>test_accuracy</th>\n",
       "      <th>variance</th>\n",
       "      <th>test_precision</th>\n",
       "      <th>test_f1</th>\n",
       "    </tr>\n",
       "  </thead>\n",
       "  <tbody>\n",
       "    <tr>\n",
       "      <th>Support Vector Classifier</th>\n",
       "      <td>0.772166</td>\n",
       "      <td>0.772368</td>\n",
       "      <td>-0.000202</td>\n",
       "      <td>0.000000</td>\n",
       "      <td>0.000000</td>\n",
       "    </tr>\n",
       "    <tr>\n",
       "      <th>Nearest Neighbors</th>\n",
       "      <td>0.890689</td>\n",
       "      <td>0.767434</td>\n",
       "      <td>0.123255</td>\n",
       "      <td>0.483871</td>\n",
       "      <td>0.388937</td>\n",
       "    </tr>\n",
       "    <tr>\n",
       "      <th>Logistic Regression</th>\n",
       "      <td>0.770933</td>\n",
       "      <td>0.765132</td>\n",
       "      <td>0.005801</td>\n",
       "      <td>0.487059</td>\n",
       "      <td>0.536965</td>\n",
       "    </tr>\n",
       "    <tr>\n",
       "      <th>XGBoost</th>\n",
       "      <td>0.814608</td>\n",
       "      <td>0.753947</td>\n",
       "      <td>0.060660</td>\n",
       "      <td>0.470149</td>\n",
       "      <td>0.541104</td>\n",
       "    </tr>\n",
       "    <tr>\n",
       "      <th>Random Forest</th>\n",
       "      <td>0.868893</td>\n",
       "      <td>0.750000</td>\n",
       "      <td>0.118893</td>\n",
       "      <td>0.456743</td>\n",
       "      <td>0.485792</td>\n",
       "    </tr>\n",
       "  </tbody>\n",
       "</table>\n",
       "</div>"
      ],
      "text/plain": [
       "                           train_accuracy  test_accuracy  variance  \\\n",
       "Support Vector Classifier        0.772166       0.772368 -0.000202   \n",
       "Nearest Neighbors                0.890689       0.767434  0.123255   \n",
       "Logistic Regression              0.770933       0.765132  0.005801   \n",
       "XGBoost                          0.814608       0.753947  0.060660   \n",
       "Random Forest                    0.868893       0.750000  0.118893   \n",
       "\n",
       "                           test_precision   test_f1  \n",
       "Support Vector Classifier        0.000000  0.000000  \n",
       "Nearest Neighbors                0.483871  0.388937  \n",
       "Logistic Regression              0.487059  0.536965  \n",
       "XGBoost                          0.470149  0.541104  \n",
       "Random Forest                    0.456743  0.485792  "
      ]
     },
     "execution_count": 77,
     "metadata": {},
     "output_type": "execute_result"
    }
   ],
   "source": [
    "weighted2_model_results.sort_values(by='test_accuracy', ascending=False)"
   ]
  },
  {
   "cell_type": "markdown",
   "id": "74200c2a-5249-43a6-b2e0-1a88e91ea540",
   "metadata": {},
   "source": [
    "### **SUMMARY**"
   ]
  },
  {
   "cell_type": "markdown",
   "id": "ca807f9e-d9f1-4701-8737-0ac55c874f13",
   "metadata": {},
   "source": [
    "The **weighted models** performed best yet again, but still not great. The oversampled models performed similarly, and actually did better with the degree of variance to the point where multiple models' test accuracy beat the train accuracy. But the weighted models still achieved the highest test accuracy and precision scores. The undersampled models again performed substantially worse than the both the weighted and oversampled models, with all around lower scores and a higher degree of variance. Of the weighted models, it was **XGBoost**, **Support Vector Classifier**, and **Logistic Regression** that performed the best. The test accuracy was in the mid-high 70's, variance was -0.0002 and 0.06, and test precision was in the mid-high 40's."
   ]
  },
  {
   "cell_type": "markdown",
   "id": "edad8b1f-6cba-40d2-8d91-d63cb0430aba",
   "metadata": {},
   "source": [
    "____________\n",
    "## **#4. Modeling 3 classes (NO YEAR data)**"
   ]
  },
  {
   "cell_type": "markdown",
   "id": "6280d01b-8038-40a4-97c2-f9b4a6f030e5",
   "metadata": {},
   "source": [
    "### X, y & train-test split"
   ]
  },
  {
   "cell_type": "code",
   "execution_count": 79,
   "id": "dcb5e2bd-768c-4f23-b8c7-36fa1e0a8785",
   "metadata": {},
   "outputs": [],
   "source": [
    "X3 = protests_ohe_wo_year.drop(columns=['response_category_2','response_category_3'])\n",
    "y3 = protests_ohe_wo_year['response_category_3']"
   ]
  },
  {
   "cell_type": "code",
   "execution_count": 80,
   "id": "a88e0c09-a08a-4aa1-86f2-4b575155b52e",
   "metadata": {},
   "outputs": [],
   "source": [
    "# Train/test split\n",
    "\n",
    "X3_train, X3_test, y3_train, y3_test = train_test_split(X3, y3, test_size=0.2, random_state=42, stratify=y3)"
   ]
  },
  {
   "cell_type": "markdown",
   "id": "58448cae-d41e-4193-b150-c60f3760c038",
   "metadata": {},
   "source": [
    "### Imbalanced Data Techniques"
   ]
  },
  {
   "cell_type": "markdown",
   "id": "3ae5a76b-9fdc-40fa-9552-59185faa3ab2",
   "metadata": {},
   "source": [
    "#### Original, Imbalanced Data"
   ]
  },
  {
   "cell_type": "code",
   "execution_count": 84,
   "id": "b8054e47-e1af-4dcf-9445-cc47f2ee82e6",
   "metadata": {},
   "outputs": [
    {
     "data": {
      "text/plain": [
       "0    0.525333\n",
       "1    0.246833\n",
       "2    0.227834\n",
       "Name: response_category_3, dtype: float64"
      ]
     },
     "execution_count": 84,
     "metadata": {},
     "output_type": "execute_result"
    }
   ],
   "source": [
    "# Checking the training set balance\n",
    "\n",
    "y3_train.value_counts(normalize=True)"
   ]
  },
  {
   "cell_type": "code",
   "execution_count": 95,
   "id": "fe6648e0-7378-48a5-a1e3-38d9c555090a",
   "metadata": {},
   "outputs": [],
   "source": [
    "imbal3_model_results = test_models_3(models2,\n",
    "                                     X2_train, y2_train,\n",
    "                                     X2_test, y2_test,\n",
    "                                     verbose=False)"
   ]
  },
  {
   "cell_type": "markdown",
   "id": "381b4852-7813-4c62-9f9d-5eb4b488e1ff",
   "metadata": {},
   "source": [
    "#### #1. Oversampled"
   ]
  },
  {
   "cell_type": "code",
   "execution_count": 86,
   "id": "03d436fb-bdba-4987-8089-b93076c79cd0",
   "metadata": {},
   "outputs": [],
   "source": [
    "ros3 = RandomOverSampler()\n",
    "\n",
    "X3_train_over, y3_train_over = ros3.fit_resample(X3_train, y3_train)"
   ]
  },
  {
   "cell_type": "code",
   "execution_count": 87,
   "id": "4814c417-5c68-4d3c-9867-8e9046db8370",
   "metadata": {},
   "outputs": [
    {
     "data": {
      "text/plain": [
       "1    0.333333\n",
       "0    0.333333\n",
       "2    0.333333\n",
       "Name: response_category_3, dtype: float64"
      ]
     },
     "execution_count": 87,
     "metadata": {},
     "output_type": "execute_result"
    }
   ],
   "source": [
    "# Checking the training set balance\n",
    "\n",
    "y3_train_over.value_counts(normalize=True)"
   ]
  },
  {
   "cell_type": "code",
   "execution_count": 88,
   "id": "d291dcba-5a16-4417-ac20-d591652daf43",
   "metadata": {},
   "outputs": [],
   "source": [
    "oversampled3_model_results = test_models_3(models3,\n",
    "                                           X3_train_over, y3_train_over,\n",
    "                                           X3_test, y3_test,\n",
    "                                           verbose=False)"
   ]
  },
  {
   "cell_type": "markdown",
   "id": "df8374ae-5105-4a7a-a5f8-b41ffc9361ae",
   "metadata": {},
   "source": [
    "#### #2. Undersampled (Near Miss)"
   ]
  },
  {
   "cell_type": "code",
   "execution_count": 89,
   "id": "88ca077b-5d36-4786-9920-bb706b6f27c8",
   "metadata": {},
   "outputs": [],
   "source": [
    "nr3 = NearMiss() \n",
    "\n",
    "X3_train_near, y3_train_near= nr3.fit_sample(X3_train, y3_train) "
   ]
  },
  {
   "cell_type": "code",
   "execution_count": 90,
   "id": "1f86a3f4-aaa3-4042-a1e3-5c46163fa798",
   "metadata": {},
   "outputs": [
    {
     "data": {
      "text/plain": [
       "0    0.333333\n",
       "1    0.333333\n",
       "2    0.333333\n",
       "Name: response_category_3, dtype: float64"
      ]
     },
     "execution_count": 90,
     "metadata": {},
     "output_type": "execute_result"
    }
   ],
   "source": [
    "# Checking the training set balance\n",
    "\n",
    "y3_train_near.value_counts(normalize=True)"
   ]
  },
  {
   "cell_type": "code",
   "execution_count": 91,
   "id": "132d8c14-66bd-4bfb-84b2-16a98c2d8b2f",
   "metadata": {},
   "outputs": [],
   "source": [
    "undersampled3_model_results = test_models_3(models3,\n",
    "                                            X3_train_near, y3_train_near,\n",
    "                                            X3_test, y3_test,\n",
    "                                            verbose=False)"
   ]
  },
  {
   "cell_type": "markdown",
   "id": "28e235e3-ee14-4c8e-b0d1-f3f58eb37490",
   "metadata": {},
   "source": [
    "#### #3. Weighted Models"
   ]
  },
  {
   "cell_type": "code",
   "execution_count": 92,
   "id": "8c26fe3c-418b-4eec-b08d-48c7a3009a39",
   "metadata": {},
   "outputs": [
    {
     "data": {
      "text/plain": [
       "0    0.772166\n",
       "1    0.227834\n",
       "Name: response_category_2, dtype: float64"
      ]
     },
     "execution_count": 92,
     "metadata": {},
     "output_type": "execute_result"
    }
   ],
   "source": [
    "# Checking the training set balance\n",
    "\n",
    "y2_train.value_counts(normalize=True)"
   ]
  },
  {
   "cell_type": "code",
   "execution_count": 93,
   "id": "89ef47f5-8641-4a75-945f-6e6cdac6d41c",
   "metadata": {},
   "outputs": [],
   "source": [
    "weighted3_model_results = test_models_3(models3_weighted,\n",
    "                                        X3_train, y3_train,\n",
    "                                        X3_test, y3_test,\n",
    "                                        verbose=False)"
   ]
  },
  {
   "cell_type": "markdown",
   "id": "2a12937b-36a3-4624-ad30-4f233794fe55",
   "metadata": {},
   "source": [
    "### **RESULTS**"
   ]
  },
  {
   "cell_type": "code",
   "execution_count": 96,
   "id": "a9394a5a-2887-48ee-bdc9-0f21701855ba",
   "metadata": {},
   "outputs": [
    {
     "data": {
      "text/html": [
       "<div>\n",
       "<style scoped>\n",
       "    .dataframe tbody tr th:only-of-type {\n",
       "        vertical-align: middle;\n",
       "    }\n",
       "\n",
       "    .dataframe tbody tr th {\n",
       "        vertical-align: top;\n",
       "    }\n",
       "\n",
       "    .dataframe thead th {\n",
       "        text-align: right;\n",
       "    }\n",
       "</style>\n",
       "<table border=\"1\" class=\"dataframe\">\n",
       "  <thead>\n",
       "    <tr style=\"text-align: right;\">\n",
       "      <th></th>\n",
       "      <th>train_accuracy</th>\n",
       "      <th>test_accuracy</th>\n",
       "      <th>variance</th>\n",
       "      <th>test_precision</th>\n",
       "      <th>test_f1</th>\n",
       "    </tr>\n",
       "  </thead>\n",
       "  <tbody>\n",
       "    <tr>\n",
       "      <th>XGBoost</th>\n",
       "      <td>0.853594</td>\n",
       "      <td>0.793092</td>\n",
       "      <td>0.060502</td>\n",
       "      <td>0.771441</td>\n",
       "      <td>0.775054</td>\n",
       "    </tr>\n",
       "    <tr>\n",
       "      <th>Logistic Regression</th>\n",
       "      <td>0.790179</td>\n",
       "      <td>0.780921</td>\n",
       "      <td>0.009258</td>\n",
       "      <td>0.759900</td>\n",
       "      <td>0.765838</td>\n",
       "    </tr>\n",
       "    <tr>\n",
       "      <th>Bernoulli Naive Bayes</th>\n",
       "      <td>0.784751</td>\n",
       "      <td>0.780921</td>\n",
       "      <td>0.003830</td>\n",
       "      <td>0.766249</td>\n",
       "      <td>0.771612</td>\n",
       "    </tr>\n",
       "    <tr>\n",
       "      <th>Multinomial Naive Bayes</th>\n",
       "      <td>0.785985</td>\n",
       "      <td>0.778947</td>\n",
       "      <td>0.007037</td>\n",
       "      <td>0.741883</td>\n",
       "      <td>0.738991</td>\n",
       "    </tr>\n",
       "    <tr>\n",
       "      <th>Random Forest</th>\n",
       "      <td>0.893404</td>\n",
       "      <td>0.774342</td>\n",
       "      <td>0.119061</td>\n",
       "      <td>0.754835</td>\n",
       "      <td>0.761296</td>\n",
       "    </tr>\n",
       "    <tr>\n",
       "      <th>Most Frequent</th>\n",
       "      <td>0.772166</td>\n",
       "      <td>0.772368</td>\n",
       "      <td>-0.000202</td>\n",
       "      <td>0.596553</td>\n",
       "      <td>0.673170</td>\n",
       "    </tr>\n",
       "    <tr>\n",
       "      <th>Support Vector Classifier</th>\n",
       "      <td>0.772166</td>\n",
       "      <td>0.772368</td>\n",
       "      <td>-0.000202</td>\n",
       "      <td>0.596553</td>\n",
       "      <td>0.673170</td>\n",
       "    </tr>\n",
       "    <tr>\n",
       "      <th>Nearest Neighbors</th>\n",
       "      <td>0.833114</td>\n",
       "      <td>0.770395</td>\n",
       "      <td>0.062719</td>\n",
       "      <td>0.742941</td>\n",
       "      <td>0.750069</td>\n",
       "    </tr>\n",
       "  </tbody>\n",
       "</table>\n",
       "</div>"
      ],
      "text/plain": [
       "                           train_accuracy  test_accuracy  variance  \\\n",
       "XGBoost                          0.853594       0.793092  0.060502   \n",
       "Logistic Regression              0.790179       0.780921  0.009258   \n",
       "Bernoulli Naive Bayes            0.784751       0.780921  0.003830   \n",
       "Multinomial Naive Bayes          0.785985       0.778947  0.007037   \n",
       "Random Forest                    0.893404       0.774342  0.119061   \n",
       "Most Frequent                    0.772166       0.772368 -0.000202   \n",
       "Support Vector Classifier        0.772166       0.772368 -0.000202   \n",
       "Nearest Neighbors                0.833114       0.770395  0.062719   \n",
       "\n",
       "                           test_precision   test_f1  \n",
       "XGBoost                          0.771441  0.775054  \n",
       "Logistic Regression              0.759900  0.765838  \n",
       "Bernoulli Naive Bayes            0.766249  0.771612  \n",
       "Multinomial Naive Bayes          0.741883  0.738991  \n",
       "Random Forest                    0.754835  0.761296  \n",
       "Most Frequent                    0.596553  0.673170  \n",
       "Support Vector Classifier        0.596553  0.673170  \n",
       "Nearest Neighbors                0.742941  0.750069  "
      ]
     },
     "execution_count": 96,
     "metadata": {},
     "output_type": "execute_result"
    }
   ],
   "source": [
    "imbal3_model_results.sort_values(by='test_accuracy', ascending=False)"
   ]
  },
  {
   "cell_type": "code",
   "execution_count": 97,
   "id": "d0be2590-8bdf-4645-88cb-ba68cdc1654b",
   "metadata": {},
   "outputs": [
    {
     "data": {
      "text/html": [
       "<div>\n",
       "<style scoped>\n",
       "    .dataframe tbody tr th:only-of-type {\n",
       "        vertical-align: middle;\n",
       "    }\n",
       "\n",
       "    .dataframe tbody tr th {\n",
       "        vertical-align: top;\n",
       "    }\n",
       "\n",
       "    .dataframe thead th {\n",
       "        text-align: right;\n",
       "    }\n",
       "</style>\n",
       "<table border=\"1\" class=\"dataframe\">\n",
       "  <thead>\n",
       "    <tr style=\"text-align: right;\">\n",
       "      <th></th>\n",
       "      <th>train_accuracy</th>\n",
       "      <th>test_accuracy</th>\n",
       "      <th>variance</th>\n",
       "      <th>test_precision</th>\n",
       "      <th>test_f1</th>\n",
       "    </tr>\n",
       "  </thead>\n",
       "  <tbody>\n",
       "    <tr>\n",
       "      <th>XGBoost</th>\n",
       "      <td>0.699650</td>\n",
       "      <td>0.599671</td>\n",
       "      <td>0.099979</td>\n",
       "      <td>0.598291</td>\n",
       "      <td>0.598531</td>\n",
       "    </tr>\n",
       "    <tr>\n",
       "      <th>Multinomial Naive Bayes</th>\n",
       "      <td>0.513961</td>\n",
       "      <td>0.581579</td>\n",
       "      <td>-0.067618</td>\n",
       "      <td>0.571581</td>\n",
       "      <td>0.571975</td>\n",
       "    </tr>\n",
       "    <tr>\n",
       "      <th>Random Forest</th>\n",
       "      <td>0.784719</td>\n",
       "      <td>0.554934</td>\n",
       "      <td>0.229785</td>\n",
       "      <td>0.571598</td>\n",
       "      <td>0.561729</td>\n",
       "    </tr>\n",
       "    <tr>\n",
       "      <th>Nearest Neighbors</th>\n",
       "      <td>0.707113</td>\n",
       "      <td>0.533882</td>\n",
       "      <td>0.173232</td>\n",
       "      <td>0.552870</td>\n",
       "      <td>0.541436</td>\n",
       "    </tr>\n",
       "    <tr>\n",
       "      <th>Most Frequent</th>\n",
       "      <td>0.333333</td>\n",
       "      <td>0.525329</td>\n",
       "      <td>-0.191996</td>\n",
       "      <td>0.275971</td>\n",
       "      <td>0.361850</td>\n",
       "    </tr>\n",
       "    <tr>\n",
       "      <th>Support Vector Classifier</th>\n",
       "      <td>0.354313</td>\n",
       "      <td>0.264803</td>\n",
       "      <td>0.089511</td>\n",
       "      <td>0.505990</td>\n",
       "      <td>0.204455</td>\n",
       "    </tr>\n",
       "  </tbody>\n",
       "</table>\n",
       "</div>"
      ],
      "text/plain": [
       "                           train_accuracy  test_accuracy  variance  \\\n",
       "XGBoost                          0.699650       0.599671  0.099979   \n",
       "Multinomial Naive Bayes          0.513961       0.581579 -0.067618   \n",
       "Random Forest                    0.784719       0.554934  0.229785   \n",
       "Nearest Neighbors                0.707113       0.533882  0.173232   \n",
       "Most Frequent                    0.333333       0.525329 -0.191996   \n",
       "Support Vector Classifier        0.354313       0.264803  0.089511   \n",
       "\n",
       "                           test_precision   test_f1  \n",
       "XGBoost                          0.598291  0.598531  \n",
       "Multinomial Naive Bayes          0.571581  0.571975  \n",
       "Random Forest                    0.571598  0.561729  \n",
       "Nearest Neighbors                0.552870  0.541436  \n",
       "Most Frequent                    0.275971  0.361850  \n",
       "Support Vector Classifier        0.505990  0.204455  "
      ]
     },
     "execution_count": 97,
     "metadata": {},
     "output_type": "execute_result"
    }
   ],
   "source": [
    "oversampled3_model_results.sort_values(by='test_accuracy', ascending=False)"
   ]
  },
  {
   "cell_type": "code",
   "execution_count": 98,
   "id": "16ad5138-48ef-4b8a-ac68-ec97a578afea",
   "metadata": {},
   "outputs": [
    {
     "data": {
      "text/html": [
       "<div>\n",
       "<style scoped>\n",
       "    .dataframe tbody tr th:only-of-type {\n",
       "        vertical-align: middle;\n",
       "    }\n",
       "\n",
       "    .dataframe tbody tr th {\n",
       "        vertical-align: top;\n",
       "    }\n",
       "\n",
       "    .dataframe thead th {\n",
       "        text-align: right;\n",
       "    }\n",
       "</style>\n",
       "<table border=\"1\" class=\"dataframe\">\n",
       "  <thead>\n",
       "    <tr style=\"text-align: right;\">\n",
       "      <th></th>\n",
       "      <th>train_accuracy</th>\n",
       "      <th>test_accuracy</th>\n",
       "      <th>variance</th>\n",
       "      <th>test_precision</th>\n",
       "      <th>test_f1</th>\n",
       "    </tr>\n",
       "  </thead>\n",
       "  <tbody>\n",
       "    <tr>\n",
       "      <th>Most Frequent</th>\n",
       "      <td>0.333333</td>\n",
       "      <td>0.525329</td>\n",
       "      <td>-0.191996</td>\n",
       "      <td>0.275971</td>\n",
       "      <td>0.361850</td>\n",
       "    </tr>\n",
       "    <tr>\n",
       "      <th>Nearest Neighbors</th>\n",
       "      <td>0.627316</td>\n",
       "      <td>0.505921</td>\n",
       "      <td>0.121395</td>\n",
       "      <td>0.531912</td>\n",
       "      <td>0.514605</td>\n",
       "    </tr>\n",
       "    <tr>\n",
       "      <th>Multinomial Naive Bayes</th>\n",
       "      <td>0.544645</td>\n",
       "      <td>0.494079</td>\n",
       "      <td>0.050566</td>\n",
       "      <td>0.525610</td>\n",
       "      <td>0.503903</td>\n",
       "    </tr>\n",
       "    <tr>\n",
       "      <th>XGBoost</th>\n",
       "      <td>0.696871</td>\n",
       "      <td>0.468421</td>\n",
       "      <td>0.228450</td>\n",
       "      <td>0.533184</td>\n",
       "      <td>0.484021</td>\n",
       "    </tr>\n",
       "    <tr>\n",
       "      <th>Random Forest</th>\n",
       "      <td>0.758845</td>\n",
       "      <td>0.424013</td>\n",
       "      <td>0.334832</td>\n",
       "      <td>0.511740</td>\n",
       "      <td>0.438276</td>\n",
       "    </tr>\n",
       "    <tr>\n",
       "      <th>Support Vector Classifier</th>\n",
       "      <td>0.365343</td>\n",
       "      <td>0.262500</td>\n",
       "      <td>0.102843</td>\n",
       "      <td>0.487580</td>\n",
       "      <td>0.198714</td>\n",
       "    </tr>\n",
       "  </tbody>\n",
       "</table>\n",
       "</div>"
      ],
      "text/plain": [
       "                           train_accuracy  test_accuracy  variance  \\\n",
       "Most Frequent                    0.333333       0.525329 -0.191996   \n",
       "Nearest Neighbors                0.627316       0.505921  0.121395   \n",
       "Multinomial Naive Bayes          0.544645       0.494079  0.050566   \n",
       "XGBoost                          0.696871       0.468421  0.228450   \n",
       "Random Forest                    0.758845       0.424013  0.334832   \n",
       "Support Vector Classifier        0.365343       0.262500  0.102843   \n",
       "\n",
       "                           test_precision   test_f1  \n",
       "Most Frequent                    0.275971  0.361850  \n",
       "Nearest Neighbors                0.531912  0.514605  \n",
       "Multinomial Naive Bayes          0.525610  0.503903  \n",
       "XGBoost                          0.533184  0.484021  \n",
       "Random Forest                    0.511740  0.438276  \n",
       "Support Vector Classifier        0.487580  0.198714  "
      ]
     },
     "execution_count": 98,
     "metadata": {},
     "output_type": "execute_result"
    }
   ],
   "source": [
    "undersampled3_model_results.sort_values(by='test_accuracy', ascending=False)"
   ]
  },
  {
   "cell_type": "code",
   "execution_count": 99,
   "id": "528d154b-998d-4a49-8814-9cf746f2af7c",
   "metadata": {},
   "outputs": [
    {
     "data": {
      "text/html": [
       "<div>\n",
       "<style scoped>\n",
       "    .dataframe tbody tr th:only-of-type {\n",
       "        vertical-align: middle;\n",
       "    }\n",
       "\n",
       "    .dataframe tbody tr th {\n",
       "        vertical-align: top;\n",
       "    }\n",
       "\n",
       "    .dataframe thead th {\n",
       "        text-align: right;\n",
       "    }\n",
       "</style>\n",
       "<table border=\"1\" class=\"dataframe\">\n",
       "  <thead>\n",
       "    <tr style=\"text-align: right;\">\n",
       "      <th></th>\n",
       "      <th>train_accuracy</th>\n",
       "      <th>test_accuracy</th>\n",
       "      <th>variance</th>\n",
       "      <th>test_precision</th>\n",
       "      <th>test_f1</th>\n",
       "    </tr>\n",
       "  </thead>\n",
       "  <tbody>\n",
       "    <tr>\n",
       "      <th>XGBoost</th>\n",
       "      <td>0.721829</td>\n",
       "      <td>0.634211</td>\n",
       "      <td>0.087619</td>\n",
       "      <td>0.603785</td>\n",
       "      <td>0.606346</td>\n",
       "    </tr>\n",
       "    <tr>\n",
       "      <th>Nearest Neighbors</th>\n",
       "      <td>0.790837</td>\n",
       "      <td>0.599342</td>\n",
       "      <td>0.191495</td>\n",
       "      <td>0.573589</td>\n",
       "      <td>0.575004</td>\n",
       "    </tr>\n",
       "    <tr>\n",
       "      <th>Random Forest</th>\n",
       "      <td>0.785244</td>\n",
       "      <td>0.567105</td>\n",
       "      <td>0.218139</td>\n",
       "      <td>0.572082</td>\n",
       "      <td>0.569422</td>\n",
       "    </tr>\n",
       "    <tr>\n",
       "      <th>Support Vector Classifier</th>\n",
       "      <td>0.227834</td>\n",
       "      <td>0.227632</td>\n",
       "      <td>0.000202</td>\n",
       "      <td>0.051816</td>\n",
       "      <td>0.084416</td>\n",
       "    </tr>\n",
       "  </tbody>\n",
       "</table>\n",
       "</div>"
      ],
      "text/plain": [
       "                           train_accuracy  test_accuracy  variance  \\\n",
       "XGBoost                          0.721829       0.634211  0.087619   \n",
       "Nearest Neighbors                0.790837       0.599342  0.191495   \n",
       "Random Forest                    0.785244       0.567105  0.218139   \n",
       "Support Vector Classifier        0.227834       0.227632  0.000202   \n",
       "\n",
       "                           test_precision   test_f1  \n",
       "XGBoost                          0.603785  0.606346  \n",
       "Nearest Neighbors                0.573589  0.575004  \n",
       "Random Forest                    0.572082  0.569422  \n",
       "Support Vector Classifier        0.051816  0.084416  "
      ]
     },
     "execution_count": 99,
     "metadata": {},
     "output_type": "execute_result"
    }
   ],
   "source": [
    "weighted3_model_results.sort_values(by='test_accuracy', ascending=False)"
   ]
  },
  {
   "cell_type": "markdown",
   "id": "95b81e5a-1e0d-4a72-90eb-18ccc59b3840",
   "metadata": {},
   "source": [
    "### **SUMMARY**"
   ]
  },
  {
   "cell_type": "markdown",
   "id": "0cb352b8-df6c-4413-b0ed-465d2817f350",
   "metadata": {},
   "source": [
    "The **weighted models** performed best one last time, but still not great. The oversampled models performed similarly but with slightly lesser scores, and the undersampled models again were incomparable. Of the weighted models, **XGBoost** emerged as the best performed. The test accuracy was in the low 60's, variance was 0.087, and test precision was in the low 60's."
   ]
  },
  {
   "cell_type": "markdown",
   "id": "0c12d2d9-5c74-4896-a9b3-e1c4a6509828",
   "metadata": {},
   "source": [
    "____\n",
    "## Basline Modeling Comparison & Evaluation"
   ]
  },
  {
   "cell_type": "markdown",
   "id": "6b0bcdba-41d1-415a-bf6c-b08d3c779429",
   "metadata": {
    "tags": []
   },
   "source": [
    "### 2 Classes (with year) vs 3 Classes (with year)"
   ]
  },
  {
   "cell_type": "markdown",
   "id": "94664bcb-5664-45ab-8e27-41bfe6e74350",
   "metadata": {},
   "source": [
    "The weighted models performed best for both 2 classes and 3 classes. The 2 classes with year data weighted models performed better in terms of test accuracy and a lower variance. They achieved accuracy in the mid 70's (with a variance range of 0.009 and 0.048) while the 3 classes with year data were in the low 60's (with a variance range of 0.06 and 0.07). However, the 3 classes with year data weighted models performed better in terms of precision. They achieved precision in the low 60's while the 2 classes with year data were in the mid-high 40's."
   ]
  },
  {
   "cell_type": "markdown",
   "id": "b750edf9-fcea-4c41-9378-2154a1dd4d4b",
   "metadata": {},
   "source": [
    "### 2 Classes (no year) vs 3 Classes (no year)"
   ]
  },
  {
   "cell_type": "markdown",
   "id": "44f03804-9025-49f5-aa8e-1821f0c96d05",
   "metadata": {},
   "source": [
    "The weighted models performed best for both 2 classes and 3 classes here as well. The 2 classes with no year data weighted models performed better in terms of test accuracy and a lower variance. They achieved accuracy in the mid-high 70's (with a variance range of -0.0002 and 0.06) while the 3 classes with year data were in the low 60's (with a variance of 0.087). However, the 3 classes with no year data weighted models performed better in terms of precision. They achieved precision in the low 60's while the 2 classes with year data were in the mid-high 40's."
   ]
  },
  {
   "cell_type": "markdown",
   "id": "550961ad-47b1-4800-a714-7876f5b0cb74",
   "metadata": {},
   "source": [
    "____\n",
    "## Baseline Modeling Final Thoughts"
   ]
  },
  {
   "cell_type": "markdown",
   "id": "53edb7cc-96cc-48ca-a85e-01fb75bc8cb1",
   "metadata": {},
   "source": [
    "Overall, weighted models performed better than the models with oversampled or undersampled data. The best performing weighted models were Logistic Regression, Support Vector Classifier and XGBoost.\n",
    "\n",
    "Running models for 2 and 3 classes came with some interesting observations. It was assumed that because the classes weren't going to be as imbalanced as with 2 classes, that they would achieve a higher accuracy, but the opposite happened. The accuracy decreased substantially. However, they did do better with classifying the less frequent classes.\n",
    "\n",
    "Running models with and without year data also showed that the feature didn't impact model performance much, not even in terms of variance, which was the primary reason for testing this feature. After One-Hot-Encoding the data, when the year data was included, the dataframe contained 53 features. When the year data wasn't included, the dataframe contained 23 features, so it was thought that the variance might decrease without the year data, but it didn't make much of a difference. The accuracy and precision scores were also very similar with and without the year data.\n",
    "\n",
    "Due to the lack of clarity on the impact of using year data and using 2 or 3 classes, all four cases will be modeled and hyper-tuned using Logistic Regression, Support Vector Classifier and XGBoost, in the event that hyper-tuning causes the impact to become clearer."
   ]
  }
 ],
 "metadata": {
  "kernelspec": {
   "display_name": "Python 3 (ipykernel)",
   "language": "python",
   "name": "python3"
  },
  "language_info": {
   "codemirror_mode": {
    "name": "ipython",
    "version": 3
   },
   "file_extension": ".py",
   "mimetype": "text/x-python",
   "name": "python",
   "nbconvert_exporter": "python",
   "pygments_lexer": "ipython3",
   "version": "3.9.7"
  }
 },
 "nbformat": 4,
 "nbformat_minor": 5
}
